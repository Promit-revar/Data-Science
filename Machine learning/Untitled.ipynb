{
 "cells": [
  {
   "cell_type": "code",
   "execution_count": 1,
   "metadata": {},
   "outputs": [],
   "source": [
    "import numpy as np\n",
    "import matplotlib.pyplot as plt\n",
    "from sklearn.linear_model import LinearRegression\n",
    "from sklearn.model_selection import train_test_split"
   ]
  },
  {
   "cell_type": "code",
   "execution_count": 33,
   "metadata": {},
   "outputs": [
    {
     "data": {
      "text/plain": [
       "(array([62, 32, 14, 92, 32, 76, 35, 62, 51, 66, 46, 85, 96, 65, 45, 94, 44,\n",
       "        27, 66, 36, 12, 68, 39, 65, 14, 56, 35, 66, 49, 76, 20, 24, 32, 47,\n",
       "        94, 49, 53, 54, 22, 27, 74, 80, 62, 78, 85, 97, 18, 83, 47, 96, 87,\n",
       "        65, 16, 43, 96, 11, 57, 30, 35, 59, 41, 75, 46, 82, 72, 72, 32, 48,\n",
       "        64, 33, 66, 29, 64, 24, 63, 98, 25, 24, 52, 54, 22, 37,  2, 46,  5,\n",
       "        69, 89, 72, 87, 74, 89, 46, 17, 37, 85, 88, 74, 68, 30, 64, 71, 76,\n",
       "        14, 99, 43, 51, 47, 28, 65, 87,  6, 69,  8, 32, 26, 64,  5, 27, 24,\n",
       "        62, 82,  8, 58, 41, 90, 23, 89, 24, 64, 13, 60, 97, 94, 27, 52, 27,\n",
       "        83,  2, 30, 62, 30, 90, 90, 72, 79, 70, 74, 92, 61, 87, 11, 96, 86,\n",
       "        47, 53, 97, 92, 30, 29, 41, 62, 94, 93, 29, 45, 97, 41, 68, 73,  9,\n",
       "         6, 42, 50, 13, 97, 96, 30, 86, 39, 91, 81, 94, 55, 63,  6, 92, 66,\n",
       "        73, 54, 12, 80, 64,  8, 98, 90, 15, 77, 38, 96, 73, 44, 75, 21, 86,\n",
       "        22, 43, 30, 85, 95, 60, 62, 36, 90, 13, 79, 45, 48, 16, 73, 30, 20,\n",
       "        34, 42, 82, 88, 41, 26, 51, 64, 31, 55, 60, 35,  6, 94, 29, 23, 46,\n",
       "        51, 64, 12, 92, 86, 59,  9, 37, 70, 82, 11, 77, 34, 50, 99, 66, 57,\n",
       "        79, 32, 97, 12, 15, 62, 71, 53, 91, 74,  9, 17, 52, 61, 33, 69, 86,\n",
       "        30, 84, 17, 74, 70, 97, 18, 42, 39, 14, 43, 12, 43, 54, 13, 68, 10,\n",
       "        68, 21, 99, 17,  7, 40, 90, 86, 63, 92, 10, 98, 89, 71, 40, 14, 90,\n",
       "        42, 17, 19, 17, 68, 20,  9, 77,  6, 26, 58, 90, 60, 85, 39, 66, 23,\n",
       "        76, 13, 69, 22, 35, 62, 42,  2, 13, 42,  5, 95, 24, 47, 28, 85, 85,\n",
       "        38, 72, 16, 81, 22, 83, 42,  9, 18,  3, 76, 90, 53, 57, 64, 46, 13,\n",
       "        86, 54, 46, 71, 57, 84, 51, 44, 74, 37, 86, 95, 53, 42, 57, 16, 47,\n",
       "        37, 35, 34, 93, 63, 49, 79, 45, 58, 69, 33, 83, 62, 19, 75,  1, 42,\n",
       "        58, 45, 57, 68, 54, 40, 66, 10,  9, 66, 96, 91, 61, 97, 38,  8, 11,\n",
       "        45, 55,  9, 21, 61, 94, 30, 15, 48, 10, 17, 58, 50, 17, 16, 79, 63,\n",
       "        86, 29, 63, 85, 28, 67, 51, 99, 54, 48, 63, 75, 47, 90, 38, 83, 21,\n",
       "        42, 10,  4, 26, 12, 27, 84, 98, 69, 65, 26,  1, 42, 39, 50, 13, 95,\n",
       "        42, 39, 63, 54, 22, 61, 64, 83, 55, 35,  9, 40, 96, 22, 95, 45, 74,\n",
       "        63, 93, 37, 16, 28, 13, 88, 83, 74, 40, 16,  4, 86, 93, 85, 72, 80,\n",
       "        32, 81,  1, 82,  7, 12, 58, 49, 45, 31,  9, 45,  9, 64, 50, 36,  2,\n",
       "        49, 63, 97, 91, 90, 50, 39, 84, 95, 23, 80, 26, 90, 11, 15, 77,  1,\n",
       "        15, 36, 94, 96, 57, 90, 69, 87, 50, 37, 16, 49, 96, 26, 23, 68, 78,\n",
       "         4,  1, 46, 50, 84, 37, 64, 52, 42, 21, 28, 44, 55, 98, 38, 47, 38,\n",
       "        71, 13, 53, 13, 29, 35, 16, 62, 36, 22, 64, 84, 69,  8, 93, 69, 71,\n",
       "         5, 41, 44, 11, 66, 15, 41, 14, 65, 87, 35, 91, 16, 71, 45, 11, 42,\n",
       "        45, 78, 49, 21, 45, 70, 86, 62, 59, 31,  2, 79,  3,  2, 61, 80, 34,\n",
       "        13, 75, 65, 57, 19, 92, 88,  6, 57, 22, 33, 79, 59, 48,  5, 85, 68,\n",
       "        78, 45, 80, 80, 14,  5, 76, 39,  2,  3, 22, 41, 42, 91, 41, 20, 78,\n",
       "        43, 46, 98, 21, 35, 34, 24, 69, 23, 54, 25, 24, 31, 49, 22, 47, 10,\n",
       "        49, 58,  1, 33, 74, 78, 96, 42, 81, 49, 78, 57, 94, 61, 50, 30,  3,\n",
       "        14, 67, 31, 12,  8, 21,  6, 24, 60, 65, 78, 62, 25, 61, 53,  1, 96,\n",
       "        89, 95, 73, 66, 22,  9, 10, 51, 42, 85, 25, 55, 49, 48, 66, 71, 54,\n",
       "        34, 39, 77, 91, 40, 43, 85, 10, 77, 54, 49, 25, 19, 87, 52,  8, 61,\n",
       "        53, 92, 75, 21, 93, 86, 23, 33, 33,  7, 92, 84, 37, 53, 19, 82, 59,\n",
       "        56, 66, 94, 20, 91, 37,  1,  2, 83, 29,  2, 38, 79, 21, 55, 50, 92,\n",
       "        13, 41, 44, 98, 26, 26, 84, 46, 72, 24, 71, 95, 19, 73, 59, 55, 71,\n",
       "        95, 19, 68,  2, 44,  2, 43, 92, 58, 64, 50, 57, 99, 26, 27, 35, 78,\n",
       "        69, 12, 73,  2, 45, 46, 59, 26, 39, 84, 14, 12, 35, 50,  5, 65,  1,\n",
       "        39, 66, 73, 65, 11,  2, 82, 98, 52, 95, 34, 56, 89, 50, 39, 54, 38,\n",
       "        50, 99, 47, 61, 23, 17, 75, 85, 13, 77, 95, 32, 25, 21, 49, 40, 62,\n",
       "        70, 71, 37, 96,  4, 94, 41,  7, 54,  1, 27, 63,  6, 15, 88, 23, 50,\n",
       "        56, 68, 20, 54, 41, 53, 56,  4,  2, 12,  6, 62, 61, 17, 23, 31, 12,\n",
       "        29, 33, 41, 96, 16, 34, 39, 65, 26, 43, 37, 83, 30, 87, 96, 76, 39,\n",
       "         3, 76, 99, 79, 40,  4, 64, 71, 53, 22,  1, 84, 86, 16, 41, 36,  7,\n",
       "        67, 27, 20,  4, 98,  2, 28, 16, 57, 95, 70, 69, 42, 83, 78, 28, 52,\n",
       "        88,  2, 15,  2, 47, 20, 18, 24, 78, 86, 69, 85, 91, 59,  6,  1, 36,\n",
       "        88, 56, 57, 44, 94, 92,  3, 85, 63, 76, 75, 28, 73, 39, 55, 79, 91,\n",
       "        78, 92, 15, 60, 49, 52, 71, 32, 38, 24, 40, 39, 85, 25, 62, 61, 66,\n",
       "        85, 57, 27, 77, 43,  1, 57, 15, 39, 28, 26, 57, 45,  9]),\n",
       " array([6, 5, 9, 5, 6, 3, 9, 2, 9, 1, 9, 8, 8, 7, 1, 7, 2, 5, 3, 2, 5, 6,\n",
       "        8, 3, 7, 6, 2, 5, 7, 4, 4, 3, 8, 8, 7, 5, 8, 1, 2, 4, 1, 5, 2, 6,\n",
       "        2, 2, 1, 5, 9, 3, 8, 4, 5, 9, 6, 1, 2, 2, 6, 6, 1, 8, 5, 2, 5, 9,\n",
       "        3, 9, 3, 5, 1, 2, 5, 3, 3, 9, 4, 6, 3, 7, 8, 2, 8, 8, 7, 9, 3, 2,\n",
       "        9, 5, 6, 6, 7, 4, 5, 8, 4, 4, 7, 5, 2, 4, 3, 2, 4, 3, 7, 9, 8, 5,\n",
       "        4, 9, 9, 4, 5, 6, 9, 4, 2, 2, 6, 5, 3, 9, 2, 5, 6, 9, 6, 5, 7, 7,\n",
       "        8, 4, 4, 1, 8, 1, 6, 1, 7, 4, 2, 8, 8, 7, 4, 4, 3, 1, 8, 4, 9, 5,\n",
       "        7, 2, 2, 8, 4, 3, 3, 6, 4, 3, 3, 6, 4, 4, 5, 6, 5, 2, 7, 2, 3, 7,\n",
       "        4, 7, 2, 2, 7, 5, 4, 1, 2, 2, 6, 9, 8, 7, 5, 2, 6, 1, 9, 6, 7, 1,\n",
       "        4, 2, 2, 8, 3, 1, 9, 2, 1, 1, 6, 4, 6, 4, 2, 5, 6, 7, 1, 4, 6, 1,\n",
       "        3, 1, 5, 8, 2, 8, 8, 7, 8, 7, 8, 7, 6, 8, 1, 2, 5, 9, 8, 9, 4, 7,\n",
       "        9, 3, 7, 6, 8, 1, 7, 3, 4, 8, 9, 7, 8, 6, 8, 8, 5, 6, 1, 4, 6, 6,\n",
       "        2, 2, 9, 8, 5, 1, 2, 1, 3, 8, 5, 1, 8, 4, 5, 5, 3, 2, 1, 9, 4, 7,\n",
       "        8, 4, 5, 8, 8, 1, 6, 4, 1, 2, 9, 6, 2, 9, 7, 3, 8, 7, 5, 6, 2, 5,\n",
       "        4, 4, 2, 4, 3, 9, 9, 4, 7, 4, 5, 3, 9, 7, 8, 5, 7, 3, 9, 4, 1, 2,\n",
       "        4, 6, 4, 4, 3, 9, 7, 3, 7, 7, 6, 5, 1, 4, 6, 8, 5, 6, 9, 4, 9, 3,\n",
       "        7, 2, 2, 4, 7, 4, 7, 8, 3, 2, 9, 7, 3, 7, 9, 2, 6, 4, 2, 2, 4, 9,\n",
       "        8, 1, 5, 6, 8, 7, 6, 1, 3, 3, 8, 9, 8, 4, 9, 8, 2, 1, 4, 1, 4, 2,\n",
       "        3, 6, 8, 5, 2, 6, 9, 6, 2, 3, 7, 6, 1, 6, 8, 7, 6, 7, 8, 6, 2, 5,\n",
       "        4, 4, 8, 9, 6, 1, 7, 1, 1, 4, 2, 6, 9, 5, 6, 7, 7, 2, 3, 3, 5, 8,\n",
       "        6, 5, 8, 2, 9, 9, 4, 9, 7, 9, 6, 5, 5, 6, 1, 8, 5, 8, 6, 1, 7, 1,\n",
       "        4, 1, 4, 3, 2, 3, 6, 9, 8, 7, 5, 2, 8, 7, 9, 6, 1, 2, 4, 1, 5, 4,\n",
       "        8, 8, 1, 3, 2, 9, 1, 8, 3, 4, 6, 5, 9, 2, 2, 3, 7, 2, 8, 8, 4, 4,\n",
       "        8, 9, 7, 1, 3, 4, 5, 7, 9, 6, 3, 8, 8, 2, 2, 8, 3, 3, 9, 8, 9, 5,\n",
       "        9, 5, 9, 3, 9, 1, 4, 5, 9, 1, 7, 1, 1, 6, 1, 4, 6, 2, 5, 6, 4, 6,\n",
       "        1, 6, 1, 3, 6, 8, 8, 9, 8, 2, 7, 1, 5, 5, 7, 2, 3, 9, 9, 6, 8, 4,\n",
       "        9, 7, 8, 1, 4, 7, 7, 1, 6, 2, 5, 3, 6, 7, 4, 3, 5, 8, 4, 8, 7, 8,\n",
       "        8, 2, 7, 8, 4, 9, 8, 2, 7, 3, 6, 7, 7, 1, 9, 5, 2, 5, 3, 4, 2, 8,\n",
       "        8, 6, 5, 2, 3, 9, 5, 9, 6, 3, 8, 2, 7, 2, 1, 8, 6, 4, 2, 4, 3, 5,\n",
       "        2, 5, 8, 2, 6, 2, 3, 5, 2, 5, 8, 5, 7, 9, 1, 7, 2, 2, 3, 3, 4, 1,\n",
       "        6, 2, 7, 8, 2, 2, 5, 1, 4, 7, 6, 6, 2, 3, 5, 6, 6, 6, 4, 4, 8, 5,\n",
       "        7, 6, 4, 1, 8, 8, 7, 1, 4, 4, 5, 1, 3, 4, 3, 6, 9, 3, 9, 1, 6, 9,\n",
       "        2, 8, 1, 4, 8, 6, 8, 5, 7, 7, 6, 2, 1, 6, 3, 4, 5, 6, 1, 2, 5, 2,\n",
       "        3, 8, 7, 5, 6, 5, 1, 7, 4, 8, 1, 8, 1, 8, 9, 8, 1, 6, 4, 7, 8, 1,\n",
       "        4, 5, 3, 8, 4, 9, 8, 6, 5, 5, 1, 8, 2, 5, 5, 5, 4, 4, 1, 4, 1, 6,\n",
       "        3, 7, 3, 8, 2, 2, 6, 8, 3, 6, 4, 5, 1, 5, 1, 4, 9, 1, 7, 2, 4, 3,\n",
       "        1, 9, 7, 1, 8, 1, 5, 9, 2, 2, 7, 1, 5, 8, 4, 8, 5, 6, 2, 3, 1, 9,\n",
       "        3, 3, 2, 8, 3, 9, 4, 8, 1, 2, 7, 8, 1, 1, 5, 8, 2, 6, 1, 6, 4, 8,\n",
       "        6, 9, 9, 4, 4, 3, 3, 5, 8, 5, 2, 1, 6, 4, 3, 3, 1, 1, 2, 9, 7, 9,\n",
       "        1, 3, 8, 3, 2, 1, 1, 2, 6, 5, 9, 4, 5, 8, 8, 8, 9, 6, 8, 1, 9, 4,\n",
       "        1, 1, 3, 6, 8, 2, 3, 8, 4, 1, 1, 6, 6, 7, 4, 1, 1, 3, 2, 7, 5, 4,\n",
       "        1, 5, 9, 1, 8, 8, 4, 7, 8, 3, 3, 5, 3, 9, 3, 8, 8, 3, 4, 8, 4, 4,\n",
       "        6, 7, 3, 7, 2, 8, 2, 7, 3, 3, 3, 2, 3, 3, 4, 8, 7, 4, 3, 7, 3, 6,\n",
       "        3, 5, 4, 9, 8, 3, 7, 4, 1, 6, 3, 3, 3, 3, 8, 4, 6, 7, 8, 4, 6, 2,\n",
       "        2, 3, 3, 6, 6, 1, 6, 2, 3, 2, 4, 7, 7, 7, 2, 3, 6, 2, 1, 5, 2, 4,\n",
       "        2, 8, 9, 1, 1, 6, 7, 7, 8, 8]))"
      ]
     },
     "execution_count": 33,
     "metadata": {},
     "output_type": "execute_result"
    }
   ],
   "source": [
    "x=np.random.randint(1,100,1000)\n",
    "y=np.random.randint(1,10,1000)\n",
    "x,y"
   ]
  },
  {
   "cell_type": "code",
   "execution_count": 34,
   "metadata": {},
   "outputs": [],
   "source": [
    "X_train,X_test,Y_train,Y_test=train_test_split(x,y)"
   ]
  },
  {
   "cell_type": "code",
   "execution_count": 35,
   "metadata": {},
   "outputs": [
    {
     "data": {
      "text/plain": [
       "((750,), (250,))"
      ]
     },
     "execution_count": 35,
     "metadata": {},
     "output_type": "execute_result"
    }
   ],
   "source": [
    "X_train.shape,X_test.shape"
   ]
  },
  {
   "cell_type": "code",
   "execution_count": 36,
   "metadata": {},
   "outputs": [],
   "source": [
    "X_train=X_train.reshape(-1,1)\n",
    "Y_train=Y_train.reshape(-1,1)"
   ]
  },
  {
   "cell_type": "code",
   "execution_count": 37,
   "metadata": {},
   "outputs": [
    {
     "data": {
      "text/plain": [
       "LinearRegression()"
      ]
     },
     "execution_count": 37,
     "metadata": {},
     "output_type": "execute_result"
    }
   ],
   "source": [
    "algo=LinearRegression()\n",
    "algo.fit(X_train,Y_train)"
   ]
  },
  {
   "cell_type": "code",
   "execution_count": 38,
   "metadata": {},
   "outputs": [],
   "source": [
    "m=algo.coef_ # m value or slope of line\n",
    "c=algo.intercept_# intercept of the regression line"
   ]
  },
  {
   "cell_type": "code",
   "execution_count": 39,
   "metadata": {},
   "outputs": [
    {
     "data": {
      "text/plain": [
       "array([[5.09651838, 5.09612134, 5.0957243 , 5.09532726, 5.09493022,\n",
       "        5.09453317, 5.09413613, 5.09373909, 5.09334205, 5.09294501,\n",
       "        5.09254797, 5.09215093, 5.09175389, 5.09135685, 5.09095981,\n",
       "        5.09056277, 5.09016573, 5.08976869, 5.08937165, 5.08897461,\n",
       "        5.08857757, 5.08818053, 5.08778349, 5.08738645, 5.08698941,\n",
       "        5.08659237, 5.08619533, 5.08579829, 5.08540125, 5.08500421,\n",
       "        5.08460717, 5.08421013, 5.08381309, 5.08341604, 5.083019  ,\n",
       "        5.08262196, 5.08222492, 5.08182788, 5.08143084, 5.0810338 ,\n",
       "        5.08063676, 5.08023972, 5.07984268, 5.07944564, 5.0790486 ,\n",
       "        5.07865156, 5.07825452, 5.07785748, 5.07746044, 5.0770634 ,\n",
       "        5.07666636, 5.07626932, 5.07587228, 5.07547524, 5.0750782 ,\n",
       "        5.07468116, 5.07428412, 5.07388708, 5.07349004, 5.073093  ,\n",
       "        5.07269595, 5.07229891, 5.07190187, 5.07150483, 5.07110779,\n",
       "        5.07071075, 5.07031371, 5.06991667, 5.06951963, 5.06912259,\n",
       "        5.06872555, 5.06832851, 5.06793147, 5.06753443, 5.06713739,\n",
       "        5.06674035, 5.06634331, 5.06594627, 5.06554923, 5.06515219,\n",
       "        5.06475515, 5.06435811, 5.06396107, 5.06356403, 5.06316699,\n",
       "        5.06276995, 5.06237291, 5.06197587, 5.06157882, 5.06118178,\n",
       "        5.06078474, 5.0603877 , 5.05999066, 5.05959362, 5.05919658,\n",
       "        5.05879954, 5.0584025 , 5.05800546, 5.05760842, 5.05721138,\n",
       "        5.05681434, 5.0564173 , 5.05602026, 5.05562322, 5.05522618,\n",
       "        5.05482914, 5.0544321 , 5.05403506, 5.05363802, 5.05324098,\n",
       "        5.05284394, 5.0524469 , 5.05204986, 5.05165282, 5.05125578,\n",
       "        5.05085873, 5.05046169, 5.05006465, 5.04966761, 5.04927057,\n",
       "        5.04887353, 5.04847649, 5.04807945, 5.04768241, 5.04728537,\n",
       "        5.04688833, 5.04649129, 5.04609425, 5.04569721, 5.04530017,\n",
       "        5.04490313, 5.04450609, 5.04410905, 5.04371201, 5.04331497,\n",
       "        5.04291793, 5.04252089, 5.04212385, 5.04172681, 5.04132977,\n",
       "        5.04093273, 5.04053569, 5.04013864, 5.0397416 , 5.03934456,\n",
       "        5.03894752, 5.03855048, 5.03815344, 5.0377564 , 5.03735936,\n",
       "        5.03696232, 5.03656528, 5.03616824, 5.0357712 , 5.03537416,\n",
       "        5.03497712, 5.03458008, 5.03418304, 5.033786  , 5.03338896,\n",
       "        5.03299192, 5.03259488, 5.03219784, 5.0318008 , 5.03140376,\n",
       "        5.03100672, 5.03060968, 5.03021264, 5.0298156 , 5.02941856,\n",
       "        5.02902151, 5.02862447, 5.02822743, 5.02783039, 5.02743335,\n",
       "        5.02703631, 5.02663927, 5.02624223, 5.02584519, 5.02544815,\n",
       "        5.02505111, 5.02465407, 5.02425703, 5.02385999, 5.02346295,\n",
       "        5.02306591, 5.02266887, 5.02227183, 5.02187479, 5.02147775,\n",
       "        5.02108071, 5.02068367, 5.02028663, 5.01988959, 5.01949255,\n",
       "        5.01909551, 5.01869847, 5.01830142, 5.01790438, 5.01750734,\n",
       "        5.0171103 , 5.01671326, 5.01631622, 5.01591918, 5.01552214,\n",
       "        5.0151251 , 5.01472806, 5.01433102, 5.01393398, 5.01353694,\n",
       "        5.0131399 , 5.01274286, 5.01234582, 5.01194878, 5.01155174,\n",
       "        5.0111547 , 5.01075766, 5.01036062, 5.00996358, 5.00956654,\n",
       "        5.0091695 , 5.00877246, 5.00837542, 5.00797838, 5.00758134,\n",
       "        5.00718429, 5.00678725, 5.00639021, 5.00599317, 5.00559613,\n",
       "        5.00519909, 5.00480205, 5.00440501, 5.00400797, 5.00361093,\n",
       "        5.00321389, 5.00281685, 5.00241981, 5.00202277, 5.00162573,\n",
       "        5.00122869, 5.00083165, 5.00043461, 5.00003757, 4.99964053,\n",
       "        4.99924349, 4.99884645, 4.99844941, 4.99805237, 4.99765533,\n",
       "        4.99725829, 4.99686125, 4.9964642 , 4.99606716, 4.99567012,\n",
       "        4.99527308, 4.99487604, 4.994479  , 4.99408196, 4.99368492,\n",
       "        4.99328788, 4.99289084, 4.9924938 , 4.99209676, 4.99169972,\n",
       "        4.99130268, 4.99090564, 4.9905086 , 4.99011156, 4.98971452,\n",
       "        4.98931748, 4.98892044, 4.9885234 , 4.98812636, 4.98772932,\n",
       "        4.98733228, 4.98693524, 4.9865382 , 4.98614116, 4.98574411,\n",
       "        4.98534707, 4.98495003, 4.98455299, 4.98415595, 4.98375891,\n",
       "        4.98336187, 4.98296483, 4.98256779, 4.98217075, 4.98177371,\n",
       "        4.98137667, 4.98097963, 4.98058259, 4.98018555, 4.97978851,\n",
       "        4.97939147, 4.97899443, 4.97859739, 4.97820035, 4.97780331,\n",
       "        4.97740627, 4.97700923, 4.97661219, 4.97621515, 4.97581811,\n",
       "        4.97542107, 4.97502403, 4.97462698, 4.97422994, 4.9738329 ,\n",
       "        4.97343586, 4.97303882, 4.97264178, 4.97224474, 4.9718477 ,\n",
       "        4.97145066, 4.97105362, 4.97065658, 4.97025954, 4.9698625 ,\n",
       "        4.96946546, 4.96906842, 4.96867138, 4.96827434, 4.9678773 ,\n",
       "        4.96748026, 4.96708322, 4.96668618, 4.96628914, 4.9658921 ,\n",
       "        4.96549506, 4.96509802, 4.96470098, 4.96430394, 4.96390689,\n",
       "        4.96350985, 4.96311281, 4.96271577, 4.96231873, 4.96192169,\n",
       "        4.96152465, 4.96112761, 4.96073057, 4.96033353, 4.95993649,\n",
       "        4.95953945, 4.95914241, 4.95874537, 4.95834833, 4.95795129,\n",
       "        4.95755425, 4.95715721, 4.95676017, 4.95636313, 4.95596609,\n",
       "        4.95556905, 4.95517201, 4.95477497, 4.95437793, 4.95398089,\n",
       "        4.95358385, 4.95318681, 4.95278976, 4.95239272, 4.95199568,\n",
       "        4.95159864, 4.9512016 , 4.95080456, 4.95040752, 4.95001048,\n",
       "        4.94961344, 4.9492164 , 4.94881936, 4.94842232, 4.94802528,\n",
       "        4.94762824, 4.9472312 , 4.94683416, 4.94643712, 4.94604008,\n",
       "        4.94564304, 4.945246  , 4.94484896, 4.94445192, 4.94405488,\n",
       "        4.94365784, 4.9432608 , 4.94286376, 4.94246672, 4.94206967,\n",
       "        4.94167263, 4.94127559, 4.94087855, 4.94048151, 4.94008447,\n",
       "        4.93968743, 4.93929039, 4.93889335, 4.93849631, 4.93809927,\n",
       "        4.93770223, 4.93730519, 4.93690815, 4.93651111, 4.93611407,\n",
       "        4.93571703, 4.93531999, 4.93492295, 4.93452591, 4.93412887,\n",
       "        4.93373183, 4.93333479, 4.93293775, 4.93254071, 4.93214367,\n",
       "        4.93174663, 4.93134958, 4.93095254, 4.9305555 , 4.93015846,\n",
       "        4.92976142, 4.92936438, 4.92896734, 4.9285703 , 4.92817326,\n",
       "        4.92777622, 4.92737918, 4.92698214, 4.9265851 , 4.92618806,\n",
       "        4.92579102, 4.92539398, 4.92499694, 4.9245999 , 4.92420286,\n",
       "        4.92380582, 4.92340878, 4.92301174, 4.9226147 , 4.92221766,\n",
       "        4.92182062, 4.92142358, 4.92102654, 4.9206295 , 4.92023245,\n",
       "        4.91983541, 4.91943837, 4.91904133, 4.91864429, 4.91824725,\n",
       "        4.91785021, 4.91745317, 4.91705613, 4.91665909, 4.91626205,\n",
       "        4.91586501, 4.91546797, 4.91507093, 4.91467389, 4.91427685,\n",
       "        4.91387981, 4.91348277, 4.91308573, 4.91268869, 4.91229165,\n",
       "        4.91189461, 4.91149757, 4.91110053, 4.91070349, 4.91030645,\n",
       "        4.90990941, 4.90951236, 4.90911532, 4.90871828, 4.90832124,\n",
       "        4.9079242 , 4.90752716, 4.90713012, 4.90673308, 4.90633604,\n",
       "        4.905939  , 4.90554196, 4.90514492, 4.90474788, 4.90435084,\n",
       "        4.9039538 , 4.90355676, 4.90315972, 4.90276268, 4.90236564,\n",
       "        4.9019686 , 4.90157156, 4.90117452, 4.90077748, 4.90038044,\n",
       "        4.8999834 , 4.89958636, 4.89918932, 4.89879227, 4.89839523,\n",
       "        4.89799819, 4.89760115, 4.89720411, 4.89680707, 4.89641003,\n",
       "        4.89601299, 4.89561595, 4.89521891, 4.89482187, 4.89442483,\n",
       "        4.89402779, 4.89363075, 4.89323371, 4.89283667, 4.89243963,\n",
       "        4.89204259, 4.89164555, 4.89124851, 4.89085147, 4.89045443,\n",
       "        4.89005739, 4.88966035, 4.88926331, 4.88886627, 4.88846923,\n",
       "        4.88807219, 4.88767514, 4.8872781 , 4.88688106, 4.88648402,\n",
       "        4.88608698, 4.88568994, 4.8852929 , 4.88489586, 4.88449882,\n",
       "        4.88410178, 4.88370474, 4.8833077 , 4.88291066, 4.88251362,\n",
       "        4.88211658, 4.88171954, 4.8813225 , 4.88092546, 4.88052842,\n",
       "        4.88013138, 4.87973434, 4.8793373 , 4.87894026, 4.87854322,\n",
       "        4.87814618, 4.87774914, 4.8773521 , 4.87695505, 4.87655801,\n",
       "        4.87616097, 4.87576393, 4.87536689, 4.87496985, 4.87457281,\n",
       "        4.87417577, 4.87377873, 4.87338169, 4.87298465, 4.87258761,\n",
       "        4.87219057, 4.87179353, 4.87139649, 4.87099945, 4.87060241,\n",
       "        4.87020537, 4.86980833, 4.86941129, 4.86901425, 4.86861721,\n",
       "        4.86822017, 4.86782313, 4.86742609, 4.86702905, 4.86663201,\n",
       "        4.86623497, 4.86583792, 4.86544088, 4.86504384, 4.8646468 ,\n",
       "        4.86424976, 4.86385272, 4.86345568, 4.86305864, 4.8626616 ,\n",
       "        4.86226456, 4.86186752, 4.86147048, 4.86107344, 4.8606764 ,\n",
       "        4.86027936, 4.85988232, 4.85948528, 4.85908824, 4.8586912 ,\n",
       "        4.85829416, 4.85789712, 4.85750008, 4.85710304, 4.856706  ,\n",
       "        4.85630896, 4.85591192, 4.85551488, 4.85511783, 4.85472079,\n",
       "        4.85432375, 4.85392671, 4.85352967, 4.85313263, 4.85273559,\n",
       "        4.85233855, 4.85194151, 4.85154447, 4.85114743, 4.85075039,\n",
       "        4.85035335, 4.84995631, 4.84955927, 4.84916223, 4.84876519,\n",
       "        4.84836815, 4.84797111, 4.84757407, 4.84717703, 4.84677999,\n",
       "        4.84638295, 4.84598591, 4.84558887, 4.84519183, 4.84479479,\n",
       "        4.84439774, 4.8440007 , 4.84360366, 4.84320662, 4.84280958,\n",
       "        4.84241254, 4.8420155 , 4.84161846, 4.84122142, 4.84082438,\n",
       "        4.84042734, 4.8400303 , 4.83963326, 4.83923622, 4.83883918,\n",
       "        4.83844214, 4.8380451 , 4.83764806, 4.83725102, 4.83685398,\n",
       "        4.83645694, 4.8360599 , 4.83566286, 4.83526582, 4.83486878,\n",
       "        4.83447174, 4.8340747 , 4.83367766, 4.83328061, 4.83288357,\n",
       "        4.83248653, 4.83208949, 4.83169245, 4.83129541, 4.83089837,\n",
       "        4.83050133, 4.83010429, 4.82970725, 4.82931021, 4.82891317,\n",
       "        4.82851613, 4.82811909, 4.82772205, 4.82732501, 4.82692797,\n",
       "        4.82653093, 4.82613389, 4.82573685, 4.82533981, 4.82494277,\n",
       "        4.82454573, 4.82414869, 4.82375165, 4.82335461, 4.82295757,\n",
       "        4.82256052, 4.82216348, 4.82176644, 4.8213694 , 4.82097236,\n",
       "        4.82057532, 4.82017828, 4.81978124, 4.8193842 , 4.81898716,\n",
       "        4.81859012, 4.81819308, 4.81779604, 4.817399  , 4.81700196,\n",
       "        4.81660492, 4.81620788, 4.81581084, 4.8154138 , 4.81501676,\n",
       "        4.81461972, 4.81422268, 4.81382564, 4.8134286 , 4.81303156,\n",
       "        4.81263452, 4.81223748, 4.81184044, 4.81144339, 4.81104635,\n",
       "        4.81064931, 4.81025227, 4.80985523, 4.80945819, 4.80906115,\n",
       "        4.80866411, 4.80826707, 4.80787003, 4.80747299, 4.80707595,\n",
       "        4.80667891, 4.80628187, 4.80588483, 4.80548779, 4.80509075,\n",
       "        4.80469371, 4.80429667, 4.80389963, 4.80350259, 4.80310555,\n",
       "        4.80270851, 4.80231147, 4.80191443, 4.80151739, 4.80112035,\n",
       "        4.8007233 , 4.80032626, 4.79992922, 4.79953218, 4.79913514,\n",
       "        4.7987381 , 4.79834106, 4.79794402, 4.79754698, 4.79714994,\n",
       "        4.7967529 , 4.79635586, 4.79595882, 4.79556178, 4.79516474,\n",
       "        4.7947677 , 4.79437066, 4.79397362, 4.79357658, 4.79317954,\n",
       "        4.7927825 , 4.79238546, 4.79198842, 4.79159138, 4.79119434,\n",
       "        4.7907973 , 4.79040026, 4.79000321, 4.78960617, 4.78920913,\n",
       "        4.78881209, 4.78841505, 4.78801801, 4.78762097, 4.78722393,\n",
       "        4.78682689, 4.78642985, 4.78603281, 4.78563577, 4.78523873,\n",
       "        4.78484169, 4.78444465, 4.78404761, 4.78365057, 4.78325353,\n",
       "        4.78285649, 4.78245945, 4.78206241, 4.78166537, 4.78126833,\n",
       "        4.78087129, 4.78047425, 4.78007721, 4.77968017, 4.77928313,\n",
       "        4.77888608, 4.77848904, 4.778092  , 4.77769496, 4.77729792,\n",
       "        4.77690088, 4.77650384, 4.7761068 , 4.77570976, 4.77531272,\n",
       "        4.77491568, 4.77451864, 4.7741216 , 4.77372456, 4.77332752,\n",
       "        4.77293048, 4.77253344, 4.7721364 , 4.77173936, 4.77134232,\n",
       "        4.77094528, 4.77054824, 4.7701512 , 4.76975416, 4.76935712,\n",
       "        4.76896008, 4.76856304, 4.76816599, 4.76776895, 4.76737191,\n",
       "        4.76697487, 4.76657783, 4.76618079, 4.76578375, 4.76538671,\n",
       "        4.76498967, 4.76459263, 4.76419559, 4.76379855, 4.76340151,\n",
       "        4.76300447, 4.76260743, 4.76221039, 4.76181335, 4.76141631,\n",
       "        4.76101927, 4.76062223, 4.76022519, 4.75982815, 4.75943111,\n",
       "        4.75903407, 4.75863703, 4.75823999, 4.75784295, 4.75744591,\n",
       "        4.75704886, 4.75665182, 4.75625478, 4.75585774, 4.7554607 ,\n",
       "        4.75506366, 4.75466662, 4.75426958, 4.75387254, 4.7534755 ,\n",
       "        4.75307846, 4.75268142, 4.75228438, 4.75188734, 4.7514903 ,\n",
       "        4.75109326, 4.75069622, 4.75029918, 4.74990214, 4.7495051 ,\n",
       "        4.74910806, 4.74871102, 4.74831398, 4.74791694, 4.7475199 ,\n",
       "        4.74712286, 4.74672582, 4.74632877, 4.74593173, 4.74553469,\n",
       "        4.74513765, 4.74474061, 4.74434357, 4.74394653, 4.74354949,\n",
       "        4.74315245, 4.74275541, 4.74235837, 4.74196133, 4.74156429,\n",
       "        4.74116725, 4.74077021, 4.74037317, 4.73997613, 4.73957909,\n",
       "        4.73918205, 4.73878501, 4.73838797, 4.73799093, 4.73759389,\n",
       "        4.73719685, 4.73679981, 4.73640277, 4.73600573, 4.73560868,\n",
       "        4.73521164, 4.7348146 , 4.73441756, 4.73402052, 4.73362348,\n",
       "        4.73322644, 4.7328294 , 4.73243236, 4.73203532, 4.73163828,\n",
       "        4.73124124, 4.7308442 , 4.73044716, 4.73005012, 4.72965308,\n",
       "        4.72925604, 4.728859  , 4.72846196, 4.72806492, 4.72766788,\n",
       "        4.72727084, 4.7268738 , 4.72647676, 4.72607972, 4.72568268,\n",
       "        4.72528564, 4.7248886 , 4.72449155, 4.72409451, 4.72369747,\n",
       "        4.72330043, 4.72290339, 4.72250635, 4.72210931, 4.72171227,\n",
       "        4.72131523, 4.72091819, 4.72052115, 4.72012411, 4.71972707,\n",
       "        4.71933003, 4.71893299, 4.71853595, 4.71813891, 4.71774187,\n",
       "        4.71734483, 4.71694779, 4.71655075, 4.71615371, 4.71575667,\n",
       "        4.71535963, 4.71496259, 4.71456555, 4.71416851, 4.71377146,\n",
       "        4.71337442, 4.71297738, 4.71258034, 4.7121833 , 4.71178626,\n",
       "        4.71138922, 4.71099218, 4.71059514, 4.7101981 , 4.70980106,\n",
       "        4.70940402, 4.70900698, 4.70860994, 4.7082129 , 4.70781586,\n",
       "        4.70741882, 4.70702178, 4.70662474, 4.7062277 , 4.70583066,\n",
       "        4.70543362, 4.70503658, 4.70463954, 4.7042425 , 4.70384546]])"
      ]
     },
     "execution_count": 39,
     "metadata": {},
     "output_type": "execute_result"
    }
   ],
   "source": [
    "xs=np.arange(1,100,0.1)\n",
    "ys=(m*xs)+c\n",
    "xs.shape,ys.shape\n",
    "ys"
   ]
  },
  {
   "cell_type": "code",
   "execution_count": 40,
   "metadata": {},
   "outputs": [
    {
     "data": {
      "image/png": "[encoded data removed]",
      "text/plain": [
       "<Figure size 432x288 with 1 Axes>"
      ]
     },
     "metadata": {
      "needs_background": "light"
     },
     "output_type": "display_data"
    }
   ],
   "source": [
    "plt.plot(xs,ys.T,'r')\n",
    "plt.scatter(X_train,Y_train)\n",
    "plt.show()"
   ]
  },
  {
   "cell_type": "code",
   "execution_count": 46,
   "metadata": {},
   "outputs": [],
   "source": [
    "X_test=X_test.reshape(-1,1)\n",
    "Y_pred=algo.predict(X_test).reshape(250)\n"
   ]
  },
  {
   "cell_type": "code",
   "execution_count": 49,
   "metadata": {},
   "outputs": [
    {
     "data": {
      "image/png": "[encoded data removed]",
      "text/plain": [
       "<Figure size 432x288 with 1 Axes>"
      ]
     },
     "metadata": {
      "needs_background": "light"
     },
     "output_type": "display_data"
    }
   ],
   "source": [
    "plt.scatter(X_test,Y_pred)\n",
    "plt.plot(xs,ys.T,'r')\n",
    "plt.show()"
   ]
  },
  {
   "cell_type": "code",
   "execution_count": null,
   "metadata": {},
   "outputs": [],
   "source": []
  }
 ],
 "metadata": {
  "kernelspec": {
   "display_name": "Python 3",
   "language": "python",
   "name": "python3"
  },
  "language_info": {
   "codemirror_mode": {
    "name": "ipython",
    "version": 3
   },
   "file_extension": ".py",
   "mimetype": "text/x-python",
   "name": "python",
   "nbconvert_exporter": "python",
   "pygments_lexer": "ipython3",
   "version": "3.8.3"
  }
 },
 "nbformat": 4,
 "nbformat_minor": 4
}
