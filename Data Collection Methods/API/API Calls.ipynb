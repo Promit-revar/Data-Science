{
 "cells": [
  {
   "cell_type": "code",
   "execution_count": 2,
   "metadata": {},
   "outputs": [],
   "source": [
    "import requests as req #http library of python"
   ]
  },
  {
   "cell_type": "code",
   "execution_count": 3,
   "metadata": {},
   "outputs": [],
   "source": [
    "res=req.get(\"http://www.7timer.info/doc.php?lang=en\")"
   ]
  },
  {
   "cell_type": "code",
   "execution_count": 4,
   "metadata": {},
   "outputs": [
    {
     "data": {
      "text/plain": [
       "200"
      ]
     },
     "execution_count": 4,
     "metadata": {},
     "output_type": "execute_result"
    }
   ],
   "source": [
    "res.status_code"
   ]
  },
  {
   "cell_type": "code",
   "execution_count": 5,
   "metadata": {},
   "outputs": [
    {
     "data": {
      "text/plain": [
       "'UTF-8'"
      ]
     },
     "execution_count": 5,
     "metadata": {},
     "output_type": "execute_result"
    }
   ],
   "source": [
    "res.encoding"
   ]
  },
  {
   "cell_type": "code",
   "execution_count": 6,
   "metadata": {},
   "outputs": [
    {
     "name": "stdout",
     "output_type": "stream",
     "text": [
      "http://www.7timer.info/doc.php?lang=en\n"
     ]
    }
   ],
   "source": [
    "print(res.url)"
   ]
  },
  {
   "cell_type": "code",
   "execution_count": 7,
   "metadata": {},
   "outputs": [
    {
     "data": {
      "text/plain": [
       "'\\ufeff<html xmlns=\"https://www.w3.org/1999/xhtml\">\\n\\n<head profile=\"https://gmpg.org/xfn/11\">\\n\\n\\n\\t<meta http-equiv=\"Content-Type\" content=\"text/html; charset=utf-8\">\\n\\t<meta name=\"keywords\" content=\"weather forecast, numerical weather forecast, astronomical weather forecast, weather, meteorology\" />\\n\\t<meta name=\"Copyright\" content=\"\" />\\n\\t<meta name=\"Robots\" content=\"ALL\" />\\n\\t<meta name=\"Revisit-after\" content=\"1 day\" />\\n\\t<meta name=\"description\" content=\"7Timer! - numerical weather forecast for anywhere over the world\" />\\n\\t<meta name=\"author\" content=\"Ye Quanzhi\" />\\n\\t<meta name=\"publisher\" content=\"Ye Quanzhi\" />\\n\\t<link href=\"mailto:tom6740@gmail.com\" rev=\"made\" />\\n\\t<title>7Timer! - numerical weather forecast for anywhere over the world</title>\\n\\t<style type=\"text/css\" media=\"screen\">\\n\\t\\t@import url(style.css);\\n\\t</style>\\n\\t<link rel=\"Shortcut Icon\" href=\"icon_mini.gif\" type=\"image/x-icon\" />\\n\\t<script type=\"text/javascript\">\\n\\t\\tvar _gaq = _gaq || [];\\n\\t\\t_gaq.push([\\'_setAccount\\', \\'UA-15294068-5\\']);\\n\\t\\t_gaq.push([\\'_trackPageview\\']);\\n\\t\\t(function() {\\n\\t\\t\\tvar ga = document.createElement(\\'script\\'); ga.type = \\'text/javascript\\'; ga.async = true;\\n\\t\\t\\tga.src = (\\'https:\\' == document.location.protocol ? \\'https://ssl\\' : \\'http://www\\') + \\'.google-analytics.com/ga.js\\';\\n\\t\\t\\tvar s = document.getElementsByTagName(\\'script\\')[0]; s.parentNode.insertBefore(ga, s);\\n\\t\\t})();\\n\\t</script>\\n\\t\\r\\n<script type=\"text/javascript\">\\r\\nwindow.onscroll = function () {\\r\\n\\tvar div = document.getElementById(\"divSuspended\");\\r\\n\\tdiv.style.top = document.body.scrollTop;\\r\\n}\\r\\nwindow.onresize = window.onscroll;\\r\\n</script>\\r\\n\\t\\r\\n</head>\\r\\n\\r\\n<body>\\r\\n\\r\\n<div id=\"body\">\\r\\n\\t<table border=\"0\" width=\"98%\" height=\"120\" align=\"center\">\\r\\n\\t\\t<tr>\\r\\n\\t\\t\\t<td rowspan=\"2\" width=\"140\"><a href=\"http://www.7timer.info\"><img border=\"0\" src=\"icon.gif\" width=\"120\" height=\"120\"></a></td>\\r\\n\\t\\t\\t<td colspan=\"2\">\\r\\n\\t\\t\\t\\t<div class=\"linksection\">\\r\\n\\t\\t\\t\\t\\t<table border=\"0\" width=\"100%\" align=\"center\">\\r\\n\\t\\t\\t\\t\\t\\t<tr>\\r\\n\\t\\t\\t\\t\\t\\t\\t<td align=\"left\" width=\"75%\">\\r\\n\\t\\t\\t\\t\\t\\t\\t\\t<a href=\"index.php?lang=en\">Home</a> | <a href=\"wchart.php?lang=en\">Weather Chart</a> | <a target=\"_blank\" href=\"https://github.com/Yeqzids/7timer-issues/wiki/News\">News</a> | <a target=\"_blank\" href=\"https://github.com/Yeqzids/7timer-issues/wiki/Wiki\">Wiki</a> | <a target=\"_blank\" href=\"https://github.com/Yeqzids/7timer-issues/issues\">Issues</a> | <a target=\"_blank\" href=\"http://astro.ecuadors.net/xasteria/\">Xasteria for iOS</a>\\t\\t\\t\\t\\t\\t\\t</td>\\r\\n\\t\\t\\t\\t\\t\\t\\t<td align=\"right\" width=\"25%\">\\r\\n\\t\\t\\t\\t\\t\\t\\t\\t<a href=\"doc.php?lang=en\">English</a>\\r\\n\\t\\t\\t\\t\\t\\t\\t\\t<a href=\"doc.php?lang=zh-CN\">简体中文</a>\\r\\n\\t\\t\\t\\t\\t\\t\\t\\t<a href=\"doc.php?lang=zh-TW\">正體中文</a>\\r\\n\\t\\t\\t\\t\\t\\t\\t</td>\\r\\n\\t\\t\\t\\t\\t\\t</tr>\\t\\t\\r\\n\\t\\t\\t\\t\\t</table>\\r\\n\\t\\t\\t\\t</div>\\r\\n\\t\\t\\t</td>\\r\\n\\t\\t</tr>\\r\\n\\t\\t\\r\\n\\t<tr height=\"100\">\\r\\n\\t\\t<td>\\r\\n\\t\\t</td>\\r\\n\\t</tr>\\r\\n</table>\\r\\n</div>\\r\\n\\t\\t\\r\\n\\t\\r\\n<table border=\"0\" width=\"100%\">\\r\\n<tr>\\r\\n\\t<td width=\"160\" valign=\"top\">\\r\\n\\t<div id=\"divSuspended\" style=\"position: relative;\">\\r\\n\\t\\r\\n<a href=\"#introduction\">1. Introduction</a><br>\\r\\n<a href=\"#getting_forecast\">2. Getting Forecast</a><br>\\r\\n<a href=\"#web_interface\">2.1 Web Interface</a><br>\\r\\n<a href=\"#api\">2.2 Application Programming Interface (API)</a><br>\\r\\n<a href=\"#graphical_api\">2.2.1 Graphical API</a><br>\\r\\n<a href=\"#machine_readable_api\">2.2.2 Machine-readable API</a><br>\\r\\n<a href=\"#variables\">2.2.3 Variables</a><br>\\r\\n<a href=\"#products\">2.3 Products and Icon Set Definition</a><br>\\r\\n<a href=\"#civil\">2.3.1 CIVIL</a><br>\\r\\n<a href=\"#civillight\">2.3.2 CIVIL Light</a><br>\\r\\n<a href=\"#two\">2.3.3 Two-Week-Overview</a><br>\\r\\n<a href=\"#astro\">2.3.4 ASTRO</a><br>\\r\\n<a href=\"#meteo\">2.3.5 METEO</a><br>\\r\\n<a href=\"#weather_chart\">3. Weather Chart</a><br>\\r\\n<a href=\"#faq\">4. Frequently Asked Questions</a><br>\\r\\n<a href=\"#acknowledgement_and_disclaimer\">5. Acknowledgement and Disclaimer</a>\\r\\n\\r\\n\\t\\r\\n\\t</div>\\r\\n\\t</td>\\r\\n\\t<td>\\r\\n\\t\\r\\n<p class=\"information\">Last Update: November 1, 2012</p>\\r\\n\\t\\r\\n<h4><a name=\"introduction\">1. Introduction</a></h4>\\r\\n\\r\\n<p><i>7Timer!</i> is a series of web-based meteorological forecast products, mainly derived from the NOAA/NCEP-based numeric weather model, the Global Forecast System (GFS). <i>7Timer!</i> was firstly established in July 2005 as an exploration product under supported of the National Astronomical Observatories of China and had been largely renovated in 2008 and 2011. Currently it is supported by the Shanghai Astronomical Observatory of Chinese Academy of Sciences.</p>\\r\\n\\t\\r\\n<img src=\"../img/misc/about_1.png\" align=\"center\"><br>\\r\\nThe 2nd version of <i>7Timer!</i> - APanel, the predecessor of ASTRO\\r\\n\\r\\n<p><i>7Timer!</i> produces high-resolution forecast for the entire globe that covering about 1.5 million geographic points, and would be updated four times a day. It also produces specialized products for users with different concentrations such as astronomy or meteorology.</p>\\r\\n\\r\\n<h4><a name=\"getting_forecast\">2. Getting Forecast</a></h4>\\r\\n\\r\\n<p>The forecast can be accessed by visiting the web interface at www.7timer.info, or by calling the application programming interface (API).</p>\\r\\n\\r\\n<h4><a name=\"web_interface\">2.1 Web Interface</a></h4>\\r\\n\\r\\n<p>The web interface at www.7timer.info is written with support from the 3rd version of Google Maps API that works in Internet Explorer 7.0+, Firefox 3.0+, Safari 4+, Google Chrome and Android browsers. To get the forecast for a site, left-click the site on the map, and move the cursor over the marker, the information box consisting links to forecast pages will then be displayed.</p>\\r\\n\\t\\r\\n<p>For users unable to load Google Maps API, an alternative method to directly access the forecast page is provided. Users may then using the site search engine to find locations. This method works well in most platforms supporting JavaScript, including Internet Explorer 6.0.</p>\\r\\n\\r\\n<p>Please notice that some products require a longer loading time (such as CIVIL and METEO), so please wait patiently.</p>\\r\\n\\r\\n<p>You may also use the search form on top of the map to find a site. Such queries will be forwarded to and processed by Google.</p>\\r\\n\\r\\n<p>Default geolocation method is GeoIP, meaning by default your current location will be derived by the IP address of your device. You may wish to try W3C geolocation method for higher usability and accuracy; however, W3C geolocation only works in Firefox 3.5+, Google Chrome, Opera 10.6+, Internet Explorer 9.0+, and Safari 5+. On mobile devices, W3C geolocation works on iPhone, Google Android, Maemo and Opera Mobile 10.1+. Geolocation by Google Gears is not supported at this time.</p>\\r\\n\\r\\n<h4><a name=\"api\">2.2 Application Programming Interface (API)</a></h4>\\r\\n\\r\\n<p>The application programming interface (API) of <i>7Timer!</i> is highly flexible and is very easy to use. They can be used directly without registering an API key. Currently, we offer two types of APIs for users with different purposes: graphical and machine-readable APIs.</p>\\r\\n\\r\\n<h4><a name=\"graphical_api\">2.2.1 Graphical API</a></h4>\\r\\n\\r\\n<p>The graphical API will display the forecast diagram as seen at the <i>7Timer!</i> website. The URL to the graphical API of the site you specified is like:</p>\\r\\n\\r\\n<p class=\"information\">http://www.7timer.info/bin/astro.php?lon=113.17&lat=23.09&ac=0&lang=en&unit=metric&output=internal&tzshift=0</p>\\r\\n\\r\\n<p>The graphical API, when called, will produce a PNG-type image, so you may use &lt;img&gt; tag to include the forecast diagrams in your website.</p>\\r\\n\\r\\n<h4><a name=\"machine_readable_api\">2.2.2 Machine-readable API</a></h4>\\r\\n\\r\\n<p>The machine-readable API will return a set of data that can be used directly by application. By far, APIs in two standards are available: Extensible Markup Language (XML) or JavaScript Object Notation (JSON). The URLs to these two standards are similar as:</p>\\r\\n\\r\\n<p class=\"information\">http://www.7timer.info/bin/api.pl?lon=113.17&lat=23.09&product=astro&output=xml</p>\\r\\n\\r\\n<p>There are four parameters that need to be set to successfully call the API: lon and lat for geographic coordinate of the location, product for the product you wish to use (any of \"astro\", \"civil\", \"civillight\", \"meteo\" or \"two\"), and output for the standard you wish to use (either \"xml\" or \"json\").</p>\\r\\n\\r\\n<p>Summary of meteorological elements provided by the corresponding API of each product is given below.</p>\\r\\n\\r\\n<div align=\"center\">\\r\\n\\t<table border=\"1\" width=\"572\" height=\"226\">\\r\\n\\t\\t<tr>\\r\\n\\t\\t\\t<td height=\"8\" width=\"176\" align=\"center\"></td>\\r\\n\\t\\t\\t<td height=\"8\" width=\"98\" align=\"center\">CIVIL</td>\\r\\n\\t\\t\\t<td height=\"8\" width=\"98\" align=\"center\">CIVIL Light</td>\\r\\n\\t\\t\\t<td height=\"8\" width=\"98\" align=\"center\">TWO</td>\\r\\n\\t\\t\\t<td height=\"8\" width=\"98\" align=\"center\">ASTRO</td>\\r\\n\\t\\t\\t<td height=\"8\" width=\"98\" align=\"center\">METEO</td>\\r\\n\\t\\t</tr>\\r\\n\\t\\t<tr>\\r\\n\\t\\t\\t<td height=\"9\" width=\"176\" align=\"center\">Cloud Cover</td>\\r\\n\\t\\t\\t<td height=\"9\" width=\"98\" align=\"center\">Y</td>\\r\\n\\t\\t\\t<td height=\"9\" width=\"98\" align=\"center\">Y</td>\\r\\n\\t\\t\\t<td height=\"9\" width=\"98\" align=\"center\"></td>\\r\\n\\t\\t\\t<td height=\"9\" width=\"98\" align=\"center\">Y</td>\\r\\n\\t\\t\\t<td height=\"9\" width=\"98\" align=\"center\">Y</td>\\r\\n\\t\\t</tr>\\r\\n\\t\\t<tr>\\r\\n\\t\\t\\t<td height=\"9\" width=\"176\" align=\"center\">Cloud Profile</td>\\r\\n\\t\\t\\t<td height=\"9\" width=\"98\" align=\"center\"></td>\\r\\n\\t\\t\\t<td height=\"9\" width=\"98\" align=\"center\"></td>\\r\\n\\t\\t\\t<td height=\"9\" width=\"98\" align=\"center\"></td>\\r\\n\\t\\t\\t<td height=\"9\" width=\"98\" align=\"center\"></td>\\r\\n\\t\\t\\t<td height=\"9\" width=\"98\" align=\"center\">Y</td>\\r\\n\\t\\t</tr>\\r\\n\\t\\t<tr>\\r\\n\\t\\t\\t<td height=\"13\" width=\"176\" align=\"center\">Lifted Index</td>\\r\\n\\t\\t\\t<td height=\"13\" width=\"98\" align=\"center\">Y</td>\\r\\n\\t\\t\\t<td height=\"13\" width=\"98\" align=\"center\"></td>\\r\\n\\t\\t\\t<td height=\"13\" width=\"98\" align=\"center\">Y</td>\\r\\n\\t\\t\\t<td height=\"13\" width=\"98\" align=\"center\">Y</td>\\r\\n\\t\\t\\t<td height=\"13\" width=\"98\" align=\"center\">Y</td>\\r\\n\\t\\t</tr>\\r\\n\\t\\t<tr>\\r\\n\\t\\t\\t<td height=\"7\" width=\"176\" align=\"center\">2m Temperature</td>\\r\\n\\t\\t\\t<td height=\"7\" width=\"98\" align=\"center\">Y</td>\\r\\n\\t\\t\\t<td height=\"7\" width=\"98\" align=\"center\">Y</td>\\r\\n\\t\\t\\t<td height=\"7\" width=\"98\" align=\"center\"></td>\\r\\n\\t\\t\\t<td height=\"7\" width=\"98\" align=\"center\">Y</td>\\r\\n\\t\\t\\t<td height=\"7\" width=\"98\" align=\"center\">Y</td>\\r\\n\\t\\t</tr>\\r\\n\\t\\t<tr>\\r\\n\\t\\t\\t<td height=\"6\" width=\"176\" align=\"center\">Max 2m Temp</td>\\r\\n\\t\\t\\t<td height=\"6\" width=\"98\" align=\"center\"></td>\\r\\n\\t\\t\\t<td height=\"6\" width=\"98\" align=\"center\">Y</td>\\r\\n\\t\\t\\t<td height=\"6\" width=\"98\" align=\"center\">Y</td>\\r\\n\\t\\t\\t<td height=\"6\" width=\"98\" align=\"center\"></td>\\r\\n\\t\\t\\t<td height=\"6\" width=\"98\" align=\"center\"></td>\\r\\n\\t\\t</tr>\\r\\n\\t\\t<tr>\\r\\n\\t\\t\\t<td height=\"6\" width=\"176\" align=\"center\">Min 2m Temp</td>\\r\\n\\t\\t\\t<td height=\"6\" width=\"98\" align=\"center\"></td>\\r\\n\\t\\t\\t<td height=\"6\" width=\"98\" align=\"center\">Y</td>\\r\\n\\t\\t\\t<td height=\"6\" width=\"98\" align=\"center\">Y</td>\\r\\n\\t\\t\\t<td height=\"6\" width=\"98\" align=\"center\"></td>\\r\\n\\t\\t\\t<td height=\"6\" width=\"98\" align=\"center\"></td>\\r\\n\\t\\t</tr>\\r\\n\\t\\t<tr>\\r\\n\\t\\t\\t<td height=\"6\" width=\"176\" align=\"center\">2m Relative Humidity</td>\\r\\n\\t\\t\\t<td height=\"6\" width=\"98\" align=\"center\">Hi Res</td>\\r\\n\\t\\t\\t<td height=\"6\" width=\"98\" align=\"center\"></td>\\r\\n\\t\\t\\t<td height=\"6\" width=\"98\" align=\"center\">Low Res</td>\\r\\n\\t\\t\\t<td height=\"6\" width=\"98\" align=\"center\">Low Res</td>\\r\\n\\t\\t\\t<td height=\"6\" width=\"98\" align=\"center\">Low Res</td>\\r\\n\\t\\t</tr>\\r\\n\\t\\t<tr>\\r\\n\\t\\t\\t<td height=\"5\" width=\"176\" align=\"center\">R.H. Profile</td>\\r\\n\\t\\t\\t<td height=\"5\" width=\"98\" align=\"center\"></td>\\r\\n\\t\\t\\t<td height=\"5\" width=\"98\" align=\"center\"></td>\\r\\n\\t\\t\\t<td height=\"5\" width=\"98\" align=\"center\"></td>\\r\\n\\t\\t\\t<td height=\"5\" width=\"98\" align=\"center\"></td>\\r\\n\\t\\t\\t<td height=\"5\" width=\"98\" align=\"center\">Y</td>\\r\\n\\t\\t</tr>\\r\\n\\t\\t<tr>\\r\\n\\t\\t\\t<td height=\"5\" width=\"176\" align=\"center\">10m Wind</td>\\r\\n\\t\\t\\t<td height=\"5\" width=\"98\" align=\"center\">Low Res</td>\\r\\n\\t\\t\\t<td height=\"5\" width=\"98\" align=\"center\">Low Res</td>\\r\\n\\t\\t\\t<td height=\"5\" width=\"98\" align=\"center\">Low Res</td>\\r\\n\\t\\t\\t<td height=\"5\" width=\"98\" align=\"center\">Low Res</td>\\r\\n\\t\\t\\t<td height=\"5\" width=\"98\" align=\"center\">Hi Res</td>\\r\\n\\t\\t</tr>\\r\\n\\t\\t<tr>\\r\\n\\t\\t\\t<td height=\"5\" width=\"176\" align=\"center\">Wind Profile</td>\\r\\n\\t\\t\\t<td height=\"5\" width=\"98\" align=\"center\"></td>\\r\\n\\t\\t\\t<td height=\"5\" width=\"98\" align=\"center\"></td>\\r\\n\\t\\t\\t<td height=\"5\" width=\"98\" align=\"center\"></td>\\r\\n\\t\\t\\t<td height=\"5\" width=\"98\" align=\"center\"></td>\\r\\n\\t\\t\\t<td height=\"5\" width=\"98\" align=\"center\">Hi Res</td>\\r\\n\\t\\t</tr>\\r\\n\\t\\t<tr>\\r\\n\\t\\t\\t<td height=\"15\" width=\"176\" align=\"center\">Precipitation Type</td>\\r\\n\\t\\t\\t<td height=\"15\" width=\"98\" align=\"center\">Y</td>\\r\\n\\t\\t\\t<td height=\"15\" width=\"98\" align=\"center\">Y</td>\\r\\n\\t\\t\\t<td height=\"15\" width=\"98\" align=\"center\">Y</td>\\r\\n\\t\\t\\t<td height=\"15\" width=\"98\" align=\"center\">Y</td>\\r\\n\\t\\t\\t<td height=\"15\" width=\"98\" align=\"center\">Y</td>\\r\\n\\t\\t</tr>\\r\\n\\t\\t<tr>\\r\\n\\t\\t\\t<td height=\"9\" width=\"176\" align=\"center\">Precipitation Amount</td>\\r\\n\\t\\t\\t<td height=\"9\" width=\"98\" align=\"center\">Y</td>\\r\\n\\t\\t\\t<td height=\"9\" width=\"98\" align=\"center\"></td>\\r\\n\\t\\t\\t<td height=\"9\" width=\"98\" align=\"center\"></td>\\r\\n\\t\\t\\t<td height=\"9\" width=\"98\" align=\"center\"></td>\\r\\n\\t\\t\\t<td height=\"9\" width=\"98\" align=\"center\">Y</td>\\r\\n\\t\\t</tr>\\r\\n\\t\\t<tr>\\r\\n\\t\\t\\t<td height=\"13\" width=\"176\" align=\"center\">Astro Seeing</td>\\r\\n\\t\\t\\t<td height=\"13\" width=\"98\" align=\"center\"></td>\\r\\n\\t\\t\\t<td height=\"13\" width=\"98\" align=\"center\"></td>\\r\\n\\t\\t\\t<td height=\"13\" width=\"98\" align=\"center\"></td>\\r\\n\\t\\t\\t<td height=\"13\" width=\"98\" align=\"center\">Y</td>\\r\\n\\t\\t\\t<td height=\"13\" width=\"98\" align=\"center\"></td>\\r\\n\\t\\t</tr>\\r\\n\\t\\t<tr>\\r\\n\\t\\t\\t<td height=\"9\" width=\"176\" align=\"center\">Atmos Transparency</td>\\r\\n\\t\\t\\t<td height=\"9\" width=\"98\" align=\"center\"></td>\\r\\n\\t\\t\\t<td height=\"9\" width=\"98\" align=\"center\"></td>\\r\\n\\t\\t\\t<td height=\"9\" width=\"98\" align=\"center\"></td>\\r\\n\\t\\t\\t<td height=\"9\" width=\"98\" align=\"center\">Y</td>\\r\\n\\t\\t\\t<td height=\"9\" width=\"98\" align=\"center\"></td>\\r\\n\\t\\t</tr>\\r\\n\\t\\t<tr>\\r\\n\\t\\t\\t<td height=\"9\" width=\"176\" align=\"center\">MSL Pressure</td>\\r\\n\\t\\t\\t<td height=\"9\" width=\"98\" align=\"center\"></td>\\r\\n\\t\\t\\t<td height=\"9\" width=\"98\" align=\"center\"></td>\\r\\n\\t\\t\\t<td height=\"9\" width=\"98\" align=\"center\"></td>\\r\\n\\t\\t\\t<td height=\"9\" width=\"98\" align=\"center\"></td>\\r\\n\\t\\t\\t<td height=\"9\" width=\"98\" align=\"center\">Y</td>\\r\\n\\t\\t</tr>\\r\\n\\t\\t<tr>\\r\\n\\t\\t\\t<td height=\"8\" width=\"176\" align=\"center\">Snow Depth</td>\\r\\n\\t\\t\\t<td height=\"8\" width=\"98\" align=\"center\"></td>\\r\\n\\t\\t\\t<td height=\"8\" width=\"98\" align=\"center\"></td>\\r\\n\\t\\t\\t<td height=\"8\" width=\"98\" align=\"center\"></td>\\r\\n\\t\\t\\t<td height=\"8\" width=\"98\" align=\"center\"></td>\\r\\n\\t\\t\\t<td height=\"8\" width=\"98\" align=\"center\">Y</td>\\r\\n\\t\\t</tr>\\r\\n\\t\\t<tr>\\r\\n\\t\\t\\t<td height=\"8\" width=\"176\" align=\"center\">Weather Type</td>\\r\\n\\t\\t\\t<td height=\"8\" width=\"98\" align=\"center\">Y</td>\\r\\n\\t\\t\\t<td height=\"8\" width=\"98\" align=\"center\"></td>\\r\\n\\t\\t\\t<td height=\"8\" width=\"98\" align=\"center\">Y</td>\\r\\n\\t\\t\\t<td height=\"8\" width=\"98\" align=\"center\"></td>\\r\\n\\t\\t\\t<td height=\"8\" width=\"98\" align=\"center\"></td>\\r\\n\\t\\t</tr>\\r\\n\\t</table>\\r\\n</div>\\r\\n\\r\\n<h4><a name=\"variables\">2.2.3 Variables</a></h4>\\r\\n\\r\\n<p>A couple of variables can be set by the API user. The usages of these variables are explained below.</p>\\r\\n\\r\\n<p class=\"information\">lon, lat – Geographic coordinates of the specified site, must be given as pure float numbers, such as +23.090 or -23.090. At this stage, the precision of any incoming coordinate float number is expected to be 0.001. Incoming float with higher precision will be rounded.<br>\\r\\nac – Altitude Correction, only applicable in ASTRO forecast. Should be 0 (default), 2 or 7.<br>\\r\\nlang – Language. Not applicable in METEO product.<br>\\r\\nunit – Metric or British.<br>\\r\\noutput – should be internal (for graphical output), xml or json.<br>\\r\\ntzshift – Adjustment of timezone, should be 0, 1 or -1.</p>\\r\\n\\r\\n<h4><a name=\"products\">2.3 Products and Icon Set Definition</a></h4>\\r\\n\\r\\n<p><i>7Timer!</i> offers four types of products for users with different concentrations such as civil users, astronomers and meteorologists.</p>\\r\\n\\r\\n<h4><a name=\"civil\">2.3.1 CIVIL</a></h4>\\r\\n\\r\\n<p>CIVIL is intended for civil users. It will display the forecasted weather condition for the next 8 days with a set of easy-to-read weather icons. Explanations of each icon, as well as the definition of values returned by machine-readable API, are given below.</p>\\r\\n\\r\\n<div align=\"center\">\\r\\n\\t<p>Icon Definition</p>\\r\\n\\t<table border=\"1\" width=\"599\" height=\"134\">\\r\\n\\t\\t<tr>\\r\\n\\t\\t\\t<td height=\"16\" width=\"136\" align=\"center\">Icon</td>\\r\\n\\t\\t\\t<td height=\"16\" width=\"129\" align=\"center\">Meaning</td>\\r\\n\\t\\t\\t<td height=\"16\" width=\"312\" align=\"center\">Technical Definition</td>\\r\\n\\t\\t</tr>\\r\\n\\t\\t<tr>\\r\\n\\t\\t\\t<td height=\"20\" width=\"136\" align=\"center\"><img src=\"../img/misc/about_civil_clear.png\"></td>\\r\\n\\t\\t\\t<td height=\"20\" width=\"129\" align=\"center\">Clear</td>\\r\\n\\t\\t\\t<td height=\"20\" width=\"312\" align=\"center\">Total cloud cover less \\r\\n\\t\\t\\tthan 20%</td>\\r\\n\\t\\t</tr>\\r\\n\\t\\t<tr>\\r\\n\\t\\t\\t<td height=\"20\" width=\"136\" align=\"center\"><img src=\"../img/misc/about_civil_pcloudy.png\"></td>\\r\\n\\t\\t\\t<td height=\"20\" width=\"129\" align=\"center\">Partly Cloudy</td>\\r\\n\\t\\t\\t<td height=\"20\" width=\"312\" align=\"center\">Total cloud cover between \\r\\n\\t\\t\\t20%-60%</td>\\r\\n\\t\\t</tr>\\r\\n\\t\\t<tr>\\r\\n\\t\\t\\t<td height=\"20\" width=\"136\" align=\"center\"><img src=\"../img/misc/about_civil_mcloudy.png\"></td>\\r\\n\\t\\t\\t<td height=\"20\" width=\"129\" align=\"center\">Cloudy</td>\\r\\n\\t\\t\\t<td height=\"20\" width=\"312\" align=\"center\">Total cloud cover between \\r\\n\\t\\t\\t60%-80%</td>\\r\\n\\t\\t</tr>\\r\\n\\t\\t<tr>\\r\\n\\t\\t\\t<td height=\"20\" width=\"136\" align=\"center\"><img src=\"../img/misc/about_civil_cloudy.png\"></td>\\r\\n\\t\\t\\t<td height=\"20\" width=\"129\" align=\"center\">Very Cloudy</td>\\r\\n\\t\\t\\t<td height=\"20\" width=\"312\" align=\"center\">Total cloud cover over \\r\\n\\t\\t\\tover 80%</td>\\r\\n\\t\\t</tr>\\r\\n\\t\\t<tr>\\r\\n\\t\\t\\t<td height=\"2\" width=\"136\" align=\"center\"><img src=\"../img/misc/about_civil_fog.png\"></td>\\r\\n\\t\\t\\t<td height=\"2\" width=\"129\" align=\"center\">Foggy</td>\\r\\n\\t\\t\\t<td height=\"2\" width=\"312\" align=\"center\">Relative humidity over 90% \\r\\n\\t\\t\\twith total cloud cover less than 60%</td>\\r\\n\\t\\t</tr>\\r\\n\\t\\t<tr>\\r\\n\\t\\t\\t<td height=\"2\" width=\"136\" align=\"center\"><img src=\"../img/misc/about_civil_lightrain.png\"></td>\\r\\n\\t\\t\\t<td height=\"2\" width=\"129\" align=\"center\">Light rain or showers</td>\\r\\n\\t\\t\\t<td height=\"2\" width=\"312\" align=\"center\">Precipitation rate less \\r\\n\\t\\t\\tthan 4mm/hr with cloud cover more than 80%</td>\\r\\n\\t\\t</tr>\\r\\n\\t\\t<tr>\\r\\n\\t\\t\\t<td height=\"2\" width=\"136\" align=\"center\"><img src=\"../img/misc/about_civil_oshower.png\"></td>\\r\\n\\t\\t\\t<td height=\"2\" width=\"129\" align=\"center\">Occasional showers</td>\\r\\n\\t\\t\\t<td height=\"2\" width=\"312\" align=\"center\">Precipitation rate less \\r\\n\\t\\t\\tthan 4mm/hr with cloud cover between 60%-80%</td>\\r\\n\\t\\t</tr>\\r\\n\\t\\t<tr>\\r\\n\\t\\t\\t<td height=\"2\" width=\"136\" align=\"center\"><img src=\"../img/misc/about_civil_ishower.png\"></td>\\r\\n\\t\\t\\t<td height=\"2\" width=\"129\" align=\"center\">Isolated showers</td>\\r\\n\\t\\t\\t<td height=\"2\" width=\"312\" align=\"center\">Precipitation rate less \\r\\n\\t\\t\\tthan 4mm/hr less than 60%</td>\\r\\n\\t\\t</tr>\\r\\n\\t\\t<tr>\\r\\n\\t\\t\\t<td height=\"2\" width=\"136\" align=\"center\"><img src=\"../img/misc/about_civil_lightsnow.png\"></td>\\r\\n\\t\\t\\t<td height=\"2\" width=\"129\" align=\"center\">Light or occasional snow</td>\\r\\n\\t\\t\\t<td height=\"2\" width=\"312\" align=\"center\">Precipitation rate less \\r\\n\\t\\t\\tthan 4mm/hr</td>\\r\\n\\t\\t</tr>\\r\\n\\t\\t<tr>\\r\\n\\t\\t\\t<td height=\"2\" width=\"136\" align=\"center\"><img src=\"../img/misc/about_civil_rain.png\"></td>\\r\\n\\t\\t\\t<td height=\"2\" width=\"129\" align=\"center\">Rain</td>\\r\\n\\t\\t\\t<td height=\"2\" width=\"312\" align=\"center\">Precipitation rate over \\r\\n\\t\\t\\t4mm/hr</td>\\r\\n\\t\\t</tr>\\r\\n\\t\\t<tr>\\r\\n\\t\\t\\t<td height=\"2\" width=\"136\" align=\"center\"><img src=\"../img/misc/about_civil_snow.png\"></td>\\r\\n\\t\\t\\t<td height=\"2\" width=\"129\" align=\"center\">Snow</td>\\r\\n\\t\\t\\t<td height=\"2\" width=\"312\" align=\"center\">Precipitation rate over \\r\\n\\t\\t\\t4mm/hr</td>\\r\\n\\t\\t</tr>\\r\\n\\t\\t<tr>\\r\\n\\t\\t\\t<td height=\"2\" width=\"136\" align=\"center\"><img src=\"../img/misc/about_civil_rainsnow.png\"></td>\\r\\n\\t\\t\\t<td height=\"2\" width=\"129\" align=\"center\">Mixed</td>\\r\\n\\t\\t\\t<td height=\"2\" width=\"312\" align=\"center\">Precipitation type to be \\r\\n\\t\\t\\tice pellets or freezing rain</td>\\r\\n\\t\\t</tr>\\r\\n\\t\\t<tr>\\r\\n\\t\\t\\t<td height=\"2\" width=\"136\" align=\"center\"><img src=\"../img/misc/about_civil_tstorm.png\"></td>\\r\\n\\t\\t\\t<td height=\"2\" width=\"129\" align=\"center\">Thunderstorm possible</td>\\r\\n\\t\\t\\t<td height=\"2\" width=\"312\" align=\"center\">Lifted Index less than -5 \\r\\n\\t\\t\\twith precipitation rate below 4mm/hr</td>\\r\\n\\t\\t</tr>\\r\\n\\t\\t<tr>\\r\\n\\t\\t\\t<td height=\"2\" width=\"136\" align=\"center\"><img src=\"../img/misc/about_civil_tsrain.png\"></td>\\r\\n\\t\\t\\t<td height=\"2\" width=\"129\" align=\"center\">Thunderstorm</td>\\r\\n\\t\\t\\t<td height=\"2\" width=\"312\" align=\"center\">Lifted Index less than -5 \\r\\n\\t\\t\\twith precipitation rate over 4mm/hr</td>\\r\\n\\t\\t</tr>\\r\\n\\t\\t<tr>\\r\\n\\t\\t\\t<td height=\"2\" width=\"136\" align=\"center\"><img src=\"../img/misc/about_civil_windy.png\"></td>\\r\\n\\t\\t\\t<td height=\"2\" width=\"129\" align=\"center\">Windy</td>\\r\\n\\t\\t\\t<td height=\"2\" width=\"312\" align=\"center\">Sustained wind speed over \\r\\n\\t\\t\\t10.8m/s (force 6 or above)</td>\\r\\n\\t\\t</tr>\\r\\n\\t</table>\\t<small>Icons are designed by Weather Sniffer and Iconbest.</small>\\r\\n</div>\\r\\n\\t\\r\\n<div align=\"center\">\\r\\n\\t<p>Definition of API Output Value</p>\\r\\n\\t<table border=\"1\" width=\"599\" height=\"134\">\\r\\n\\t<tr>\\r\\n\\t<td width=\"134\" align=\"center\">\\r\\n\\tVariable</td>\\r\\n\\t<td width=\"106\" align=\"center\">\\r\\n\\tValue</td>\\r\\n\\t<td width=\"337\" align=\"center\">\\r\\n\\tMeaning</td>\\r\\n\\t</tr>\\r\\n\\t<tr>\\r\\n\\t<td width=\"134\" align=\"center\" rowspan=\"9\">\\r\\n\\tCloud Cover</td>\\r\\n\\t<td width=\"106\" align=\"center\">\\r\\n\\t1</td>\\r\\n\\t<td width=\"337\" align=\"center\">\\r\\n\\t0%-6%</td>\\r\\n\\t</tr>\\r\\n\\t<tr>\\r\\n\\t<td width=\"106\" align=\"center\">\\r\\n\\t2</td>\\r\\n\\t<td width=\"337\" align=\"center\">\\r\\n\\t6%-19%</td>\\r\\n\\t</tr>\\r\\n\\t<tr>\\r\\n\\t<td width=\"106\" align=\"center\">\\r\\n\\t3</td>\\r\\n\\t<td width=\"337\" align=\"center\">\\r\\n\\t19%-31%</td>\\r\\n\\t</tr>\\r\\n\\t<tr>\\r\\n\\t<td width=\"106\" align=\"center\">\\r\\n\\t4</td>\\r\\n\\t<td width=\"337\" align=\"center\">\\r\\n\\t31%-44%</td>\\r\\n\\t</tr>\\r\\n\\t<tr>\\r\\n\\t<td width=\"106\" align=\"center\">\\r\\n\\t5</td>\\r\\n\\t<td width=\"337\" align=\"center\">\\r\\n\\t44%-56%</td>\\r\\n\\t</tr>\\r\\n\\t<tr>\\r\\n\\t<td width=\"106\" align=\"center\">\\r\\n\\t6</td>\\r\\n\\t<td width=\"337\" align=\"center\">\\r\\n\\t56%-69%</td>\\r\\n\\t</tr>\\r\\n\\t<tr>\\r\\n\\t<td width=\"106\" align=\"center\">\\r\\n\\t7</td>\\r\\n\\t<td width=\"337\" align=\"center\">\\r\\n\\t69%-81%</td>\\r\\n\\t</tr>\\r\\n\\t<tr>\\r\\n\\t<td width=\"106\" align=\"center\">\\r\\n\\t8</td>\\r\\n\\t<td width=\"337\" align=\"center\">\\r\\n\\t81%-94%</td>\\r\\n\\t</tr>\\r\\n\\t<tr>\\r\\n\\t<td width=\"106\" align=\"center\">\\r\\n\\t9</td>\\r\\n\\t<td width=\"337\" align=\"center\">\\r\\n\\t94%-100%</td>\\r\\n\\t</tr>\\r\\n\\t<tr>\\r\\n\\t<td width=\"134\" align=\"center\" rowspan=\"8\">\\r\\n\\tLifted Index</td>\\r\\n\\t<td width=\"106\" align=\"center\">\\r\\n\\t-10</td>\\r\\n\\t<td width=\"337\" align=\"center\">\\r\\n\\tBelow -7</td>\\r\\n\\t</tr>\\r\\n\\t<tr>\\r\\n\\t<td width=\"106\" align=\"center\">\\r\\n\\t-6</td>\\r\\n\\t<td width=\"337\" align=\"center\">\\r\\n\\t-7 to -5</td>\\r\\n\\t</tr>\\r\\n\\t<tr>\\r\\n\\t<td width=\"106\" align=\"center\">\\r\\n\\t-4</td>\\r\\n\\t<td width=\"337\" align=\"center\">\\r\\n\\t-5 to -3</td>\\r\\n\\t</tr>\\r\\n\\t<tr>\\r\\n\\t<td width=\"106\" align=\"center\">\\r\\n\\t-1</td>\\r\\n\\t<td width=\"337\" align=\"center\">\\r\\n\\t-3 to 0</td>\\r\\n\\t</tr>\\r\\n\\t<tr>\\r\\n\\t<td width=\"106\" align=\"center\">\\r\\n\\t2</td>\\r\\n\\t<td width=\"337\" align=\"center\">\\r\\n\\t0 to 4</td>\\r\\n\\t</tr>\\r\\n\\t<tr>\\r\\n\\t<td width=\"106\" align=\"center\">\\r\\n\\t6</td>\\r\\n\\t<td width=\"337\" align=\"center\">\\r\\n\\t4 to 8</td>\\r\\n\\t</tr>\\r\\n\\t<tr>\\r\\n\\t<td width=\"106\" align=\"center\">\\r\\n\\t10</td>\\r\\n\\t<td width=\"337\" align=\"center\">\\r\\n\\t8 to 11</td>\\r\\n\\t</tr>\\r\\n\\t<tr>\\r\\n\\t<td width=\"106\" align=\"center\">\\r\\n\\t15</td>\\r\\n\\t<td width=\"337\" align=\"center\">\\r\\n\\tOver 11</td>\\r\\n\\t</tr>\\r\\n\\t<tr>\\r\\n\\t<td width=\"134\" align=\"center\">\\r\\n\\t2m Temperature</td>\\r\\n\\t<td width=\"106\" align=\"center\">\\r\\n\\t-76 to 60</td>\\r\\n\\t<td width=\"337\" align=\"center\">\\r\\n\\t-76C to +60C</td>\\r\\n\\t</tr>\\r\\n\\t<tr>\\r\\n\\t<td width=\"134\" align=\"center\">\\r\\n\\t2m Relative Humidity</td>\\r\\n\\t<td width=\"106\" align=\"center\">\\r\\n\\t0 to 100</td>\\r\\n\\t<td width=\"337\" align=\"center\">\\r\\n\\t0% to 100%</td>\\r\\n\\t</tr>\\r\\n\\t<tr>\\r\\n\\t<td width=\"134\" align=\"center\">\\r\\n\\t10m Wind Direction</td>\\r\\n\\t<td width=\"443\" align=\"center\" colspan=\"2\">\\r\\n\\tN, NE, E, SE, S, SW, W, NW</td>\\r\\n\\t</tr>\\r\\n\\t<tr>\\r\\n\\t<td width=\"134\" align=\"center\" rowspan=\"8\">\\r\\n\\t10m Wind Speed</td>\\r\\n\\t<td width=\"106\" align=\"center\">\\r\\n\\t1</td>\\r\\n\\t<td width=\"337\" align=\"center\">\\r\\n\\tBelow 0.3m/s (calm)</td>\\r\\n\\t</tr>\\r\\n\\t<tr>\\r\\n\\t<td width=\"106\" align=\"center\">\\r\\n\\t2</td>\\r\\n\\t<td width=\"337\" align=\"center\">\\r\\n\\t0.3-3.4m/s (light)</td>\\r\\n\\t</tr>\\r\\n\\t<tr>\\r\\n\\t<td width=\"106\" align=\"center\">\\r\\n\\t3</td>\\r\\n\\t<td width=\"337\" align=\"center\">\\r\\n\\t3.4-8.0m/s (moderate)</td>\\r\\n\\t</tr>\\r\\n\\t<tr>\\r\\n\\t<td width=\"106\" align=\"center\">\\r\\n\\t4</td>\\r\\n\\t<td width=\"337\" align=\"center\">\\r\\n\\t8.0-10.8m/s (fresh)</td>\\r\\n\\t</tr>\\r\\n\\t<tr>\\r\\n\\t<td width=\"106\" align=\"center\">\\r\\n\\t5</td>\\r\\n\\t<td width=\"337\" align=\"center\">\\r\\n\\t10.8-17.2m/s (strong)</td>\\r\\n\\t</tr>\\r\\n\\t<tr>\\r\\n\\t<td width=\"106\" align=\"center\">\\r\\n\\t6</td>\\r\\n\\t<td width=\"337\" align=\"center\">\\r\\n\\t17.2-24.5m/s (gale)</td>\\r\\n\\t</tr>\\r\\n\\t<tr>\\r\\n\\t<td width=\"106\" align=\"center\">\\r\\n\\t7</td>\\r\\n\\t<td width=\"337\" align=\"center\">\\r\\n\\t24.5-32.6m/s (storm)</td>\\r\\n\\t</tr>\\r\\n\\t<tr>\\r\\n\\t<td width=\"106\" align=\"center\">\\r\\n\\t8</td>\\r\\n\\t<td width=\"337\" align=\"center\">\\r\\n\\tOver 32.6m/s (hurricane)</td>\\r\\n\\t</tr>\\r\\n\\t<tr>\\r\\n\\t<td width=\"134\" align=\"center\">\\r\\n\\tPrecipitation Type</td>\\r\\n\\t<td width=\"443\" align=\"center\" colspan=\"2\">\\r\\n\\tsnow, rain, frzr (freezing rain), icep (ice pellets), none</td>\\r\\n\\t</tr>\\r\\n\\t<tr>\\r\\n\\t<td width=\"134\" align=\"center\" rowspan=\"10\">\\r\\n\\tPrecipitation Amount</td>\\r\\n\\t<td width=\"106\" align=\"center\">\\r\\n\\t0</td>\\r\\n\\t<td width=\"337\" align=\"center\">\\r\\n\\tNone</td>\\r\\n\\t</tr>\\r\\n\\t<tr>\\r\\n\\t<td width=\"106\" align=\"center\">\\r\\n\\t1</td>\\r\\n\\t<td width=\"337\" align=\"center\">\\r\\n\\t0-0.25mm/hr</td>\\r\\n\\t</tr>\\r\\n\\t<tr>\\r\\n\\t<td width=\"106\" align=\"center\">\\r\\n\\t2</td>\\r\\n\\t<td width=\"337\" align=\"center\">\\r\\n\\t0.25-1mm/hr</td>\\r\\n\\t</tr>\\r\\n\\t<tr>\\r\\n\\t<td width=\"106\" align=\"center\">\\r\\n\\t3</td>\\r\\n\\t<td width=\"337\" align=\"center\">\\r\\n\\t1-4mm/hr</td>\\r\\n\\t</tr>\\r\\n\\t<tr>\\r\\n\\t<td width=\"106\" align=\"center\">\\r\\n\\t4</td>\\r\\n\\t<td width=\"337\" align=\"center\">\\r\\n\\t4-10mm/hr</td>\\r\\n\\t</tr>\\r\\n\\t<tr>\\r\\n\\t<td width=\"106\" align=\"center\">\\r\\n\\t5</td>\\r\\n\\t<td width=\"337\" align=\"center\">\\r\\n\\t10-16mm/hr</td>\\r\\n\\t</tr>\\r\\n\\t<tr>\\r\\n\\t<td width=\"106\" align=\"center\">\\r\\n\\t6</td>\\r\\n\\t<td width=\"337\" align=\"center\">\\r\\n\\t16-30mm/hr</td>\\r\\n\\t</tr>\\r\\n\\t<tr>\\r\\n\\t<td width=\"106\" align=\"center\">\\r\\n\\t7</td>\\r\\n\\t<td width=\"337\" align=\"center\">\\r\\n\\t30-50mm/hr</td>\\r\\n\\t</tr>\\r\\n\\t<tr>\\r\\n\\t<td width=\"106\" align=\"center\">\\r\\n\\t8</td>\\r\\n\\t<td width=\"337\" align=\"center\">\\r\\n\\t50-75mm/hr</td>\\r\\n\\t</tr>\\r\\n\\t<tr>\\r\\n\\t<td width=\"106\" align=\"center\">\\r\\n\\t9</td>\\r\\n\\t<td width=\"337\" align=\"center\">\\r\\n\\tOver 75mm/hr</td>\\r\\n\\t</tr>\\r\\n\\t<tr>\\r\\n\\t<td width=\"134\" align=\"center\" rowspan=\"12\">\\r\\n\\tWeather Type (identical to the icon definition table)</td>\\r\\n\\t<td width=\"106\" align=\"center\">\\r\\n\\tclearday, clearnight</td>\\r\\n\\t<td width=\"337\" align=\"center\">\\r\\n\\tTotal cloud cover less than 20%</td>\\r\\n\\t</tr>\\r\\n\\t<tr>\\r\\n\\t<td width=\"106\" align=\"center\">\\r\\n\\tpcloudyday, pcloudynight</td>\\r\\n\\t<td width=\"337\" align=\"center\">\\r\\n\\tTotal cloud cover between 20%-60%</td>\\r\\n\\t</tr>\\r\\n\\t<tr>\\r\\n\\t<td width=\"106\" align=\"center\">\\r\\n\\tmcloudyday, mcloudynight</td>\\r\\n\\t<td width=\"337\" align=\"center\">\\r\\n\\tTotal cloud cover between 60%-80%</td>\\r\\n\\t</tr>\\r\\n\\t<tr>\\r\\n\\t<td width=\"106\" align=\"center\">\\r\\n\\tcloudyday, cloudynight</td>\\r\\n\\t<td width=\"337\" align=\"center\">\\r\\n\\tTotal cloud cover over over 80%</td>\\r\\n\\t</tr>\\r\\n\\t<tr>\\r\\n\\t<td width=\"106\" align=\"center\">\\r\\n\\thumidday, humidnight</td>\\r\\n\\t<td width=\"337\" align=\"center\">\\r\\n\\tRelative humidity over 90% with total cloud cover less than 60%</td>\\r\\n\\t</tr>\\r\\n\\t<tr>\\r\\n\\t<td width=\"106\" align=\"center\">\\r\\n\\tlightrainday, lightrainnight</td>\\r\\n\\t<td width=\"337\" align=\"center\">\\r\\n\\tPrecipitation rate less than 4mm/hr with total cloud cover more than 80%</td>\\r\\n\\t</tr>\\r\\n\\t<tr>\\r\\n\\t<td width=\"106\" align=\"center\">\\r\\n\\toshowerday, oshowernight</td>\\r\\n\\t<td width=\"337\" align=\"center\">\\r\\n\\tPrecipitation rate less than 4mm/hr with total cloud cover between 60%-80%</td>\\r\\n\\t</tr>\\r\\n\\t<tr>\\r\\n\\t<td width=\"106\" align=\"center\">\\r\\n\\tishowerday, ishowernight</td>\\r\\n\\t<td width=\"337\" align=\"center\">\\r\\n\\tPrecipitation rate less than 4mm/hr with total cloud cover less than 60%</td>\\r\\n\\t</tr>\\r\\n\\t<tr>\\r\\n\\t<td width=\"106\" align=\"center\">\\r\\n\\tlightsnowday, lightsnownight</td>\\r\\n\\t<td width=\"337\" align=\"center\">\\r\\n\\tPrecipitation rate less than 4mm/hr</td>\\r\\n\\t</tr>\\r\\n\\t<tr>\\r\\n\\t<td width=\"106\" align=\"center\">\\r\\n\\trainday, rainnight</td>\\r\\n\\t<td width=\"337\" align=\"center\">\\r\\n\\tPrecipitation rate over 4mm/hr</td>\\r\\n\\t</tr>\\r\\n\\t<tr>\\r\\n\\t<td width=\"106\" align=\"center\">\\r\\n\\tsnowday, snownight</td>\\r\\n\\t<td width=\"337\" align=\"center\">\\r\\n\\tPrecipitation rate over 4mm/hr</td>\\r\\n\\t</tr>\\r\\n\\t<tr>\\r\\n\\t<td width=\"106\" align=\"center\">\\r\\n\\trainsnowday, rainsnownight</td>\\r\\n\\t<td width=\"337\" align=\"center\">\\r\\n\\tPrecipitation type to be ice pellets or freezing rain</td>\\r\\n\\t</tr>\\r\\n\\t<tr>\\r\\n\\t<td width=\"106\" align=\"center\">\\r\\n\\ttsday, tsnight</td>\\r\\n\\t<td width=\"337\" align=\"center\">\\r\\n\\tLifted Index less than -5 with precipitation rate below 4mm/hr</td>\\r\\n\\t</tr>\\r\\n\\t<tr>\\r\\n\\t<td width=\"106\" align=\"center\">\\r\\n\\ttsrainday, tsrainnight</td>\\r\\n\\t<td width=\"337\" align=\"center\">\\r\\n\\tLifted Index less than -5 with precipitation rate over 4mm/hr</td>\\r\\n\\t</tr>\\r\\n\\t<tr>\\r\\n\\t<td width=\"134\" align=\"center\">\\r\\n\\tUndefined</td>\\r\\n\\t<td width=\"106\" align=\"center\">\\r\\n\\t-9999</td>\\r\\n\\t<td width=\"337\" align=\"center\">\\r\\n\\tUndefined</td>\\r\\n\\t</tr>\\r\\n\\t</table>\\r\\n</div>\\r\\n\\t\\r\\n<h4><a name=\"civillight\">2.3.2 CIVIL Light</a></h4>\\r\\n\\t\\r\\n<p>CIVIL Light is a simplfied version of CIVIL which only provide 7-day forecast on a day-to-day basis. The definition of icons and API output values are mostly identical to CIVIL.</p>\\r\\n\\r\\n<h4><a name=\"two\">2.3.3 Two-Week-Overview</a></h4>\\r\\n\\r\\n<p>Two-Week-Overview (TWO) is intended for civil users. It will display the forecasted weather condition for the next 9-16 days with a set of easy-to-read weather icons. Explanation of each icon, as well as the definition of values returned by machine-readable API, are given below.</p>\\r\\n\\r\\n<div align=\"center\">\\r\\n\\t<p>Icon Definition</p>\\r\\n\\t<table border=\"1\" width=\"599\" height=\"134\">\\r\\n\\t\\t<tr>\\r\\n\\t\\t\\t<td height=\"16\" width=\"136\" align=\"center\">Icon</td>\\r\\n\\t\\t\\t<td height=\"16\" width=\"129\" align=\"center\">Meaning</td>\\r\\n\\t\\t\\t<td height=\"16\" width=\"312\" align=\"center\">Technical Definition</td>\\r\\n\\t\\t</tr>\\r\\n\\t\\t<tr>\\r\\n\\t\\t\\t<td height=\"20\" width=\"136\" align=\"center\"><img src=\"../img/misc/about_two_clear.png\"></td>\\r\\n\\t\\t\\t<td height=\"20\" width=\"129\" align=\"center\">Clear</td>\\r\\n\\t\\t\\t<td height=\"20\" width=\"312\" align=\"center\">Total cloud cover less \\r\\n\\t\\t\\tthan 20%</td>\\r\\n\\t\\t</tr>\\r\\n\\t\\t<tr>\\r\\n\\t\\t\\t<td height=\"20\" width=\"136\" align=\"center\"><img src=\"../img/misc/about_two_pcloudy.png\"></td>\\r\\n\\t\\t\\t<td height=\"20\" width=\"129\" align=\"center\">Partly Cloudy</td>\\r\\n\\t\\t\\t<td height=\"20\" width=\"312\" align=\"center\">Total cloud cover between \\r\\n\\t\\t\\t20%-80%</td>\\r\\n\\t\\t</tr>\\r\\n\\t\\t<tr>\\r\\n\\t\\t\\t<td height=\"20\" width=\"136\" align=\"center\"><img src=\"../img/misc/about_two_cloudy.png\"></td>\\r\\n\\t\\t\\t<td height=\"20\" width=\"129\" align=\"center\">Cloudy</td>\\r\\n\\t\\t\\t<td height=\"20\" width=\"312\" align=\"center\">Total cloud cover over \\r\\n\\t\\t\\tover 80%</td>\\r\\n\\t\\t</tr>\\r\\n\\t\\t<tr>\\r\\n\\t\\t\\t<td height=\"2\" width=\"136\" align=\"center\"><img src=\"../img/misc/about_two_rain.png\"></td>\\r\\n\\t\\t\\t<td height=\"2\" width=\"129\" align=\"center\">Rain</td>\\r\\n\\t\\t\\t<td height=\"2\" width=\"312\" align=\"center\">Rain</td>\\r\\n\\t\\t</tr>\\r\\n\\t\\t<tr>\\r\\n\\t\\t\\t<td height=\"2\" width=\"136\" align=\"center\"><img src=\"../img/misc/about_two_snow.png\"></td>\\r\\n\\t\\t\\t<td height=\"2\" width=\"129\" align=\"center\">Snow</td>\\r\\n\\t\\t\\t<td height=\"2\" width=\"312\" align=\"center\">Snow</td>\\r\\n\\t\\t</tr>\\r\\n\\t\\t<tr>\\r\\n\\t\\t\\t<td height=\"2\" width=\"136\" align=\"center\"><img src=\"../img/misc/about_two_ts.png\"></td>\\r\\n\\t\\t\\t<td height=\"2\" width=\"129\" align=\"center\">Thunderstorm</td>\\r\\n\\t\\t\\t<td height=\"2\" width=\"312\" align=\"center\">Lifted Index less than -5</td>\\r\\n\\t\\t</tr>\\r\\n\\t\\t<tr>\\r\\n\\t\\t\\t<td height=\"2\" width=\"136\" align=\"center\"><img src=\"../img/misc/about_two_tsrain.png\"></td>\\r\\n\\t\\t\\t<td height=\"2\" width=\"129\" align=\"center\">Thunderstorm with rain</td>\\r\\n\\t\\t\\t<td height=\"2\" width=\"312\" align=\"center\">Lifted Index less than -5 \\r\\n\\t\\t\\twith rain</td>\\r\\n\\t\\t</tr>\\r\\n\\t\\t</table>\\t<small>Icons are designed by Weather Sniffer and Iconbest.</small>\\r\\n</div>\\r\\n\\r\\n<div align=\"center\">\\r\\n\\t<p>Definition of API Output Value</p>\\r\\n\\t<table border=\"1\" width=\"599\" height=\"134\">\\r\\n\\t<tr>\\r\\n\\t<td width=\"134\" align=\"center\">\\r\\n\\tVariable</td>\\r\\n\\t<td width=\"106\" align=\"center\">\\r\\n\\tValue</td>\\r\\n\\t<td width=\"337\" align=\"center\">\\r\\n\\tMeaning</td>\\r\\n\\t</tr>\\r\\n\\t<tr>\\r\\n\\t<td width=\"134\" align=\"center\" rowspan=\"9\">\\r\\n\\tCloud Cover</td>\\r\\n\\t<td width=\"106\" align=\"center\">\\r\\n\\t1</td>\\r\\n\\t<td width=\"337\" align=\"center\">\\r\\n\\t0%-6%</td>\\r\\n\\t</tr>\\r\\n\\t<tr>\\r\\n\\t<td width=\"106\" align=\"center\">\\r\\n\\t2</td>\\r\\n\\t<td width=\"337\" align=\"center\">\\r\\n\\t6%-19%</td>\\r\\n\\t</tr>\\r\\n\\t<tr>\\r\\n\\t<td width=\"106\" align=\"center\">\\r\\n\\t3</td>\\r\\n\\t<td width=\"337\" align=\"center\">\\r\\n\\t19%-31%</td>\\r\\n\\t</tr>\\r\\n\\t<tr>\\r\\n\\t<td width=\"106\" align=\"center\">\\r\\n\\t4</td>\\r\\n\\t<td width=\"337\" align=\"center\">\\r\\n\\t31%-44%</td>\\r\\n\\t</tr>\\r\\n\\t<tr>\\r\\n\\t<td width=\"106\" align=\"center\">\\r\\n\\t5</td>\\r\\n\\t<td width=\"337\" align=\"center\">\\r\\n\\t44%-56%</td>\\r\\n\\t</tr>\\r\\n\\t<tr>\\r\\n\\t<td width=\"106\" align=\"center\">\\r\\n\\t6</td>\\r\\n\\t<td width=\"337\" align=\"center\">\\r\\n\\t56%-69%</td>\\r\\n\\t</tr>\\r\\n\\t<tr>\\r\\n\\t<td width=\"106\" align=\"center\">\\r\\n\\t7</td>\\r\\n\\t<td width=\"337\" align=\"center\">\\r\\n\\t69%-81%</td>\\r\\n\\t</tr>\\r\\n\\t<tr>\\r\\n\\t<td width=\"106\" align=\"center\">\\r\\n\\t8</td>\\r\\n\\t<td width=\"337\" align=\"center\">\\r\\n\\t81%-94%</td>\\r\\n\\t</tr>\\r\\n\\t<tr>\\r\\n\\t<td width=\"106\" align=\"center\">\\r\\n\\t9</td>\\r\\n\\t<td width=\"337\" align=\"center\">\\r\\n\\t94%-100%</td>\\r\\n\\t</tr>\\r\\n\\t<tr>\\r\\n\\t<td width=\"134\" align=\"center\" rowspan=\"8\">\\r\\n\\tLifted Index</td>\\r\\n\\t<td width=\"106\" align=\"center\">\\r\\n\\t-10</td>\\r\\n\\t<td width=\"337\" align=\"center\">\\r\\n\\tBelow -7</td>\\r\\n\\t</tr>\\r\\n\\t<tr>\\r\\n\\t<td width=\"106\" align=\"center\">\\r\\n\\t-6</td>\\r\\n\\t<td width=\"337\" align=\"center\">\\r\\n\\t-7 to -5</td>\\r\\n\\t</tr>\\r\\n\\t<tr>\\r\\n\\t<td width=\"106\" align=\"center\">\\r\\n\\t-4</td>\\r\\n\\t<td width=\"337\" align=\"center\">\\r\\n\\t-5 to -3</td>\\r\\n\\t</tr>\\r\\n\\t<tr>\\r\\n\\t<td width=\"106\" align=\"center\">\\r\\n\\t-1</td>\\r\\n\\t<td width=\"337\" align=\"center\">\\r\\n\\t-3 to 0</td>\\r\\n\\t</tr>\\r\\n\\t<tr>\\r\\n\\t<td width=\"106\" align=\"center\">\\r\\n\\t2</td>\\r\\n\\t<td width=\"337\" align=\"center\">\\r\\n\\t0 to 4</td>\\r\\n\\t</tr>\\r\\n\\t<tr>\\r\\n\\t<td width=\"106\" align=\"center\">\\r\\n\\t6</td>\\r\\n\\t<td width=\"337\" align=\"center\">\\r\\n\\t4 to 8</td>\\r\\n\\t</tr>\\r\\n\\t<tr>\\r\\n\\t<td width=\"106\" align=\"center\">\\r\\n\\t10</td>\\r\\n\\t<td width=\"337\" align=\"center\">\\r\\n\\t8 to 11</td>\\r\\n\\t</tr>\\r\\n\\t<tr>\\r\\n\\t<td width=\"106\" align=\"center\">\\r\\n\\t15</td>\\r\\n\\t<td width=\"337\" align=\"center\">\\r\\n\\tOver 11</td>\\r\\n\\t</tr>\\r\\n\\t<tr>\\r\\n\\t<td width=\"134\" align=\"center\">\\r\\n\\tMax/Min 2m Temperature</td>\\r\\n\\t<td width=\"106\" align=\"center\">\\r\\n\\t-76 to 60</td>\\r\\n\\t<td width=\"337\" align=\"center\">\\r\\n\\t-76C to +60C</td>\\r\\n\\t</tr>\\r\\n\\t<tr>\\r\\n\\t<td width=\"134\" align=\"center\" rowspan=\"21\">\\r\\n\\t2m Relative Humidity</td>\\r\\n\\t<td width=\"106\" align=\"center\">\\r\\n\\t-4</td>\\r\\n\\t<td width=\"337\" align=\"center\">\\r\\n\\t0%-5%</td>\\r\\n\\t</tr>\\r\\n\\t<tr>\\r\\n\\t<td width=\"106\" align=\"center\">\\r\\n\\t-3</td>\\r\\n\\t<td width=\"337\" align=\"center\">\\r\\n\\t5%-10%</td>\\r\\n\\t</tr>\\r\\n\\t<tr>\\r\\n\\t<td width=\"106\" align=\"center\">\\r\\n\\t-2</td>\\r\\n\\t<td width=\"337\" align=\"center\">\\r\\n\\t10%-15%</td>\\r\\n\\t</tr>\\r\\n\\t<tr>\\r\\n\\t<td width=\"106\" align=\"center\">\\r\\n\\t-1</td>\\r\\n\\t<td width=\"337\" align=\"center\">\\r\\n\\t15%-20%</td>\\r\\n\\t</tr>\\r\\n\\t<tr>\\r\\n\\t<td width=\"106\" align=\"center\">\\r\\n\\t0</td>\\r\\n\\t<td width=\"337\" align=\"center\">\\r\\n\\t20%-25%</td>\\r\\n\\t</tr>\\r\\n\\t<tr>\\r\\n\\t<td width=\"106\" align=\"center\">\\r\\n\\t1</td>\\r\\n\\t<td width=\"337\" align=\"center\">\\r\\n\\t25%-30%</td>\\r\\n\\t</tr>\\r\\n\\t<tr>\\r\\n\\t<td width=\"106\" align=\"center\">\\r\\n\\t2</td>\\r\\n\\t<td width=\"337\" align=\"center\">\\r\\n\\t30%-35%</td>\\r\\n\\t</tr>\\r\\n\\t<tr>\\r\\n\\t<td width=\"106\" align=\"center\">\\r\\n\\t3</td>\\r\\n\\t<td width=\"337\" align=\"center\">\\r\\n\\t35%-40%</td>\\r\\n\\t</tr>\\r\\n\\t<tr>\\r\\n\\t<td width=\"106\" align=\"center\">\\r\\n\\t4</td>\\r\\n\\t<td width=\"337\" align=\"center\">\\r\\n\\t40%-45%</td>\\r\\n\\t</tr>\\r\\n\\t<tr>\\r\\n\\t<td width=\"106\" align=\"center\">\\r\\n\\t5</td>\\r\\n\\t<td width=\"337\" align=\"center\">\\r\\n\\t45%-50%</td>\\r\\n\\t</tr>\\r\\n\\t<tr>\\r\\n\\t<td width=\"106\" align=\"center\">\\r\\n\\t6</td>\\r\\n\\t<td width=\"337\" align=\"center\">\\r\\n\\t50%-55%</td>\\r\\n\\t</tr>\\r\\n\\t<tr>\\r\\n\\t<td width=\"106\" align=\"center\">\\r\\n\\t7</td>\\r\\n\\t<td width=\"337\" align=\"center\">\\r\\n\\t55%-60%</td>\\r\\n\\t</tr>\\r\\n\\t<tr>\\r\\n\\t<td width=\"106\" align=\"center\">\\r\\n\\t8</td>\\r\\n\\t<td width=\"337\" align=\"center\">\\r\\n\\t60%-65%</td>\\r\\n\\t</tr>\\r\\n\\t<tr>\\r\\n\\t<td width=\"106\" align=\"center\">\\r\\n\\t9</td>\\r\\n\\t<td width=\"337\" align=\"center\">\\r\\n\\t65%-70%</td>\\r\\n\\t</tr>\\r\\n\\t<tr>\\r\\n\\t<td width=\"106\" align=\"center\">\\r\\n\\t10</td>\\r\\n\\t<td width=\"337\" align=\"center\">\\r\\n\\t70%-75%</td>\\r\\n\\t</tr>\\r\\n\\t<tr>\\r\\n\\t<td width=\"106\" align=\"center\">\\r\\n\\t11</td>\\r\\n\\t<td width=\"337\" align=\"center\">\\r\\n\\t75%-80%</td>\\r\\n\\t</tr>\\r\\n\\t<tr>\\r\\n\\t<td width=\"106\" align=\"center\">\\r\\n\\t12</td>\\r\\n\\t<td width=\"337\" align=\"center\">\\r\\n\\t80%-85%</td>\\r\\n\\t</tr>\\r\\n\\t<tr>\\r\\n\\t<td width=\"106\" align=\"center\">\\r\\n\\t13</td>\\r\\n\\t<td width=\"337\" align=\"center\">\\r\\n\\t85%-90%</td>\\r\\n\\t</tr>\\r\\n\\t<tr>\\r\\n\\t<td width=\"106\" align=\"center\">\\r\\n\\t14</td>\\r\\n\\t<td width=\"337\" align=\"center\">\\r\\n\\t90%-95%</td>\\r\\n\\t</tr>\\r\\n\\t<tr>\\r\\n\\t<td width=\"106\" align=\"center\">\\r\\n\\t15</td>\\r\\n\\t<td width=\"337\" align=\"center\">\\r\\n\\t95%-99%</td>\\r\\n\\t</tr>\\r\\n\\t<tr>\\r\\n\\t<td width=\"106\" align=\"center\">\\r\\n\\t16</td>\\r\\n\\t<td width=\"337\" align=\"center\">\\r\\n\\t100%</td>\\r\\n\\t</tr>\\r\\n\\t<tr>\\r\\n\\t<td width=\"134\" align=\"center\">\\r\\n\\t10m Wind Direction</td>\\r\\n\\t<td width=\"443\" align=\"center\" colspan=\"2\">\\r\\n\\tN, NE, E, SE, S, SW, W, NW</td>\\r\\n\\t</tr>\\r\\n\\t<tr>\\r\\n\\t<td width=\"134\" align=\"center\" rowspan=\"8\">\\r\\n\\t10m Wind Speed</td>\\r\\n\\t<td width=\"106\" align=\"center\">\\r\\n\\t1</td>\\r\\n\\t<td width=\"337\" align=\"center\">\\r\\n\\tBelow 0.3m/s (calm)</td>\\r\\n\\t</tr>\\r\\n\\t<tr>\\r\\n\\t<td width=\"106\" align=\"center\">\\r\\n\\t2</td>\\r\\n\\t<td width=\"337\" align=\"center\">\\r\\n\\t0.3-3.4m/s (light)</td>\\r\\n\\t</tr>\\r\\n\\t<tr>\\r\\n\\t<td width=\"106\" align=\"center\">\\r\\n\\t3</td>\\r\\n\\t<td width=\"337\" align=\"center\">\\r\\n\\t3.4-8.0m/s (moderate)</td>\\r\\n\\t</tr>\\r\\n\\t<tr>\\r\\n\\t<td width=\"106\" align=\"center\">\\r\\n\\t4</td>\\r\\n\\t<td width=\"337\" align=\"center\">\\r\\n\\t8.0-10.8m/s (fresh)</td>\\r\\n\\t</tr>\\r\\n\\t<tr>\\r\\n\\t<td width=\"106\" align=\"center\">\\r\\n\\t5</td>\\r\\n\\t<td width=\"337\" align=\"center\">\\r\\n\\t10.8-17.2m/s (strong)</td>\\r\\n\\t</tr>\\r\\n\\t<tr>\\r\\n\\t<td width=\"106\" align=\"center\">\\r\\n\\t6</td>\\r\\n\\t<td width=\"337\" align=\"center\">\\r\\n\\t17.2-24.5m/s (gale)</td>\\r\\n\\t</tr>\\r\\n\\t<tr>\\r\\n\\t<td width=\"106\" align=\"center\">\\r\\n\\t7</td>\\r\\n\\t<td width=\"337\" align=\"center\">\\r\\n\\t24.5-32.6m/s (storm)</td>\\r\\n\\t</tr>\\r\\n\\t<tr>\\r\\n\\t<td width=\"106\" align=\"center\">\\r\\n\\t8</td>\\r\\n\\t<td width=\"337\" align=\"center\">\\r\\n\\tOver 32.6m/s (hurricane)</td>\\r\\n\\t</tr>\\r\\n\\t<tr>\\r\\n\\t<td width=\"134\" align=\"center\">\\r\\n\\tPrecipitation Type</td>\\r\\n\\t<td width=\"443\" align=\"center\" colspan=\"2\">\\r\\n\\tsnow, rain, frzr (freezing rain), icep (ice pellets), none</td>\\r\\n\\t</tr>\\r\\n\\t<tr>\\r\\n\\t<td width=\"134\" align=\"center\" rowspan=\"7\">\\r\\n\\tWeather Type (identical to the icon definition table)</td>\\r\\n\\t<td width=\"106\" align=\"center\">\\r\\n\\tclear</td>\\r\\n\\t<td width=\"337\" align=\"center\">\\r\\n\\tTotal cloud cover less than 20%</td>\\r\\n\\t</tr>\\r\\n\\t<tr>\\r\\n\\t<td width=\"106\" align=\"center\">\\r\\n\\tmcloudy</td>\\r\\n\\t<td width=\"337\" align=\"center\">\\r\\n\\tTotal cloud cover between 20%-80%</td>\\r\\n\\t</tr>\\r\\n\\t<tr>\\r\\n\\t<td width=\"106\" align=\"center\">\\r\\n\\tcloudy</td>\\r\\n\\t<td width=\"337\" align=\"center\">\\r\\n\\tTotal cloud cover over over 80%</td>\\r\\n\\t</tr>\\r\\n\\t<tr>\\r\\n\\t<td width=\"106\" align=\"center\">\\r\\n\\train</td>\\r\\n\\t<td width=\"337\" align=\"center\">\\r\\n\\tRain with total cloud cover over 80%</td>\\r\\n\\t</tr>\\r\\n\\t<tr>\\r\\n\\t<td width=\"106\" align=\"center\">\\r\\n\\tsnow</td>\\r\\n\\t<td width=\"337\" align=\"center\">\\r\\n\\tSnow with total cloud cover over 80%</td>\\r\\n\\t</tr>\\r\\n\\t<tr>\\r\\n\\t<td width=\"106\" align=\"center\">\\r\\n\\tts</td>\\r\\n\\t<td width=\"337\" align=\"center\">\\r\\n\\tLifted Index less than -5</td>\\r\\n\\t</tr>\\r\\n\\t<tr>\\r\\n\\t<td width=\"106\" align=\"center\">\\r\\n\\ttsrain</td>\\r\\n\\t<td width=\"337\" align=\"center\">\\r\\n\\tLifted Index less than -5 with rain</td>\\r\\n\\t</tr>\\r\\n\\t<tr>\\r\\n\\t<td width=\"134\" align=\"center\">\\r\\n\\tUndefined</td>\\r\\n\\t<td width=\"106\" align=\"center\">\\r\\n\\t-9999</td>\\r\\n\\t<td width=\"337\" align=\"center\">\\r\\n\\tUndefined</td>\\r\\n\\t</tr>\\r\\n\\t</table>\\r\\n</div>\\r\\n\\r\\n<p>Please be aware that the forecast is highly uncertain given to the large leading time of TWO.</p>\\r\\n\\r\\n<h4><a name=\"astro\">2.3.4 ASTRO</a></h4>\\r\\n\\r\\n<p>As the oldest product that <i>7Timer!</i> has ever provided, ASTRO product is mainly intended for astronomical purpose. The forecast range is 3-day and has included several elements that concerns astronomers most – such as cloud cover, astronomical seeing and atmospheric transparency. For details of the forecast method, see Publ. Astron. Soc. Pac., 123, 113, and references therein.</p>\\r\\n\\r\\n<p>Explanation of each icon is given below.</p>\\r\\n\\t\\r\\n<div align=\"center\">\\r\\n\\t<p>Icon Definition</p>\\r\\n\\t<table border=\"1\" width=\"599\" height=\"134\">\\r\\n\\t\\t<tr>\\r\\n\\t\\t\\t<td height=\"16\" width=\"185\" align=\"center\">Icon</td>\\r\\n\\t\\t\\t<td height=\"16\" width=\"398\" align=\"center\">Technical Definition</td>\\r\\n\\t\\t</tr>\\r\\n\\t\\t<tr>\\r\\n\\t\\t\\t<td height=\"20\" width=\"185\" align=\"center\"><img src=\"../img/misc/about_astro_cloud.png\"></td>\\r\\n\\t\\t\\t<td height=\"20\" width=\"398\" align=\"center\">Octet-gram of cloud \\r\\n\\t\\t\\tcover, blue is for clear while white is for cloud. e.g. the &quot;cake&quot; \\r\\n\\t\\t\\ton the left is 0% cloud while the one on the right is 100% cloud.</td>\\r\\n\\t\\t</tr>\\r\\n\\t\\t<tr>\\r\\n\\t\\t\\t<td height=\"20\" width=\"185\" align=\"center\"><img src=\"../img/misc/about_astro_seeing.png\"></td>\\r\\n\\t\\t\\t<td height=\"20\" width=\"398\" align=\"center\">Astronomical seeing. From \\r\\n\\t\\t\\tleft to right: &lt;0.5&quot;, 0.5&quot;-0.75&quot;, 0.75&quot;-1&quot;, 1&quot;-1.25&quot;, 1.25&quot;-1.5&quot;, \\r\\n\\t\\t\\t1.5&quot;-2&quot;, 2&quot;-2.5&quot;, &gt;2.5&quot;. In short, the smaller/bluer, the better the \\r\\n\\t\\t\\tseeing condition is.</td>\\r\\n\\t\\t</tr>\\r\\n\\t\\t<tr>\\r\\n\\t\\t\\t<td height=\"20\" width=\"185\" align=\"center\"><img src=\"../img/misc/about_astro_transparency.png\"></td>\\r\\n\\t\\t\\t<td height=\"20\" width=\"398\" align=\"center\">Atmospheric transparency. \\r\\n\\t\\t\\tFrom left to right: &lt;0.3, 0.3-0.4, 0.4-0.5, 0.5-0.6, 0.6-0.7, \\r\\n\\t\\t\\t0.7-0.85, 0.85-1, &gt;1 (unit: mag per air mass). In short, the fewer \\r\\n\\t\\t\\tbars/bluer, the better the transparency is.</td>\\r\\n\\t\\t</tr>\\r\\n\\t\\t<tr>\\r\\n\\t\\t\\t<td height=\"2\" width=\"185\" align=\"center\"><img src=\"../img/misc/about_astro_rainsnow.png\"></td>\\r\\n\\t\\t\\t<td height=\"2\" width=\"398\" align=\"center\">Chances of rain/snow.</td>\\r\\n\\t\\t</tr>\\r\\n\\t\\t<tr>\\r\\n\\t\\t\\t<td height=\"2\" width=\"185\" align=\"center\"><img src=\"../img/misc/about_astro_unstable.png\"></td>\\r\\n\\t\\t\\t<td height=\"2\" width=\"398\" align=\"center\">Atmospheric instability. \\r\\n\\t\\t\\tFrom left to right: lifted index between 0 to -3, -3 to -5, and \\r\\n\\t\\t\\tbelow -5.</td>\\r\\n\\t\\t</tr>\\r\\n\\t\\t<tr>\\r\\n\\t\\t\\t<td height=\"2\" width=\"185\" align=\"center\"><img src=\"../img/misc/about_astro_rh.png\"></td>\\r\\n\\t\\t\\t<td height=\"2\" width=\"398\" align=\"center\">Humid weather warning. \\r\\n\\t\\t\\tFrom left to right: relative humidity between 80%-90%, 90%-95%, and \\r\\n\\t\\t\\tover 95%.</td>\\r\\n\\t\\t</tr>\\r\\n\\t\\t<tr>\\r\\n\\t\\t\\t<td height=\"2\" width=\"185\" align=\"center\"><img src=\"../img/misc/about_astro_wind.png\"></td>\\r\\n\\t\\t\\t<td height=\"2\" width=\"398\" align=\"center\">Windy weather warning. \\r\\n\\t\\t\\tFrom left to right: sustained wind speed between 8.0-10.8m/s \\r\\n\\t\\t\\t(fresh), 10.8-17.2m/s (strong), and over 17.2m/s (gale or above).</td>\\r\\n\\t\\t</tr>\\r\\n\\t</table></div>\\r\\n\\t\\t\\t\\t\\r\\n<div align=\"center\">\\r\\n\\t<p>Definition of API Output Value</p>\\r\\n\\t<table border=\"1\" width=\"599\" height=\"134\">\\r\\n\\t<tr>\\r\\n\\t<td width=\"134\" align=\"center\">\\r\\n\\tVariable</td>\\r\\n\\t<td width=\"106\" align=\"center\">\\r\\n\\tValue</td>\\r\\n\\t<td width=\"337\" align=\"center\">\\r\\n\\tMeaning</td>\\r\\n\\t</tr>\\r\\n\\t<tr>\\r\\n\\t<td width=\"134\" align=\"center\" rowspan=\"9\">\\r\\n\\tCloud Cover</td>\\r\\n\\t<td width=\"106\" align=\"center\">\\r\\n\\t1</td>\\r\\n\\t<td width=\"337\" align=\"center\">\\r\\n\\t0%-6%</td>\\r\\n\\t</tr>\\r\\n\\t<tr>\\r\\n\\t<td width=\"106\" align=\"center\">\\r\\n\\t2</td>\\r\\n\\t<td width=\"337\" align=\"center\">\\r\\n\\t6%-19%</td>\\r\\n\\t</tr>\\r\\n\\t<tr>\\r\\n\\t<td width=\"106\" align=\"center\">\\r\\n\\t3</td>\\r\\n\\t<td width=\"337\" align=\"center\">\\r\\n\\t19%-31%</td>\\r\\n\\t</tr>\\r\\n\\t<tr>\\r\\n\\t<td width=\"106\" align=\"center\">\\r\\n\\t4</td>\\r\\n\\t<td width=\"337\" align=\"center\">\\r\\n\\t31%-44%</td>\\r\\n\\t</tr>\\r\\n\\t<tr>\\r\\n\\t<td width=\"106\" align=\"center\">\\r\\n\\t5</td>\\r\\n\\t<td width=\"337\" align=\"center\">\\r\\n\\t44%-56%</td>\\r\\n\\t</tr>\\r\\n\\t<tr>\\r\\n\\t<td width=\"106\" align=\"center\">\\r\\n\\t6</td>\\r\\n\\t<td width=\"337\" align=\"center\">\\r\\n\\t56%-69%</td>\\r\\n\\t</tr>\\r\\n\\t<tr>\\r\\n\\t<td width=\"106\" align=\"center\">\\r\\n\\t7</td>\\r\\n\\t<td width=\"337\" align=\"center\">\\r\\n\\t69%-81%</td>\\r\\n\\t</tr>\\r\\n\\t<tr>\\r\\n\\t<td width=\"106\" align=\"center\">\\r\\n\\t8</td>\\r\\n\\t<td width=\"337\" align=\"center\">\\r\\n\\t81%-94%</td>\\r\\n\\t</tr>\\r\\n\\t<tr>\\r\\n\\t<td width=\"106\" align=\"center\">\\r\\n\\t9</td>\\r\\n\\t<td width=\"337\" align=\"center\">\\r\\n\\t94%-100%</td>\\r\\n\\t</tr>\\r\\n\\t<tr>\\r\\n\\t<td width=\"134\" align=\"center\" rowspan=\"8\">\\r\\n\\tLifted Index</td>\\r\\n\\t<td width=\"106\" align=\"center\">\\r\\n\\t-10</td>\\r\\n\\t<td width=\"337\" align=\"center\">\\r\\n\\tBelow -7</td>\\r\\n\\t</tr>\\r\\n\\t<tr>\\r\\n\\t<td width=\"106\" align=\"center\">\\r\\n\\t-6</td>\\r\\n\\t<td width=\"337\" align=\"center\">\\r\\n\\t-7 to -5</td>\\r\\n\\t</tr>\\r\\n\\t<tr>\\r\\n\\t<td width=\"106\" align=\"center\">\\r\\n\\t-4</td>\\r\\n\\t<td width=\"337\" align=\"center\">\\r\\n\\t-5 to -3</td>\\r\\n\\t</tr>\\r\\n\\t<tr>\\r\\n\\t<td width=\"106\" align=\"center\">\\r\\n\\t-1</td>\\r\\n\\t<td width=\"337\" align=\"center\">\\r\\n\\t-3 to 0</td>\\r\\n\\t</tr>\\r\\n\\t<tr>\\r\\n\\t<td width=\"106\" align=\"center\">\\r\\n\\t2</td>\\r\\n\\t<td width=\"337\" align=\"center\">\\r\\n\\t0 to 4</td>\\r\\n\\t</tr>\\r\\n\\t<tr>\\r\\n\\t<td width=\"106\" align=\"center\">\\r\\n\\t6</td>\\r\\n\\t<td width=\"337\" align=\"center\">\\r\\n\\t4 to 8</td>\\r\\n\\t</tr>\\r\\n\\t<tr>\\r\\n\\t<td width=\"106\" align=\"center\">\\r\\n\\t10</td>\\r\\n\\t<td width=\"337\" align=\"center\">\\r\\n\\t8 to 11</td>\\r\\n\\t</tr>\\r\\n\\t<tr>\\r\\n\\t<td width=\"106\" align=\"center\">\\r\\n\\t15</td>\\r\\n\\t<td width=\"337\" align=\"center\">\\r\\n\\tOver 11</td>\\r\\n\\t</tr>\\r\\n\\t<tr>\\r\\n\\t<td width=\"134\" align=\"center\">\\r\\n\\t2m Temperature</td>\\r\\n\\t<td width=\"106\" align=\"center\">\\r\\n\\t-76 to 60</td>\\r\\n\\t<td width=\"337\" align=\"center\">\\r\\n\\t-76C to +60C</td>\\r\\n\\t</tr>\\r\\n\\t<tr>\\r\\n\\t<td width=\"134\" align=\"center\" rowspan=\"21\">\\r\\n\\t2m Relative Humidity</td>\\r\\n\\t<td width=\"106\" align=\"center\">\\r\\n\\t-4</td>\\r\\n\\t<td width=\"337\" align=\"center\">\\r\\n\\t0%-5%</td>\\r\\n\\t</tr>\\r\\n\\t<tr>\\r\\n\\t<td width=\"106\" align=\"center\">\\r\\n\\t-3</td>\\r\\n\\t<td width=\"337\" align=\"center\">\\r\\n\\t5%-10%</td>\\r\\n\\t</tr>\\r\\n\\t<tr>\\r\\n\\t<td width=\"106\" align=\"center\">\\r\\n\\t-2</td>\\r\\n\\t<td width=\"337\" align=\"center\">\\r\\n\\t10%-15%</td>\\r\\n\\t</tr>\\r\\n\\t<tr>\\r\\n\\t<td width=\"106\" align=\"center\">\\r\\n\\t-1</td>\\r\\n\\t<td width=\"337\" align=\"center\">\\r\\n\\t15%-20%</td>\\r\\n\\t</tr>\\r\\n\\t<tr>\\r\\n\\t<td width=\"106\" align=\"center\">\\r\\n\\t0</td>\\r\\n\\t<td width=\"337\" align=\"center\">\\r\\n\\t20%-25%</td>\\r\\n\\t</tr>\\r\\n\\t<tr>\\r\\n\\t<td width=\"106\" align=\"center\">\\r\\n\\t1</td>\\r\\n\\t<td width=\"337\" align=\"center\">\\r\\n\\t25%-30%</td>\\r\\n\\t</tr>\\r\\n\\t<tr>\\r\\n\\t<td width=\"106\" align=\"center\">\\r\\n\\t2</td>\\r\\n\\t<td width=\"337\" align=\"center\">\\r\\n\\t30%-35%</td>\\r\\n\\t</tr>\\r\\n\\t<tr>\\r\\n\\t<td width=\"106\" align=\"center\">\\r\\n\\t3</td>\\r\\n\\t<td width=\"337\" align=\"center\">\\r\\n\\t35%-40%</td>\\r\\n\\t</tr>\\r\\n\\t<tr>\\r\\n\\t<td width=\"106\" align=\"center\">\\r\\n\\t4</td>\\r\\n\\t<td width=\"337\" align=\"center\">\\r\\n\\t40%-45%</td>\\r\\n\\t</tr>\\r\\n\\t<tr>\\r\\n\\t<td width=\"106\" align=\"center\">\\r\\n\\t5</td>\\r\\n\\t<td width=\"337\" align=\"center\">\\r\\n\\t45%-50%</td>\\r\\n\\t</tr>\\r\\n\\t<tr>\\r\\n\\t<td width=\"106\" align=\"center\">\\r\\n\\t6</td>\\r\\n\\t<td width=\"337\" align=\"center\">\\r\\n\\t50%-55%</td>\\r\\n\\t</tr>\\r\\n\\t<tr>\\r\\n\\t<td width=\"106\" align=\"center\">\\r\\n\\t7</td>\\r\\n\\t<td width=\"337\" align=\"center\">\\r\\n\\t55%-60%</td>\\r\\n\\t</tr>\\r\\n\\t<tr>\\r\\n\\t<td width=\"106\" align=\"center\">\\r\\n\\t8</td>\\r\\n\\t<td width=\"337\" align=\"center\">\\r\\n\\t60%-65%</td>\\r\\n\\t</tr>\\r\\n\\t<tr>\\r\\n\\t<td width=\"106\" align=\"center\">\\r\\n\\t9</td>\\r\\n\\t<td width=\"337\" align=\"center\">\\r\\n\\t65%-70%</td>\\r\\n\\t</tr>\\r\\n\\t<tr>\\r\\n\\t<td width=\"106\" align=\"center\">\\r\\n\\t10</td>\\r\\n\\t<td width=\"337\" align=\"center\">\\r\\n\\t70%-75%</td>\\r\\n\\t</tr>\\r\\n\\t<tr>\\r\\n\\t<td width=\"106\" align=\"center\">\\r\\n\\t11</td>\\r\\n\\t<td width=\"337\" align=\"center\">\\r\\n\\t75%-80%</td>\\r\\n\\t</tr>\\r\\n\\t<tr>\\r\\n\\t<td width=\"106\" align=\"center\">\\r\\n\\t12</td>\\r\\n\\t<td width=\"337\" align=\"center\">\\r\\n\\t80%-85%</td>\\r\\n\\t</tr>\\r\\n\\t<tr>\\r\\n\\t<td width=\"106\" align=\"center\">\\r\\n\\t13</td>\\r\\n\\t<td width=\"337\" align=\"center\">\\r\\n\\t85%-90%</td>\\r\\n\\t</tr>\\r\\n\\t<tr>\\r\\n\\t<td width=\"106\" align=\"center\">\\r\\n\\t14</td>\\r\\n\\t<td width=\"337\" align=\"center\">\\r\\n\\t90%-95%</td>\\r\\n\\t</tr>\\r\\n\\t<tr>\\r\\n\\t<td width=\"106\" align=\"center\">\\r\\n\\t15</td>\\r\\n\\t<td width=\"337\" align=\"center\">\\r\\n\\t95%-99%</td>\\r\\n\\t</tr>\\r\\n\\t<tr>\\r\\n\\t<td width=\"106\" align=\"center\">\\r\\n\\t16</td>\\r\\n\\t<td width=\"337\" align=\"center\">\\r\\n\\t100%</td>\\r\\n\\t</tr>\\r\\n\\t<tr>\\r\\n\\t<td width=\"134\" align=\"center\" rowspan=\"8\">\\r\\n\\t10m Wind Speed</td>\\r\\n\\t<td width=\"106\" align=\"center\">\\r\\n\\t1</td>\\r\\n\\t<td width=\"337\" align=\"center\">\\r\\n\\tBelow 0.3m/s (calm)</td>\\r\\n\\t</tr>\\r\\n\\t<tr>\\r\\n\\t<td width=\"106\" align=\"center\">\\r\\n\\t2</td>\\r\\n\\t<td width=\"337\" align=\"center\">\\r\\n\\t0.3-3.4m/s (light)</td>\\r\\n\\t</tr>\\r\\n\\t<tr>\\r\\n\\t<td width=\"106\" align=\"center\">\\r\\n\\t3</td>\\r\\n\\t<td width=\"337\" align=\"center\">\\r\\n\\t3.4-8.0m/s (moderate)</td>\\r\\n\\t</tr>\\r\\n\\t<tr>\\r\\n\\t<td width=\"106\" align=\"center\">\\r\\n\\t4</td>\\r\\n\\t<td width=\"337\" align=\"center\">\\r\\n\\t8.0-10.8m/s (fresh)</td>\\r\\n\\t</tr>\\r\\n\\t<tr>\\r\\n\\t<td width=\"106\" align=\"center\">\\r\\n\\t5</td>\\r\\n\\t<td width=\"337\" align=\"center\">\\r\\n\\t10.8-17.2m/s (strong)</td>\\r\\n\\t</tr>\\r\\n\\t<tr>\\r\\n\\t<td width=\"106\" align=\"center\">\\r\\n\\t6</td>\\r\\n\\t<td width=\"337\" align=\"center\">\\r\\n\\t17.2-24.5m/s (gale)</td>\\r\\n\\t</tr>\\r\\n\\t<tr>\\r\\n\\t<td width=\"106\" align=\"center\">\\r\\n\\t7</td>\\r\\n\\t<td width=\"337\" align=\"center\">\\r\\n\\t24.5-32.6m/s (storm)</td>\\r\\n\\t</tr>\\r\\n\\t<tr>\\r\\n\\t<td width=\"106\" align=\"center\">\\r\\n\\t8</td>\\r\\n\\t<td width=\"337\" align=\"center\">\\r\\n\\tOver 32.6m/s (hurricane)</td>\\r\\n\\t</tr>\\r\\n\\t<tr>\\r\\n\\t<td width=\"134\" align=\"center\">\\r\\n\\tPrecipitation Type</td>\\r\\n\\t<td width=\"443\" align=\"center\" colspan=\"2\">\\r\\n\\tsnow, rain, none</td>\\r\\n\\t</tr>\\r\\n\\t<tr>\\r\\n\\t<td width=\"134\" align=\"center\">\\r\\n\\tUndefined</td>\\r\\n\\t<td width=\"106\" align=\"center\">\\r\\n\\t-9999</td>\\r\\n\\t<td width=\"337\" align=\"center\">\\r\\n\\tUndefined</td>\\r\\n\\t</tr>\\r\\n\\t</table>\\r\\n</div>\\r\\n\\t\\r\\n<p>The \"Altitude Correction\" function in older version is now restored. You may consider to set this function if your location is significantly higher than its adjacent areas (for example, when the location is on a mountain top). A good trick to check the necessarity of this function is to compare the forecasted and the actual temperature. When there is a large difference (say, over 5-10 degrees), you may consider to active this function. The Altitude Correction can be set to 2km or 7km.</p>\\r\\n\\r\\n<h4><a name=\"meteo\">2.3.5 METEO</a></h4>\\r\\n\\r\\n<p>METEO product is mainly intended for meteorological purpose and has included a number of meteorological elements, such as the relative humidity and wind profile from 950hPa to 200hPa. The forecasts for wind and cloud cover are plotted following the universal meteorological guidelines (users might read Wikipedia article at <a target=\"_blank\" href=\"http://en.wikipedia.org/wiki/Station_model\">http://en.wikipedia.org/wiki/Station_model</a> for a quick look of such guidelines). The forecast range is 8-day (192-hour).</p>\\r\\n\\t\\r\\n<div align=\"center\">\\r\\n\\t<p>Definition of API Output Value</p>\\r\\n\\t<table border=\"1\" width=\"599\" height=\"134\">\\r\\n\\t<tr>\\r\\n\\t<td width=\"134\" align=\"center\">\\r\\n\\tVariable</td>\\r\\n\\t<td width=\"106\" align=\"center\">\\r\\n\\tValue</td>\\r\\n\\t<td width=\"337\" align=\"center\">\\r\\n\\tMeaning</td>\\r\\n\\t</tr>\\r\\n\\t<tr>\\r\\n\\t<td width=\"134\" align=\"center\" rowspan=\"9\">\\r\\n\\tCloud Cover (total, high, mid, low)</td>\\r\\n\\t<td width=\"106\" align=\"center\">\\r\\n\\t1</td>\\r\\n\\t<td width=\"337\" align=\"center\">\\r\\n\\t0%-6%</td>\\r\\n\\t</tr>\\r\\n\\t<tr>\\r\\n\\t<td width=\"106\" align=\"center\">\\r\\n\\t2</td>\\r\\n\\t<td width=\"337\" align=\"center\">\\r\\n\\t6%-19%</td>\\r\\n\\t</tr>\\r\\n\\t<tr>\\r\\n\\t<td width=\"106\" align=\"center\">\\r\\n\\t3</td>\\r\\n\\t<td width=\"337\" align=\"center\">\\r\\n\\t19%-31%</td>\\r\\n\\t</tr>\\r\\n\\t<tr>\\r\\n\\t<td width=\"106\" align=\"center\">\\r\\n\\t4</td>\\r\\n\\t<td width=\"337\" align=\"center\">\\r\\n\\t31%-44%</td>\\r\\n\\t</tr>\\r\\n\\t<tr>\\r\\n\\t<td width=\"106\" align=\"center\">\\r\\n\\t5</td>\\r\\n\\t<td width=\"337\" align=\"center\">\\r\\n\\t44%-56%</td>\\r\\n\\t</tr>\\r\\n\\t<tr>\\r\\n\\t<td width=\"106\" align=\"center\">\\r\\n\\t6</td>\\r\\n\\t<td width=\"337\" align=\"center\">\\r\\n\\t56%-69%</td>\\r\\n\\t</tr>\\r\\n\\t<tr>\\r\\n\\t<td width=\"106\" align=\"center\">\\r\\n\\t7</td>\\r\\n\\t<td width=\"337\" align=\"center\">\\r\\n\\t69%-81%</td>\\r\\n\\t</tr>\\r\\n\\t<tr>\\r\\n\\t<td width=\"106\" align=\"center\">\\r\\n\\t8</td>\\r\\n\\t<td width=\"337\" align=\"center\">\\r\\n\\t81%-94%</td>\\r\\n\\t</tr>\\r\\n\\t<tr>\\r\\n\\t<td width=\"106\" align=\"center\">\\r\\n\\t9</td>\\r\\n\\t<td width=\"337\" align=\"center\">\\r\\n\\t94%-100%</td>\\r\\n\\t</tr>\\r\\n\\t<tr>\\r\\n\\t<td width=\"134\" align=\"center\" rowspan=\"8\">\\r\\n\\tLifted Index</td>\\r\\n\\t<td width=\"106\" align=\"center\">\\r\\n\\t-10</td>\\r\\n\\t<td width=\"337\" align=\"center\">\\r\\n\\tBelow -7</td>\\r\\n\\t</tr>\\r\\n\\t<tr>\\r\\n\\t<td width=\"106\" align=\"center\">\\r\\n\\t-6</td>\\r\\n\\t<td width=\"337\" align=\"center\">\\r\\n\\t-7 to -5</td>\\r\\n\\t</tr>\\r\\n\\t<tr>\\r\\n\\t<td width=\"106\" align=\"center\">\\r\\n\\t-4</td>\\r\\n\\t<td width=\"337\" align=\"center\">\\r\\n\\t-5 to -3</td>\\r\\n\\t</tr>\\r\\n\\t<tr>\\r\\n\\t<td width=\"106\" align=\"center\">\\r\\n\\t-1</td>\\r\\n\\t<td width=\"337\" align=\"center\">\\r\\n\\t-3 to 0</td>\\r\\n\\t</tr>\\r\\n\\t<tr>\\r\\n\\t<td width=\"106\" align=\"center\">\\r\\n\\t2</td>\\r\\n\\t<td width=\"337\" align=\"center\">\\r\\n\\t0 to 4</td>\\r\\n\\t</tr>\\r\\n\\t<tr>\\r\\n\\t<td width=\"106\" align=\"center\">\\r\\n\\t6</td>\\r\\n\\t<td width=\"337\" align=\"center\">\\r\\n\\t4 to 8</td>\\r\\n\\t</tr>\\r\\n\\t<tr>\\r\\n\\t<td width=\"106\" align=\"center\">\\r\\n\\t10</td>\\r\\n\\t<td width=\"337\" align=\"center\">\\r\\n\\t8 to 11</td>\\r\\n\\t</tr>\\r\\n\\t<tr>\\r\\n\\t<td width=\"106\" align=\"center\">\\r\\n\\t15</td>\\r\\n\\t<td width=\"337\" align=\"center\">\\r\\n\\tOver 11</td>\\r\\n\\t</tr>\\r\\n\\t<tr>\\r\\n\\t<td width=\"134\" align=\"center\">\\r\\n\\t2m Temperature</td>\\r\\n\\t<td width=\"106\" align=\"center\">\\r\\n\\t-76 to 60</td>\\r\\n\\t<td width=\"337\" align=\"center\">\\r\\n\\t-76C to +60C</td>\\r\\n\\t</tr>\\r\\n\\t<tr>\\r\\n\\t<td width=\"134\" align=\"center\" rowspan=\"8\">\\r\\n\\tSeeing</td>\\r\\n\\t<td width=\"106\" align=\"center\">\\r\\n\\t1</td>\\r\\n\\t<td width=\"337\" align=\"center\">\\r\\n\\t&lt;0.5&quot;</td>\\r\\n\\t</tr>\\r\\n\\t<tr>\\r\\n\\t<td width=\"106\" align=\"center\">\\r\\n\\t2</td>\\r\\n\\t<td width=\"337\" align=\"center\">\\r\\n\\t0.5&quot;-0.75&quot;</td>\\r\\n\\t</tr>\\r\\n\\t<tr>\\r\\n\\t<td width=\"106\" align=\"center\">\\r\\n\\t3</td>\\r\\n\\t<td width=\"337\" align=\"center\">\\r\\n\\t0.75&quot;-1&quot;</td>\\r\\n\\t</tr>\\r\\n\\t<tr>\\r\\n\\t<td width=\"106\" align=\"center\">\\r\\n\\t4</td>\\r\\n\\t<td width=\"337\" align=\"center\">\\r\\n\\t1&quot;-1.25&quot;</td>\\r\\n\\t</tr>\\r\\n\\t<tr>\\r\\n\\t<td width=\"106\" align=\"center\">\\r\\n\\t5</td>\\r\\n\\t<td width=\"337\" align=\"center\">\\r\\n\\t1.25&quot;-1.5&quot;</td>\\r\\n\\t</tr>\\r\\n\\t<tr>\\r\\n\\t<td width=\"106\" align=\"center\">\\r\\n\\t6</td>\\r\\n\\t<td width=\"337\" align=\"center\">\\r\\n\\t1.5&quot;-2&quot;</td>\\r\\n\\t</tr>\\r\\n\\t<tr>\\r\\n\\t<td width=\"106\" align=\"center\">\\r\\n\\t7</td>\\r\\n\\t<td width=\"337\" align=\"center\">\\r\\n\\t2&quot;-2.5&quot;</td>\\r\\n\\t</tr>\\r\\n\\t<tr>\\r\\n\\t<td width=\"106\" align=\"center\">\\r\\n\\t8</td>\\r\\n\\t<td width=\"337\" align=\"center\">\\r\\n\\t&gt;2.5&quot;</td>\\r\\n\\t</tr>\\r\\n\\t<tr>\\r\\n\\t<td width=\"134\" align=\"center\" rowspan=\"8\">\\r\\n\\tTransparency</td>\\r\\n\\t<td width=\"106\" align=\"center\">\\r\\n\\t1</td>\\r\\n\\t<td width=\"337\" align=\"center\">\\r\\n\\t&lt;0.3</td>\\r\\n\\t</tr>\\r\\n\\t<tr>\\r\\n\\t<td width=\"106\" align=\"center\">\\r\\n\\t2</td>\\r\\n\\t<td width=\"337\" align=\"center\">\\r\\n\\t0.3-0.4</td>\\r\\n\\t</tr>\\r\\n\\t<tr>\\r\\n\\t<td width=\"106\" align=\"center\">\\r\\n\\t3</td>\\r\\n\\t<td width=\"337\" align=\"center\">\\r\\n\\t0.4-0.5</td>\\r\\n\\t</tr>\\r\\n\\t<tr>\\r\\n\\t<td width=\"106\" align=\"center\">\\r\\n\\t4</td>\\r\\n\\t<td width=\"337\" align=\"center\">\\r\\n\\t0.5-0.6</td>\\r\\n\\t</tr>\\r\\n\\t<tr>\\r\\n\\t<td width=\"106\" align=\"center\">\\r\\n\\t5</td>\\r\\n\\t<td width=\"337\" align=\"center\">\\r\\n\\t0.6-0.7</td>\\r\\n\\t</tr>\\r\\n\\t<tr>\\r\\n\\t<td width=\"106\" align=\"center\">\\r\\n\\t6</td>\\r\\n\\t<td width=\"337\" align=\"center\">\\r\\n\\t0.7-0.85</td>\\r\\n\\t</tr>\\r\\n\\t<tr>\\r\\n\\t<td width=\"106\" align=\"center\">\\r\\n\\t7</td>\\r\\n\\t<td width=\"337\" align=\"center\">\\r\\n\\t0.85-1</td>\\r\\n\\t</tr>\\r\\n\\t<tr>\\r\\n\\t<td width=\"106\" align=\"center\">\\r\\n\\t8</td>\\r\\n\\t<td width=\"337\" align=\"center\">\\r\\n\\t&gt;1</td>\\r\\n\\t</tr>\\r\\n\\t<tr>\\r\\n\\t<td width=\"134\" align=\"center\" rowspan=\"21\">\\r\\n\\tRelative Humidity (2m and profile)</td>\\r\\n\\t<td width=\"106\" align=\"center\">\\r\\n\\t-4</td>\\r\\n\\t<td width=\"337\" align=\"center\">\\r\\n\\t0%-5%</td>\\r\\n\\t</tr>\\r\\n\\t<tr>\\r\\n\\t<td width=\"106\" align=\"center\">\\r\\n\\t-3</td>\\r\\n\\t<td width=\"337\" align=\"center\">\\r\\n\\t5%-10%</td>\\r\\n\\t</tr>\\r\\n\\t<tr>\\r\\n\\t<td width=\"106\" align=\"center\">\\r\\n\\t-2</td>\\r\\n\\t<td width=\"337\" align=\"center\">\\r\\n\\t10%-15%</td>\\r\\n\\t</tr>\\r\\n\\t<tr>\\r\\n\\t<td width=\"106\" align=\"center\">\\r\\n\\t-1</td>\\r\\n\\t<td width=\"337\" align=\"center\">\\r\\n\\t15%-20%</td>\\r\\n\\t</tr>\\r\\n\\t<tr>\\r\\n\\t<td width=\"106\" align=\"center\">\\r\\n\\t0</td>\\r\\n\\t<td width=\"337\" align=\"center\">\\r\\n\\t20%-25%</td>\\r\\n\\t</tr>\\r\\n\\t<tr>\\r\\n\\t<td width=\"106\" align=\"center\">\\r\\n\\t1</td>\\r\\n\\t<td width=\"337\" align=\"center\">\\r\\n\\t25%-30%</td>\\r\\n\\t</tr>\\r\\n\\t<tr>\\r\\n\\t<td width=\"106\" align=\"center\">\\r\\n\\t2</td>\\r\\n\\t<td width=\"337\" align=\"center\">\\r\\n\\t30%-35%</td>\\r\\n\\t</tr>\\r\\n\\t<tr>\\r\\n\\t<td width=\"106\" align=\"center\">\\r\\n\\t3</td>\\r\\n\\t<td width=\"337\" align=\"center\">\\r\\n\\t35%-40%</td>\\r\\n\\t</tr>\\r\\n\\t<tr>\\r\\n\\t<td width=\"106\" align=\"center\">\\r\\n\\t4</td>\\r\\n\\t<td width=\"337\" align=\"center\">\\r\\n\\t40%-45%</td>\\r\\n\\t</tr>\\r\\n\\t<tr>\\r\\n\\t<td width=\"106\" align=\"center\">\\r\\n\\t5</td>\\r\\n\\t<td width=\"337\" align=\"center\">\\r\\n\\t45%-50%</td>\\r\\n\\t</tr>\\r\\n\\t<tr>\\r\\n\\t<td width=\"106\" align=\"center\">\\r\\n\\t6</td>\\r\\n\\t<td width=\"337\" align=\"center\">\\r\\n\\t50%-55%</td>\\r\\n\\t</tr>\\r\\n\\t<tr>\\r\\n\\t<td width=\"106\" align=\"center\">\\r\\n\\t7</td>\\r\\n\\t<td width=\"337\" align=\"center\">\\r\\n\\t55%-60%</td>\\r\\n\\t</tr>\\r\\n\\t<tr>\\r\\n\\t<td width=\"106\" align=\"center\">\\r\\n\\t8</td>\\r\\n\\t<td width=\"337\" align=\"center\">\\r\\n\\t60%-65%</td>\\r\\n\\t</tr>\\r\\n\\t<tr>\\r\\n\\t<td width=\"106\" align=\"center\">\\r\\n\\t9</td>\\r\\n\\t<td width=\"337\" align=\"center\">\\r\\n\\t65%-70%</td>\\r\\n\\t</tr>\\r\\n\\t<tr>\\r\\n\\t<td width=\"106\" align=\"center\">\\r\\n\\t10</td>\\r\\n\\t<td width=\"337\" align=\"center\">\\r\\n\\t70%-75%</td>\\r\\n\\t</tr>\\r\\n\\t<tr>\\r\\n\\t<td width=\"106\" align=\"center\">\\r\\n\\t11</td>\\r\\n\\t<td width=\"337\" align=\"center\">\\r\\n\\t75%-80%</td>\\r\\n\\t</tr>\\r\\n\\t<tr>\\r\\n\\t<td width=\"106\" align=\"center\">\\r\\n\\t12</td>\\r\\n\\t<td width=\"337\" align=\"center\">\\r\\n\\t80%-85%</td>\\r\\n\\t</tr>\\r\\n\\t<tr>\\r\\n\\t<td width=\"106\" align=\"center\">\\r\\n\\t13</td>\\r\\n\\t<td width=\"337\" align=\"center\">\\r\\n\\t85%-90%</td>\\r\\n\\t</tr>\\r\\n\\t<tr>\\r\\n\\t<td width=\"106\" align=\"center\">\\r\\n\\t14</td>\\r\\n\\t<td width=\"337\" align=\"center\">\\r\\n\\t90%-95%</td>\\r\\n\\t</tr>\\r\\n\\t<tr>\\r\\n\\t<td width=\"106\" align=\"center\">\\r\\n\\t15</td>\\r\\n\\t<td width=\"337\" align=\"center\">\\r\\n\\t95%-99%</td>\\r\\n\\t</tr>\\r\\n\\t<tr>\\r\\n\\t<td width=\"106\" align=\"center\">\\r\\n\\t16</td>\\r\\n\\t<td width=\"337\" align=\"center\">\\r\\n\\t100%</td>\\r\\n\\t</tr>\\r\\n\\t<tr>\\r\\n\\t<td width=\"134\" align=\"center\" rowspan=\"13\">\\r\\n\\tWind Speed (10m and profile)</td>\\r\\n\\t<td width=\"106\" align=\"center\">\\r\\n\\t1</td>\\r\\n\\t<td width=\"337\" align=\"center\">\\r\\n\\tBelow 0.3m/s (calm)</td>\\r\\n\\t</tr>\\r\\n\\t<tr>\\r\\n\\t<td width=\"106\" align=\"center\">\\r\\n\\t2</td>\\r\\n\\t<td width=\"337\" align=\"center\">\\r\\n\\t0.3-3.4m/s (light)</td>\\r\\n\\t</tr>\\r\\n\\t<tr>\\r\\n\\t<td width=\"106\" align=\"center\">\\r\\n\\t3</td>\\r\\n\\t<td width=\"337\" align=\"center\">\\r\\n\\t3.4-8.0m/s (moderate)</td>\\r\\n\\t</tr>\\r\\n\\t<tr>\\r\\n\\t<td width=\"106\" align=\"center\">\\r\\n\\t4</td>\\r\\n\\t<td width=\"337\" align=\"center\">\\r\\n\\t8.0-10.8m/s (fresh)</td>\\r\\n\\t</tr>\\r\\n\\t<tr>\\r\\n\\t<td width=\"106\" align=\"center\">\\r\\n\\t5</td>\\r\\n\\t<td width=\"337\" align=\"center\">\\r\\n\\t10.8-17.2m/s (strong)</td>\\r\\n\\t</tr>\\r\\n\\t<tr>\\r\\n\\t<td width=\"106\" align=\"center\">\\r\\n\\t6</td>\\r\\n\\t<td width=\"337\" align=\"center\">\\r\\n\\t17.2-24.5m/s (gale)</td>\\r\\n\\t</tr>\\r\\n\\t<tr>\\r\\n\\t<td width=\"106\" align=\"center\">\\r\\n\\t7</td>\\r\\n\\t<td width=\"337\" align=\"center\">\\r\\n\\t24.5-32.6m/s (storm)</td>\\r\\n\\t</tr>\\r\\n\\t<tr>\\r\\n\\t<td width=\"106\" align=\"center\">\\r\\n\\t8</td>\\r\\n\\t<td width=\"337\" align=\"center\">\\r\\n\\t32.6-36.7m/s (hurricane)</td>\\r\\n\\t</tr>\\r\\n\\t<tr>\\r\\n\\t<td width=\"106\" align=\"center\">\\r\\n\\t9</td>\\r\\n\\t<td width=\"337\" align=\"center\">\\r\\n\\t36.7-41.4m/s (hurricane+)</td>\\r\\n\\t</tr>\\r\\n\\t<tr>\\r\\n\\t<td width=\"106\" align=\"center\">\\r\\n\\t10</td>\\r\\n\\t<td width=\"337\" align=\"center\">\\r\\n\\t41.4-46.2m/s (hurricane+)</td>\\r\\n\\t</tr>\\r\\n\\t<tr>\\r\\n\\t<td width=\"106\" align=\"center\">\\r\\n\\t11</td>\\r\\n\\t<td width=\"337\" align=\"center\">\\r\\n\\t46.2-50.9m/s (hurricane+)</td>\\r\\n\\t</tr>\\r\\n\\t<tr>\\r\\n\\t<td width=\"106\" align=\"center\">\\r\\n\\t12</td>\\r\\n\\t<td width=\"337\" align=\"center\">\\r\\n\\t50.9-55.9m/s (hurricane+)</td>\\r\\n\\t</tr>\\r\\n\\t<tr>\\r\\n\\t<td width=\"106\" align=\"center\">\\r\\n\\t13</td>\\r\\n\\t<td width=\"337\" align=\"center\">\\r\\n\\tOver 55.9m/s (hurricane+)</td>\\r\\n\\t</tr>\\r\\n\\t<tr>\\r\\n\\t<td width=\"134\" align=\"center\">\\r\\n\\tWind direction</td>\\r\\n\\t<td width=\"106\" align=\"center\">\\r\\n\\t0-360</td>\\r\\n\\t<td width=\"337\" align=\"center\">\\r\\n\\t0-360 degree (with 0 to be north) spacing in 5-degree.</td>\\r\\n\\t</tr>\\r\\n\\t<tr>\\r\\n\\t<td width=\"134\" align=\"center\">\\r\\n\\tMSL Pressure</td>\\r\\n\\t<td width=\"106\" align=\"center\">\\r\\n\\t924-1060</td>\\r\\n\\t<td width=\"337\" align=\"center\">\\r\\n\\t924hPa to 1060hPa.</td>\\r\\n\\t</tr>\\r\\n\\t<tr>\\r\\n\\t<td width=\"134\" align=\"center\">\\r\\n\\tPrecipitation Type</td>\\r\\n\\t<td width=\"443\" align=\"center\" colspan=\"2\">\\r\\n\\tsnow, rain, frzr (freezing rain), icep (ice pellets), none</td>\\r\\n\\t</tr>\\r\\n\\t<tr>\\r\\n\\t<td width=\"134\" align=\"center\" rowspan=\"10\">\\r\\n\\tPrecipitation Amount</td>\\r\\n\\t<td width=\"106\" align=\"center\">\\r\\n\\t0</td>\\r\\n\\t<td width=\"337\" align=\"center\">\\r\\n\\tNone</td>\\r\\n\\t</tr>\\r\\n\\t<tr>\\r\\n\\t<td width=\"106\" align=\"center\">\\r\\n\\t1</td>\\r\\n\\t<td width=\"337\" align=\"center\">\\r\\n\\t0-0.25mm/hr</td>\\r\\n\\t</tr>\\r\\n\\t<tr>\\r\\n\\t<td width=\"106\" align=\"center\">\\r\\n\\t2</td>\\r\\n\\t<td width=\"337\" align=\"center\">\\r\\n\\t0.25-1mm/hr</td>\\r\\n\\t</tr>\\r\\n\\t<tr>\\r\\n\\t<td width=\"106\" align=\"center\">\\r\\n\\t3</td>\\r\\n\\t<td width=\"337\" align=\"center\">\\r\\n\\t1-4mm/hr</td>\\r\\n\\t</tr>\\r\\n\\t<tr>\\r\\n\\t<td width=\"106\" align=\"center\">\\r\\n\\t4</td>\\r\\n\\t<td width=\"337\" align=\"center\">\\r\\n\\t4-10mm/hr</td>\\r\\n\\t</tr>\\r\\n\\t<tr>\\r\\n\\t<td width=\"106\" align=\"center\">\\r\\n\\t5</td>\\r\\n\\t<td width=\"337\" align=\"center\">\\r\\n\\t10-16mm/hr</td>\\r\\n\\t</tr>\\r\\n\\t<tr>\\r\\n\\t<td width=\"106\" align=\"center\">\\r\\n\\t6</td>\\r\\n\\t<td width=\"337\" align=\"center\">\\r\\n\\t16-30mm/hr</td>\\r\\n\\t</tr>\\r\\n\\t<tr>\\r\\n\\t<td width=\"106\" align=\"center\">\\r\\n\\t7</td>\\r\\n\\t<td width=\"337\" align=\"center\">\\r\\n\\t30-50mm/hr</td>\\r\\n\\t</tr>\\r\\n\\t<tr>\\r\\n\\t<td width=\"106\" align=\"center\">\\r\\n\\t8</td>\\r\\n\\t<td width=\"337\" align=\"center\">\\r\\n\\t50-75mm/hr</td>\\r\\n\\t</tr>\\r\\n\\t<tr>\\r\\n\\t<td width=\"106\" align=\"center\">\\r\\n\\t9</td>\\r\\n\\t<td width=\"337\" align=\"center\">\\r\\n\\t75+mm/hr</td>\\r\\n\\t</tr>\\r\\n\\t<tr>\\r\\n\\t<td width=\"134\" align=\"center\" rowspan=\"10\">\\r\\n\\tSnow Depth</td>\\r\\n\\t<td width=\"106\" align=\"center\">\\r\\n\\t0</td>\\r\\n\\t<td width=\"337\" align=\"center\">\\r\\n\\tNone</td>\\r\\n\\t</tr>\\r\\n\\t<tr>\\r\\n\\t<td width=\"106\" align=\"center\">\\r\\n\\t1</td>\\r\\n\\t<td width=\"337\" align=\"center\">\\r\\n\\t0-1cm</td>\\r\\n\\t</tr>\\r\\n\\t<tr>\\r\\n\\t<td width=\"106\" align=\"center\">\\r\\n\\t2</td>\\r\\n\\t<td width=\"337\" align=\"center\">\\r\\n\\t1-5cm</td>\\r\\n\\t</tr>\\r\\n\\t<tr>\\r\\n\\t<td width=\"106\" align=\"center\">\\r\\n\\t3</td>\\r\\n\\t<td width=\"337\" align=\"center\">\\r\\n\\t5-10cm</td>\\r\\n\\t</tr>\\r\\n\\t<tr>\\r\\n\\t<td width=\"106\" align=\"center\">\\r\\n\\t4</td>\\r\\n\\t<td width=\"337\" align=\"center\">\\r\\n\\t10-25cm</td>\\r\\n\\t</tr>\\r\\n\\t<tr>\\r\\n\\t<td width=\"106\" align=\"center\">\\r\\n\\t5</td>\\r\\n\\t<td width=\"337\" align=\"center\">\\r\\n\\t25-50cm</td>\\r\\n\\t</tr>\\r\\n\\t<tr>\\r\\n\\t<td width=\"106\" align=\"center\">\\r\\n\\t6</td>\\r\\n\\t<td width=\"337\" align=\"center\">\\r\\n\\t50-100cm</td>\\r\\n\\t</tr>\\r\\n\\t<tr>\\r\\n\\t<td width=\"106\" align=\"center\">\\r\\n\\t7</td>\\r\\n\\t<td width=\"337\" align=\"center\">\\r\\n\\t100-150cm</td>\\r\\n\\t</tr>\\r\\n\\t<tr>\\r\\n\\t<td width=\"106\" align=\"center\">\\r\\n\\t8</td>\\r\\n\\t<td width=\"337\" align=\"center\">\\r\\n\\t150-250cm</td>\\r\\n\\t</tr>\\r\\n\\t<tr>\\r\\n\\t<td width=\"106\" align=\"center\">\\r\\n\\t9</td>\\r\\n\\t<td width=\"337\" align=\"center\">\\r\\n\\t250+cm</td>\\r\\n\\t</tr>\\r\\n\\t<tr>\\r\\n\\t<td width=\"134\" align=\"center\">\\r\\n\\tUndefined</td>\\r\\n\\t<td width=\"106\" align=\"center\">\\r\\n\\t-9999</td>\\r\\n\\t<td width=\"337\" align=\"center\">\\r\\n\\tUndefined</td>\\r\\n\\t</tr>\\r\\n\\t</table>\\r\\n</div>\\r\\n\\r\\n<h4><a name=\"weather_chart\">3. Weather Chart</a></h4>\\r\\n\\r\\n<p>The weather charts are plotted from the NOAA/NCEP forecast binaries and are mainly intended for astronomical or meteorological purpose. Most elements are plotted as-is, while independent legends are needed for wind (streamline) and precipitation charts. These legends are given below.</p>\\r\\n\\t\\r\\n<div align=\"center\">\\r\\n\\t<p>Legend of Wind Speed</p>\\r\\n\\t<table border=\"0\" cellpadding=\"0\" width=\"600\" style=\"width: 450.0pt\" id=\"table1\">\\r\\n\\t\\t<tr>\\r\\n\\t\\t\\t<td width=\"71\" style=\"width: 53.6pt; padding: .75pt; background: #0045FF\">\\r\\n\\t\\t\\t<p align=\"center\" style=\"text-align:center\">\\r\\n\\t\\t\\t<span lang=\"EN-US\" style=\"font-size:12.0pt;color:white\">Calm</span></td>\\r\\n\\t\\t\\t<td width=\"72\" style=\"width: 53.65pt; padding: .75pt; background: #00A1E6\">\\r\\n\\t\\t\\t<p align=\"center\" style=\"text-align:center\">\\r\\n\\t\\t\\t<span lang=\"EN-US\" style=\"font-size:12.0pt;color:white\">Light</span></td>\\r\\n\\t\\t\\t<td width=\"74\" style=\"width: 55.65pt; padding: .75pt; background: #00D18C\">\\r\\n\\t\\t\\t<p align=\"center\" style=\"text-align:center\">\\r\\n\\t\\t\\t<span lang=\"EN-US\" style=\"font-size:12.0pt;color:white\">Moderate</span></td>\\r\\n\\t\\t\\t<td width=\"73\" style=\"width: 54.4pt; padding: .75pt; background: #A1E633\">\\r\\n\\t\\t\\t<p align=\"center\" style=\"text-align:center\">\\r\\n\\t\\t\\t<span lang=\"EN-US\" style=\"font-size:12.0pt\">Fresh</span></td>\\r\\n\\t\\t\\t<td width=\"73\" style=\"width: 54.75pt; padding: .75pt; background: #E6DC33\">\\r\\n\\t\\t\\t<p align=\"center\" style=\"text-align:center\">\\r\\n\\t\\t\\t<span lang=\"EN-US\" style=\"font-size:12.0pt\">Strong</span></td>\\r\\n\\t\\t\\t<td width=\"72\" style=\"width: 54.1pt; padding: .75pt; background: #F08229\">\\r\\n\\t\\t\\t<p align=\"center\" style=\"text-align:center\">\\r\\n\\t\\t\\t<span lang=\"EN-US\" style=\"font-size:12.0pt\">Gale</span></td>\\r\\n\\t\\t\\t<td width=\"73\" style=\"width: 54.55pt; padding: .75pt; background: #F00000\">\\r\\n\\t\\t\\t<p align=\"center\" style=\"text-align:center\">\\r\\n\\t\\t\\t<span lang=\"EN-US\" style=\"font-size:12.0pt\">Storm</span></td>\\r\\n\\t\\t\\t<td width=\"74\" style=\"width: 55.8pt; padding: .75pt; background: fuchsia\">\\r\\n\\t\\t\\t<p align=\"center\" style=\"text-align:center\">\\r\\n\\t\\t\\t<span lang=\"EN-US\" style=\"font-size:12.0pt\">Hurricane</span></td>\\r\\n\\t\\t</tr>\\r\\n\\t</table>\\r\\n</div>\\r\\n\\t\\r\\n<div align=\"center\">\\r\\n\\t<p>Legend of Precipitation Type</p>\\r\\n\\t<table border=\"0\" cellpadding=\"0\" width=\"377\" style=\"width: 282.75pt\" id=\"table3\">\\r\\n\\t\\t<tr>\\r\\n\\t\\t\\t<td width=\"93\" style=\"width:69.75pt;padding:.75pt .75pt .75pt .75pt\">\\r\\n\\t\\t\\t<p align=\"center\" style=\"text-align: center\">\\r\\n\\t\\t\\t<span lang=\"EN-US\" style=\"font-size: 10.0pt\">Snow</span></td>\\r\\n\\t\\t\\t<td width=\"94\" style=\"width: 70.5pt; padding: .75pt; background: #95F4F4\">\\r\\n\\t\\t\\t<p align=\"center\" style=\"text-align: center\">\\r\\n\\t\\t\\t<span lang=\"EN-US\" style=\"font-size: 10.0pt\">Rain</span></td>\\r\\n\\t\\t\\t<td width=\"94\" style=\"width: 70.5pt; padding: .75pt; background: #8810CA\">\\r\\n\\t\\t\\t<p align=\"center\" style=\"text-align: center\">\\r\\n\\t\\t\\t<span lang=\"EN-US\" style=\"font-size: 10.0pt; color: white\">Freezing \\r\\n\\t\\t\\train </span></td>\\r\\n\\t\\t\\t<td width=\"94\" style=\"width: 70.5pt; padding: .75pt; background: #E209E2\">\\r\\n\\t\\t\\t<p align=\"center\" style=\"text-align: center\">\\r\\n\\t\\t\\t<span lang=\"EN-US\" style=\"font-size: 10.0pt; color: white\">Ice \\r\\n\\t\\t\\tpellets</span></td>\\r\\n\\t\\t</tr>\\r\\n\\t</table>\\r\\n</div>\\r\\n\\r\\n<div align=\"center\">\\r\\n\\t<p>Legend of Precipitation Amount</p>\\r\\n\\t<table border=\"0\" cellpadding=\"0\" id=\"table2\">\\r\\n\\t\\t<tr>\\r\\n\\t\\t\\t<td style=\"padding: .75pt; background: white\">\\r\\n\\t\\t\\t<p align=\"left\" style=\"text-align: center\">\\r\\n\\t\\t\\t<span lang=\"EN-US\" style=\"font-size: 10.0pt; color: black\">0mm</span></td>\\r\\n\\t\\t\\t<td style=\"padding: .75pt; background: #E8E8E8\">\\r\\n\\t\\t\\t<p align=\"left\" style=\"text-align: center\">\\r\\n\\t\\t\\t<span lang=\"EN-US\" style=\"font-size: 10.0pt\">&lt;0.25mm/hr</span></td>\\r\\n\\t\\t\\t<td style=\"padding: .75pt; background: #E2FCFC\">\\r\\n\\t\\t\\t<p align=\"left\" style=\"text-align: center\">\\r\\n\\t\\t\\t<span lang=\"EN-US\" style=\"font-size: 10.0pt; color: black\">\\r\\n\\t\\t\\t0.25-1mm/hr </span></td>\\r\\n\\t\\t\\t<td style=\"padding: .75pt; background: #95F4F4\">\\r\\n\\t\\t\\t<p align=\"left\" style=\"text-align: center\">\\r\\n\\t\\t\\t<span lang=\"EN-US\" style=\"font-size: 10.0pt; color: black\">1-4mm/hr\\r\\n\\t\\t\\t</span></td>\\r\\n\\t\\t\\t<td style=\"padding: .75pt; background: #89CDF0\">\\r\\n\\t\\t\\t<p align=\"left\" style=\"text-align: center\">4<span style=\"color: black; font-size: 10.0pt\" lang=\"EN-US\">-10mm/hr\\r\\n\\t\\t\\t</span></td>\\r\\n\\t\\t\\t<td style=\"padding: .75pt; background: #749AE3\">\\r\\n\\t\\t\\t<p align=\"left\" style=\"text-align: center\">\\r\\n\\t\\t\\t<span lang=\"EN-US\" style=\"font-size: 10.0pt; color: black\">\\r\\n\\t\\t\\t10-16mm/hr </span></td>\\r\\n\\t\\t\\t<td style=\"padding: .75pt; background: #4545D9\">\\r\\n\\t\\t\\t<p align=\"left\" style=\"text-align: center\">\\r\\n\\t\\t\\t<span lang=\"EN-US\" style=\"font-size: 10.0pt; color: white\">\\r\\n\\t\\t\\t16-30mm/hr </span></td>\\r\\n\\t\\t\\t<td style=\"padding: .75pt; background: #6232D4\">\\r\\n\\t\\t\\t<p align=\"left\" style=\"text-align: center\">\\r\\n\\t\\t\\t<span lang=\"EN-US\" style=\"font-size: 10.0pt; color: white\">\\r\\n\\t\\t\\t30-50mm/hr </span></td>\\r\\n\\t\\t\\t<td style=\"padding: .75pt; background: #8810CA\">\\r\\n\\t\\t\\t<p align=\"left\" style=\"text-align: center\">\\r\\n\\t\\t\\t<span lang=\"EN-US\" style=\"font-size: 10.0pt; color: white\">\\r\\n\\t\\t\\t50-75mm/hr </span></td>\\r\\n\\t\\t\\t<td style=\"padding: .75pt; background: #E209E2\">\\r\\n\\t\\t\\t<p align=\"left\" style=\"text-align: center\">\\r\\n\\t\\t\\t<span lang=\"EN-US\" style=\"font-size: 10.0pt; color: white\">&gt;75mm/hr</span></td>\\r\\n\\t\\t</tr>\\r\\n\\t\\t<tr>\\r\\n\\t\\t\\t<td colspan=\"2\" style=\"padding: .75pt; background: white\">\\r\\n\\t\\t\\t<p align=\"center\" style=\"text-align: center\">\\r\\n\\t\\t\\t<span lang=\"EN-US\" style=\"font-size: 10.0pt\">No significant rainfall</span></td>\\r\\n\\t\\t\\t<td style=\"padding: .75pt; background: white\">\\r\\n\\t\\t\\t<p align=\"center\" style=\"text-align: center\">\\r\\n\\t\\t\\t<span lang=\"EN-US\" style=\"font-size: 10.0pt\">Light rain</span></td>\\r\\n\\t\\t\\t<td style=\"padding: .75pt; background: white\">\\r\\n\\t\\t\\t<p align=\"center\" style=\"text-align: center\">\\r\\n\\t\\t\\t<span lang=\"EN-US\" style=\"font-size: 10.0pt\">Moderate rain</span></td>\\r\\n\\t\\t\\t<td colspan=\"2\" style=\"padding: .75pt; background: white\">\\r\\n\\t\\t\\t<p align=\"center\" style=\"text-align: center\">\\r\\n\\t\\t\\t<span lang=\"EN-US\" style=\"font-size: 10.0pt\">Heavy rain</span></td>\\r\\n\\t\\t\\t<td colspan=\"2\" style=\"padding: .75pt; background: white\">\\r\\n\\t\\t\\t<p align=\"center\" style=\"text-align: center\">\\r\\n\\t\\t\\t<span lang=\"EN-US\" style=\"font-size: 10.0pt\">Very heavy rain</span></td>\\r\\n\\t\\t\\t<td colspan=\"2\" style=\"padding: .75pt; background: white\">\\r\\n\\t\\t\\t<p align=\"center\" style=\"text-align: center\">\\r\\n\\t\\t\\t<span lang=\"EN-US\" style=\"font-size: 10.0pt\">Extreme rain or \\r\\n\\t\\t\\tRainstorm</span></td>\\r\\n\\t\\t</tr>\\r\\n\\t</table>\\r\\n</div>\\r\\n\\r\\n<h4><a name=\"faq\">4. Frequently Asked Questions</a></h4>\\r\\n\\r\\n<i>Q: The title of forecast page is \"forecast for unknown site\" even the site I click is in a big city. Why is this?</i>\\r\\n\\t\\r\\n<p>A: The geolocation conversion at the forecast page is handled by <a href=\"http://code.google.com/intl/en/apis/maps/documentation/geocoding/\" target=\"_blank\">Google Geocoding API</a> which sets a daily query limit of 2,500 currently, so \"unknown site\" will be shown if the limit is exceed that day. I may consider writing a build-in geolocation database in future to work around this problem.</p>\\r\\n\\t\\r\\n<i>Q: Some question marks are shown in ASTRO forecast when Alt Corr is active.</i>\\r\\n\\t\\r\\n<p>A: This is normal – you will see question marks on precipitation and instability data in ASTRO product when Alt Corr is enabled. This is because the GFS data only provides the precipitation and lifted index data at ground level. To avoid confusion, data for these two elements will not be plotted when the forecast site is not at surface (i.e. Alt Corr is enabled.)</p>\\r\\n\\r\\n<h4><a name=\"acknowledgement_and_disclaimer\">5. Acknowledgement and Disclaimer</a></h4>\\r\\n\\r\\n<p><i>7Timer!</i> was supported by Dr. Cui Chenzhou on behalf of the National Astronomical Observatories of China in 2005-2010, and is then supported from Dr. Lin Qing and Mr. Tang Haiming of the Chinese Network for Astronomy Popularization, Shanghai Astronomical Observatory, Chinese Academy of Sciences. Big thanks also go to Attilla Danko who inspired me to establish <i>7Timer!</i>; to Li Zuqiang and Dr. Johnson Lau who had been extensively involved in the development of data reduction scripts; to Shi Liaoshan who help testing every new releases; to littlePig and Max who had given help on starting code works of Google Maps API; as well as to numerous people who have contributed helpful suggestions and encouragements.</p>\\r\\n\\r\\n<p>The weather data distributed in this site are entirely free – you can use or redistribute them as long as you are not using them for commercial purpose. Program developers are asked to notify me when using the data so I can track the server workload. Just be aware that weather forecasting is as challenging as in the stock market – so using these data is at your own risk.</p>\\r\\n\\t\\r\\n\\t</td>\\r\\n\\t</tr>\\r\\n</table>\\r\\n\\r\\n<p align=\"center\"><small><b><img src=\"icon_mini.gif\"> 7Timer!</b> thanks <a target=\"_blank\" href=\"https://astro.ecuadors.net/xasteria/\">Xasteria for iOS</a> for their generous support.</small></p>\\r\\n\\r\\n</body>\\r\\n</html>\\r\\n'"
      ]
     },
     "execution_count": 7,
     "metadata": {},
     "output_type": "execute_result"
    }
   ],
   "source": [
    "type(res.text)\n",
    "res.text"
   ]
  },
  {
   "cell_type": "code",
   "execution_count": 8,
   "metadata": {},
   "outputs": [
    {
     "name": "stdout",
     "output_type": "stream",
     "text": [
      "{'Date': 'Tue, 06 Jul 2021 08:38:09 GMT', 'Server': 'Apache/2.4.38 (Debian)', 'Vary': 'Accept-Encoding', 'Content-Encoding': 'gzip', 'Content-Length': '10158', 'Keep-Alive': 'timeout=5, max=100', 'Connection': 'Keep-Alive', 'Content-Type': 'text/html; charset=UTF-8'}\n",
      "Content Length: 10158\n",
      "Date: Tue, 06 Jul 2021 08:38:09 GMT\n",
      "Server: Apache/2.4.38 (Debian)\n"
     ]
    }
   ],
   "source": [
    "type(res.headers)\n",
    "d=res.headers\n",
    "print(d)\n",
    "print(\"Content Length: \"+d['content-length']+\"\\nDate: \"+d['date']+\"\\nServer: \"+d['server'])        #Case Insensitive..."
   ]
  },
  {
   "cell_type": "code",
   "execution_count": 9,
   "metadata": {},
   "outputs": [
    {
     "name": "stdout",
     "output_type": "stream",
     "text": [
      "['__attrs__', '__bool__', '__class__', '__delattr__', '__dict__', '__dir__', '__doc__', '__enter__', '__eq__', '__exit__', '__format__', '__ge__', '__getattribute__', '__getstate__', '__gt__', '__hash__', '__init__', '__init_subclass__', '__iter__', '__le__', '__lt__', '__module__', '__ne__', '__new__', '__nonzero__', '__reduce__', '__reduce_ex__', '__repr__', '__setattr__', '__setstate__', '__sizeof__', '__str__', '__subclasshook__', '__weakref__', '_content', '_content_consumed', '_next', 'apparent_encoding', 'close', 'connection', 'content', 'cookies', 'elapsed', 'encoding', 'headers', 'history', 'is_permanent_redirect', 'is_redirect', 'iter_content', 'iter_lines', 'json', 'links', 'next', 'ok', 'raise_for_status', 'raw', 'reason', 'request', 'status_code', 'text', 'url']\n",
      "Help on Response in module requests.models object:\n",
      "\n",
      "class Response(builtins.object)\n",
      " |  The :class:`Response <Response>` object, which contains a\n",
      " |  server's response to an HTTP request.\n",
      " |  \n",
      " |  Methods defined here:\n",
      " |  \n",
      " |  __bool__(self)\n",
      " |      Returns True if :attr:`status_code` is less than 400.\n",
      " |      \n",
      " |      This attribute checks if the status code of the response is between\n",
      " |      400 and 600 to see if there was a client error or a server error. If\n",
      " |      the status code, is between 200 and 400, this will return True. This\n",
      " |      is **not** a check to see if the response code is ``200 OK``.\n",
      " |  \n",
      " |  __enter__(self)\n",
      " |  \n",
      " |  __exit__(self, *args)\n",
      " |  \n",
      " |  __getstate__(self)\n",
      " |  \n",
      " |  __init__(self)\n",
      " |      Initialize self.  See help(type(self)) for accurate signature.\n",
      " |  \n",
      " |  __iter__(self)\n",
      " |      Allows you to use a response as an iterator.\n",
      " |  \n",
      " |  __nonzero__(self)\n",
      " |      Returns True if :attr:`status_code` is less than 400.\n",
      " |      \n",
      " |      This attribute checks if the status code of the response is between\n",
      " |      400 and 600 to see if there was a client error or a server error. If\n",
      " |      the status code, is between 200 and 400, this will return True. This\n",
      " |      is **not** a check to see if the response code is ``200 OK``.\n",
      " |  \n",
      " |  __repr__(self)\n",
      " |      Return repr(self).\n",
      " |  \n",
      " |  __setstate__(self, state)\n",
      " |  \n",
      " |  close(self)\n",
      " |      Releases the connection back to the pool. Once this method has been\n",
      " |      called the underlying ``raw`` object must not be accessed again.\n",
      " |      \n",
      " |      *Note: Should not normally need to be called explicitly.*\n",
      " |  \n",
      " |  iter_content(self, chunk_size=1, decode_unicode=False)\n",
      " |      Iterates over the response data.  When stream=True is set on the\n",
      " |      request, this avoids reading the content at once into memory for\n",
      " |      large responses.  The chunk size is the number of bytes it should\n",
      " |      read into memory.  This is not necessarily the length of each item\n",
      " |      returned as decoding can take place.\n",
      " |      \n",
      " |      chunk_size must be of type int or None. A value of None will\n",
      " |      function differently depending on the value of `stream`.\n",
      " |      stream=True will read data as it arrives in whatever size the\n",
      " |      chunks are received. If stream=False, data is returned as\n",
      " |      a single chunk.\n",
      " |      \n",
      " |      If decode_unicode is True, content will be decoded using the best\n",
      " |      available encoding based on the response.\n",
      " |  \n",
      " |  iter_lines(self, chunk_size=512, decode_unicode=False, delimiter=None)\n",
      " |      Iterates over the response data, one line at a time.  When\n",
      " |      stream=True is set on the request, this avoids reading the\n",
      " |      content at once into memory for large responses.\n",
      " |      \n",
      " |      .. note:: This method is not reentrant safe.\n",
      " |  \n",
      " |  json(self, **kwargs)\n",
      " |      Returns the json-encoded content of a response, if any.\n",
      " |      \n",
      " |      :param \\*\\*kwargs: Optional arguments that ``json.loads`` takes.\n",
      " |      :raises ValueError: If the response body does not contain valid json.\n",
      " |  \n",
      " |  raise_for_status(self)\n",
      " |      Raises :class:`HTTPError`, if one occurred.\n",
      " |  \n",
      " |  ----------------------------------------------------------------------\n",
      " |  Readonly properties defined here:\n",
      " |  \n",
      " |  apparent_encoding\n",
      " |      The apparent encoding, provided by the chardet library.\n",
      " |  \n",
      " |  content\n",
      " |      Content of the response, in bytes.\n",
      " |  \n",
      " |  is_permanent_redirect\n",
      " |      True if this Response one of the permanent versions of redirect.\n",
      " |  \n",
      " |  is_redirect\n",
      " |      True if this Response is a well-formed HTTP redirect that could have\n",
      " |      been processed automatically (by :meth:`Session.resolve_redirects`).\n",
      " |  \n",
      " |  links\n",
      " |      Returns the parsed header links of the response, if any.\n",
      " |  \n",
      " |  next\n",
      " |      Returns a PreparedRequest for the next request in a redirect chain, if there is one.\n",
      " |  \n",
      " |  ok\n",
      " |      Returns True if :attr:`status_code` is less than 400, False if not.\n",
      " |      \n",
      " |      This attribute checks if the status code of the response is between\n",
      " |      400 and 600 to see if there was a client error or a server error. If\n",
      " |      the status code is between 200 and 400, this will return True. This\n",
      " |      is **not** a check to see if the response code is ``200 OK``.\n",
      " |  \n",
      " |  text\n",
      " |      Content of the response, in unicode.\n",
      " |      \n",
      " |      If Response.encoding is None, encoding will be guessed using\n",
      " |      ``chardet``.\n",
      " |      \n",
      " |      The encoding of the response content is determined based solely on HTTP\n",
      " |      headers, following RFC 2616 to the letter. If you can take advantage of\n",
      " |      non-HTTP knowledge to make a better guess at the encoding, you should\n",
      " |      set ``r.encoding`` appropriately before accessing this property.\n",
      " |  \n",
      " |  ----------------------------------------------------------------------\n",
      " |  Data descriptors defined here:\n",
      " |  \n",
      " |  __dict__\n",
      " |      dictionary for instance variables (if defined)\n",
      " |  \n",
      " |  __weakref__\n",
      " |      list of weak references to the object (if defined)\n",
      " |  \n",
      " |  ----------------------------------------------------------------------\n",
      " |  Data and other attributes defined here:\n",
      " |  \n",
      " |  __attrs__ = ['_content', 'status_code', 'headers', 'url', 'history', '...\n",
      "\n",
      "None\n"
     ]
    }
   ],
   "source": [
    "print(dir(res)) # attributes and methods that we can access...\n",
    "print(help(res))"
   ]
  },
  {
   "cell_type": "code",
   "execution_count": 10,
   "metadata": {},
   "outputs": [],
   "source": [
    "# Downloading image...\n",
    "img=req.get(\"https://hips.hearstapps.com/hmg-prod.s3.amazonaws.com/images/the-138th-annual-westminster-kennel-club-dog-show-pictured-news-photo-1581012384.jpg?crop=0.331xw:0.746xh;0.440xw,0.254xh&resize=980:*\")\n",
    "with open(\"D:\\Data Science\\dog.jpg\",'wb') as f:\n",
    "    f.write(img.content)"
   ]
  },
  {
   "cell_type": "code",
   "execution_count": 11,
   "metadata": {},
   "outputs": [
    {
     "name": "stdout",
     "output_type": "stream",
     "text": [
      "{\n",
      "  \"args\": {\n",
      "    \"count\": \"25\", \n",
      "    \"page\": \"2\"\n",
      "  }, \n",
      "  \"headers\": {\n",
      "    \"Accept\": \"*/*\", \n",
      "    \"Accept-Encoding\": \"gzip, deflate\", \n",
      "    \"Host\": \"httpbin.org\", \n",
      "    \"User-Agent\": \"python-requests/2.24.0\", \n",
      "    \"X-Amzn-Trace-Id\": \"Root=1-60e41676-106798a7642a56060a7960ac\"\n",
      "  }, \n",
      "  \"origin\": \"43.241.146.170\", \n",
      "  \"url\": \"https://httpbin.org/get?page=2&count=25\"\n",
      "}\n",
      "\n",
      "https://httpbin.org/get?page=2&count=25\n"
     ]
    }
   ],
   "source": [
    "# request with parameters...\n",
    "parameters={\"page\":2,\"count\":25}\n",
    "res=req.get(\"https://httpbin.org/get\",params=parameters)\n",
    "print(res.text)\n",
    "print(res.url)"
   ]
  },
  {
   "cell_type": "code",
   "execution_count": 12,
   "metadata": {},
   "outputs": [
    {
     "name": "stdout",
     "output_type": "stream",
     "text": [
      "{\n",
      "  \"args\": {}, \n",
      "  \"data\": \"\", \n",
      "  \"files\": {}, \n",
      "  \"form\": {\n",
      "    \"items\": [\n",
      "      \"2\", \n",
      "      \"3\", \n",
      "      \"4\", \n",
      "      \"5\", \n",
      "      \"6\"\n",
      "    ], \n",
      "    \"password\": \"abcd\", \n",
      "    \"username\": \"promit\"\n",
      "  }, \n",
      "  \"headers\": {\n",
      "    \"Accept\": \"*/*\", \n",
      "    \"Accept-Encoding\": \"gzip, deflate\", \n",
      "    \"Content-Length\": \"69\", \n",
      "    \"Content-Type\": \"application/x-www-form-urlencoded\", \n",
      "    \"Host\": \"httpbin.org\", \n",
      "    \"User-Agent\": \"python-requests/2.24.0\", \n",
      "    \"X-Amzn-Trace-Id\": \"Root=1-60e41677-5f88a71d791069720a44501f\"\n",
      "  }, \n",
      "  \"json\": null, \n",
      "  \"origin\": \"43.241.146.170\", \n",
      "  \"url\": \"https://httpbin.org/post\"\n",
      "}\n",
      "\n",
      "Status Code: 200\n"
     ]
    },
    {
     "data": {
      "text/plain": [
       "{'args': {},\n",
       " 'data': '',\n",
       " 'files': {},\n",
       " 'form': {'items': ['2', '3', '4', '5', '6'],\n",
       "  'password': 'abcd',\n",
       "  'username': 'promit'},\n",
       " 'headers': {'Accept': '*/*',\n",
       "  'Accept-Encoding': 'gzip, deflate',\n",
       "  'Content-Length': '69',\n",
       "  'Content-Type': 'application/x-www-form-urlencoded',\n",
       "  'Host': 'httpbin.org',\n",
       "  'User-Agent': 'python-requests/2.24.0',\n",
       "  'X-Amzn-Trace-Id': 'Root=1-60e41677-5f88a71d791069720a44501f'},\n",
       " 'json': None,\n",
       " 'origin': '43.241.146.170',\n",
       " 'url': 'https://httpbin.org/post'}"
      ]
     },
     "execution_count": 12,
     "metadata": {},
     "output_type": "execute_result"
    }
   ],
   "source": [
    "# Post request...\n",
    "data={\"username\":\"promit\",\"items\":[2,3,4,5,6],\"password\":\"abcd\"}\n",
    "data2=[(\"Username\",\"Promit\"),(\"items\",[2,3,4,5,6]),(\"password\",\"abcd\")]\n",
    "res=req.post(\"https://httpbin.org/post\",data=data)\n",
    "print(res.text)\n",
    "print(\"Status Code: \"+str(res.status_code))\n",
    "# the response here is in JSON we can convert JSON directly to python dictionery by using res.json()\n",
    "res.json()"
   ]
  },
  {
   "cell_type": "code",
   "execution_count": 32,
   "metadata": {},
   "outputs": [
    {
     "name": "stdout",
     "output_type": "stream",
     "text": [
      "200\n"
     ]
    },
    {
     "data": {
      "text/plain": [
       "{'args': {},\n",
       " 'data': '',\n",
       " 'files': {},\n",
       " 'form': {'Username': 'Promit',\n",
       "  'items': ['2', '3', '4', '5', '6'],\n",
       "  'password': 'abcd'},\n",
       " 'headers': {'Accept': '*/*',\n",
       "  'Accept-Encoding': 'gzip, deflate',\n",
       "  'Content-Length': '69',\n",
       "  'Content-Type': 'application/x-www-form-urlencoded',\n",
       "  'Host': 'httpbin.org',\n",
       "  'User-Agent': 'python-requests/2.24.0',\n",
       "  'X-Amzn-Trace-Id': 'Root=1-60e416c1-21826d876f8942dc43c267c8'},\n",
       " 'json': None,\n",
       " 'origin': '43.241.146.170',\n",
       " 'url': 'https://httpbin.org/post'}"
      ]
     },
     "execution_count": 32,
     "metadata": {},
     "output_type": "execute_result"
    }
   ],
   "source": [
    "res2=req.post(\"https://httpbin.org/post\",data=data2)\n",
    "print(res2.status_code)\n",
    "res2.json()"
   ]
  },
  {
   "cell_type": "code",
   "execution_count": 34,
   "metadata": {},
   "outputs": [
    {
     "name": "stdout",
     "output_type": "stream",
     "text": [
      "200\n"
     ]
    },
    {
     "data": {
      "text/plain": [
       "{'args': {},\n",
       " 'data': '',\n",
       " 'files': {},\n",
       " 'form': {},\n",
       " 'headers': {'Accept': '*/*',\n",
       "  'Accept-Encoding': 'gzip, deflate',\n",
       "  'Content-Length': '0',\n",
       "  'Host': 'httpbin.org',\n",
       "  'User-Agent': 'python-requests/2.24.0',\n",
       "  'X-Amzn-Trace-Id': 'Root=1-60e4178b-1e7b0c3251d1539468b0dc16'},\n",
       " 'json': None,\n",
       " 'origin': '43.241.146.170',\n",
       " 'url': 'https://httpbin.org/post'}"
      ]
     },
     "execution_count": 34,
     "metadata": {},
     "output_type": "execute_result"
    }
   ],
   "source": [
    "res3=req.post(\"https://httpbin.org/post\") #Even if we don't post anything we get status code as 200\n",
    "print(res3.status_code)\n",
    "res3.json()"
   ]
  },
  {
   "cell_type": "code",
   "execution_count": 14,
   "metadata": {},
   "outputs": [
    {
     "name": "stdout",
     "output_type": "stream",
     "text": [
      "{\n",
      "  \"authenticated\": true, \n",
      "  \"user\": \"Promit\"\n",
      "}\n",
      "\n"
     ]
    }
   ],
   "source": [
    "# basic authentication\n",
    "res=req.get(\"https://httpbin.org/basic-auth/Promit/1234\",auth=('Promit','1234'))\n",
    "print(res.text)"
   ]
  },
  {
   "cell_type": "code",
   "execution_count": 15,
   "metadata": {},
   "outputs": [
    {
     "ename": "ReadTimeout",
     "evalue": "HTTPSConnectionPool(host='httpbin.org', port=443): Read timed out. (read timeout=3)",
     "output_type": "error",
     "traceback": [
      "\u001b[1;31m---------------------------------------------------------------------------\u001b[0m",
      "\u001b[1;31mtimeout\u001b[0m                                   Traceback (most recent call last)",
      "\u001b[1;32mD:\\Anaconda\\lib\\site-packages\\urllib3\\connectionpool.py\u001b[0m in \u001b[0;36m_make_request\u001b[1;34m(self, conn, method, url, timeout, chunked, **httplib_request_kw)\u001b[0m\n\u001b[0;32m    425\u001b[0m                     \u001b[1;31m# Otherwise it looks like a bug in the code.\u001b[0m\u001b[1;33m\u001b[0m\u001b[1;33m\u001b[0m\u001b[1;33m\u001b[0m\u001b[0m\n\u001b[1;32m--> 426\u001b[1;33m                     \u001b[0msix\u001b[0m\u001b[1;33m.\u001b[0m\u001b[0mraise_from\u001b[0m\u001b[1;33m(\u001b[0m\u001b[0me\u001b[0m\u001b[1;33m,\u001b[0m \u001b[1;32mNone\u001b[0m\u001b[1;33m)\u001b[0m\u001b[1;33m\u001b[0m\u001b[1;33m\u001b[0m\u001b[0m\n\u001b[0m\u001b[0;32m    427\u001b[0m         \u001b[1;32mexcept\u001b[0m \u001b[1;33m(\u001b[0m\u001b[0mSocketTimeout\u001b[0m\u001b[1;33m,\u001b[0m \u001b[0mBaseSSLError\u001b[0m\u001b[1;33m,\u001b[0m \u001b[0mSocketError\u001b[0m\u001b[1;33m)\u001b[0m \u001b[1;32mas\u001b[0m \u001b[0me\u001b[0m\u001b[1;33m:\u001b[0m\u001b[1;33m\u001b[0m\u001b[1;33m\u001b[0m\u001b[0m\n",
      "\u001b[1;32mD:\\Anaconda\\lib\\site-packages\\urllib3\\packages\\six.py\u001b[0m in \u001b[0;36mraise_from\u001b[1;34m(value, from_value)\u001b[0m\n",
      "\u001b[1;32mD:\\Anaconda\\lib\\site-packages\\urllib3\\connectionpool.py\u001b[0m in \u001b[0;36m_make_request\u001b[1;34m(self, conn, method, url, timeout, chunked, **httplib_request_kw)\u001b[0m\n\u001b[0;32m    420\u001b[0m                 \u001b[1;32mtry\u001b[0m\u001b[1;33m:\u001b[0m\u001b[1;33m\u001b[0m\u001b[1;33m\u001b[0m\u001b[0m\n\u001b[1;32m--> 421\u001b[1;33m                     \u001b[0mhttplib_response\u001b[0m \u001b[1;33m=\u001b[0m \u001b[0mconn\u001b[0m\u001b[1;33m.\u001b[0m\u001b[0mgetresponse\u001b[0m\u001b[1;33m(\u001b[0m\u001b[1;33m)\u001b[0m\u001b[1;33m\u001b[0m\u001b[1;33m\u001b[0m\u001b[0m\n\u001b[0m\u001b[0;32m    422\u001b[0m                 \u001b[1;32mexcept\u001b[0m \u001b[0mBaseException\u001b[0m \u001b[1;32mas\u001b[0m \u001b[0me\u001b[0m\u001b[1;33m:\u001b[0m\u001b[1;33m\u001b[0m\u001b[1;33m\u001b[0m\u001b[0m\n",
      "\u001b[1;32mD:\\Anaconda\\lib\\http\\client.py\u001b[0m in \u001b[0;36mgetresponse\u001b[1;34m(self)\u001b[0m\n\u001b[0;32m   1331\u001b[0m             \u001b[1;32mtry\u001b[0m\u001b[1;33m:\u001b[0m\u001b[1;33m\u001b[0m\u001b[1;33m\u001b[0m\u001b[0m\n\u001b[1;32m-> 1332\u001b[1;33m                 \u001b[0mresponse\u001b[0m\u001b[1;33m.\u001b[0m\u001b[0mbegin\u001b[0m\u001b[1;33m(\u001b[0m\u001b[1;33m)\u001b[0m\u001b[1;33m\u001b[0m\u001b[1;33m\u001b[0m\u001b[0m\n\u001b[0m\u001b[0;32m   1333\u001b[0m             \u001b[1;32mexcept\u001b[0m \u001b[0mConnectionError\u001b[0m\u001b[1;33m:\u001b[0m\u001b[1;33m\u001b[0m\u001b[1;33m\u001b[0m\u001b[0m\n",
      "\u001b[1;32mD:\\Anaconda\\lib\\http\\client.py\u001b[0m in \u001b[0;36mbegin\u001b[1;34m(self)\u001b[0m\n\u001b[0;32m    302\u001b[0m         \u001b[1;32mwhile\u001b[0m \u001b[1;32mTrue\u001b[0m\u001b[1;33m:\u001b[0m\u001b[1;33m\u001b[0m\u001b[1;33m\u001b[0m\u001b[0m\n\u001b[1;32m--> 303\u001b[1;33m             \u001b[0mversion\u001b[0m\u001b[1;33m,\u001b[0m \u001b[0mstatus\u001b[0m\u001b[1;33m,\u001b[0m \u001b[0mreason\u001b[0m \u001b[1;33m=\u001b[0m \u001b[0mself\u001b[0m\u001b[1;33m.\u001b[0m\u001b[0m_read_status\u001b[0m\u001b[1;33m(\u001b[0m\u001b[1;33m)\u001b[0m\u001b[1;33m\u001b[0m\u001b[1;33m\u001b[0m\u001b[0m\n\u001b[0m\u001b[0;32m    304\u001b[0m             \u001b[1;32mif\u001b[0m \u001b[0mstatus\u001b[0m \u001b[1;33m!=\u001b[0m \u001b[0mCONTINUE\u001b[0m\u001b[1;33m:\u001b[0m\u001b[1;33m\u001b[0m\u001b[1;33m\u001b[0m\u001b[0m\n",
      "\u001b[1;32mD:\\Anaconda\\lib\\http\\client.py\u001b[0m in \u001b[0;36m_read_status\u001b[1;34m(self)\u001b[0m\n\u001b[0;32m    263\u001b[0m     \u001b[1;32mdef\u001b[0m \u001b[0m_read_status\u001b[0m\u001b[1;33m(\u001b[0m\u001b[0mself\u001b[0m\u001b[1;33m)\u001b[0m\u001b[1;33m:\u001b[0m\u001b[1;33m\u001b[0m\u001b[1;33m\u001b[0m\u001b[0m\n\u001b[1;32m--> 264\u001b[1;33m         \u001b[0mline\u001b[0m \u001b[1;33m=\u001b[0m \u001b[0mstr\u001b[0m\u001b[1;33m(\u001b[0m\u001b[0mself\u001b[0m\u001b[1;33m.\u001b[0m\u001b[0mfp\u001b[0m\u001b[1;33m.\u001b[0m\u001b[0mreadline\u001b[0m\u001b[1;33m(\u001b[0m\u001b[0m_MAXLINE\u001b[0m \u001b[1;33m+\u001b[0m \u001b[1;36m1\u001b[0m\u001b[1;33m)\u001b[0m\u001b[1;33m,\u001b[0m \u001b[1;34m\"iso-8859-1\"\u001b[0m\u001b[1;33m)\u001b[0m\u001b[1;33m\u001b[0m\u001b[1;33m\u001b[0m\u001b[0m\n\u001b[0m\u001b[0;32m    265\u001b[0m         \u001b[1;32mif\u001b[0m \u001b[0mlen\u001b[0m\u001b[1;33m(\u001b[0m\u001b[0mline\u001b[0m\u001b[1;33m)\u001b[0m \u001b[1;33m>\u001b[0m \u001b[0m_MAXLINE\u001b[0m\u001b[1;33m:\u001b[0m\u001b[1;33m\u001b[0m\u001b[1;33m\u001b[0m\u001b[0m\n",
      "\u001b[1;32mD:\\Anaconda\\lib\\socket.py\u001b[0m in \u001b[0;36mreadinto\u001b[1;34m(self, b)\u001b[0m\n\u001b[0;32m    668\u001b[0m             \u001b[1;32mtry\u001b[0m\u001b[1;33m:\u001b[0m\u001b[1;33m\u001b[0m\u001b[1;33m\u001b[0m\u001b[0m\n\u001b[1;32m--> 669\u001b[1;33m                 \u001b[1;32mreturn\u001b[0m \u001b[0mself\u001b[0m\u001b[1;33m.\u001b[0m\u001b[0m_sock\u001b[0m\u001b[1;33m.\u001b[0m\u001b[0mrecv_into\u001b[0m\u001b[1;33m(\u001b[0m\u001b[0mb\u001b[0m\u001b[1;33m)\u001b[0m\u001b[1;33m\u001b[0m\u001b[1;33m\u001b[0m\u001b[0m\n\u001b[0m\u001b[0;32m    670\u001b[0m             \u001b[1;32mexcept\u001b[0m \u001b[0mtimeout\u001b[0m\u001b[1;33m:\u001b[0m\u001b[1;33m\u001b[0m\u001b[1;33m\u001b[0m\u001b[0m\n",
      "\u001b[1;32mD:\\Anaconda\\lib\\ssl.py\u001b[0m in \u001b[0;36mrecv_into\u001b[1;34m(self, buffer, nbytes, flags)\u001b[0m\n\u001b[0;32m   1240\u001b[0m                   self.__class__)\n\u001b[1;32m-> 1241\u001b[1;33m             \u001b[1;32mreturn\u001b[0m \u001b[0mself\u001b[0m\u001b[1;33m.\u001b[0m\u001b[0mread\u001b[0m\u001b[1;33m(\u001b[0m\u001b[0mnbytes\u001b[0m\u001b[1;33m,\u001b[0m \u001b[0mbuffer\u001b[0m\u001b[1;33m)\u001b[0m\u001b[1;33m\u001b[0m\u001b[1;33m\u001b[0m\u001b[0m\n\u001b[0m\u001b[0;32m   1242\u001b[0m         \u001b[1;32melse\u001b[0m\u001b[1;33m:\u001b[0m\u001b[1;33m\u001b[0m\u001b[1;33m\u001b[0m\u001b[0m\n",
      "\u001b[1;32mD:\\Anaconda\\lib\\ssl.py\u001b[0m in \u001b[0;36mread\u001b[1;34m(self, len, buffer)\u001b[0m\n\u001b[0;32m   1098\u001b[0m             \u001b[1;32mif\u001b[0m \u001b[0mbuffer\u001b[0m \u001b[1;32mis\u001b[0m \u001b[1;32mnot\u001b[0m \u001b[1;32mNone\u001b[0m\u001b[1;33m:\u001b[0m\u001b[1;33m\u001b[0m\u001b[1;33m\u001b[0m\u001b[0m\n\u001b[1;32m-> 1099\u001b[1;33m                 \u001b[1;32mreturn\u001b[0m \u001b[0mself\u001b[0m\u001b[1;33m.\u001b[0m\u001b[0m_sslobj\u001b[0m\u001b[1;33m.\u001b[0m\u001b[0mread\u001b[0m\u001b[1;33m(\u001b[0m\u001b[0mlen\u001b[0m\u001b[1;33m,\u001b[0m \u001b[0mbuffer\u001b[0m\u001b[1;33m)\u001b[0m\u001b[1;33m\u001b[0m\u001b[1;33m\u001b[0m\u001b[0m\n\u001b[0m\u001b[0;32m   1100\u001b[0m             \u001b[1;32melse\u001b[0m\u001b[1;33m:\u001b[0m\u001b[1;33m\u001b[0m\u001b[1;33m\u001b[0m\u001b[0m\n",
      "\u001b[1;31mtimeout\u001b[0m: The read operation timed out",
      "\nDuring handling of the above exception, another exception occurred:\n",
      "\u001b[1;31mReadTimeoutError\u001b[0m                          Traceback (most recent call last)",
      "\u001b[1;32mD:\\Anaconda\\lib\\site-packages\\requests\\adapters.py\u001b[0m in \u001b[0;36msend\u001b[1;34m(self, request, stream, timeout, verify, cert, proxies)\u001b[0m\n\u001b[0;32m    438\u001b[0m             \u001b[1;32mif\u001b[0m \u001b[1;32mnot\u001b[0m \u001b[0mchunked\u001b[0m\u001b[1;33m:\u001b[0m\u001b[1;33m\u001b[0m\u001b[1;33m\u001b[0m\u001b[0m\n\u001b[1;32m--> 439\u001b[1;33m                 resp = conn.urlopen(\n\u001b[0m\u001b[0;32m    440\u001b[0m                     \u001b[0mmethod\u001b[0m\u001b[1;33m=\u001b[0m\u001b[0mrequest\u001b[0m\u001b[1;33m.\u001b[0m\u001b[0mmethod\u001b[0m\u001b[1;33m,\u001b[0m\u001b[1;33m\u001b[0m\u001b[1;33m\u001b[0m\u001b[0m\n",
      "\u001b[1;32mD:\\Anaconda\\lib\\site-packages\\urllib3\\connectionpool.py\u001b[0m in \u001b[0;36murlopen\u001b[1;34m(self, method, url, body, headers, retries, redirect, assert_same_host, timeout, pool_timeout, release_conn, chunked, body_pos, **response_kw)\u001b[0m\n\u001b[0;32m    723\u001b[0m \u001b[1;33m\u001b[0m\u001b[0m\n\u001b[1;32m--> 724\u001b[1;33m             retries = retries.increment(\n\u001b[0m\u001b[0;32m    725\u001b[0m                 \u001b[0mmethod\u001b[0m\u001b[1;33m,\u001b[0m \u001b[0murl\u001b[0m\u001b[1;33m,\u001b[0m \u001b[0merror\u001b[0m\u001b[1;33m=\u001b[0m\u001b[0me\u001b[0m\u001b[1;33m,\u001b[0m \u001b[0m_pool\u001b[0m\u001b[1;33m=\u001b[0m\u001b[0mself\u001b[0m\u001b[1;33m,\u001b[0m \u001b[0m_stacktrace\u001b[0m\u001b[1;33m=\u001b[0m\u001b[0msys\u001b[0m\u001b[1;33m.\u001b[0m\u001b[0mexc_info\u001b[0m\u001b[1;33m(\u001b[0m\u001b[1;33m)\u001b[0m\u001b[1;33m[\u001b[0m\u001b[1;36m2\u001b[0m\u001b[1;33m]\u001b[0m\u001b[1;33m\u001b[0m\u001b[1;33m\u001b[0m\u001b[0m\n",
      "\u001b[1;32mD:\\Anaconda\\lib\\site-packages\\urllib3\\util\\retry.py\u001b[0m in \u001b[0;36mincrement\u001b[1;34m(self, method, url, response, error, _pool, _stacktrace)\u001b[0m\n\u001b[0;32m    402\u001b[0m             \u001b[1;32mif\u001b[0m \u001b[0mread\u001b[0m \u001b[1;32mis\u001b[0m \u001b[1;32mFalse\u001b[0m \u001b[1;32mor\u001b[0m \u001b[1;32mnot\u001b[0m \u001b[0mself\u001b[0m\u001b[1;33m.\u001b[0m\u001b[0m_is_method_retryable\u001b[0m\u001b[1;33m(\u001b[0m\u001b[0mmethod\u001b[0m\u001b[1;33m)\u001b[0m\u001b[1;33m:\u001b[0m\u001b[1;33m\u001b[0m\u001b[1;33m\u001b[0m\u001b[0m\n\u001b[1;32m--> 403\u001b[1;33m                 \u001b[1;32mraise\u001b[0m \u001b[0msix\u001b[0m\u001b[1;33m.\u001b[0m\u001b[0mreraise\u001b[0m\u001b[1;33m(\u001b[0m\u001b[0mtype\u001b[0m\u001b[1;33m(\u001b[0m\u001b[0merror\u001b[0m\u001b[1;33m)\u001b[0m\u001b[1;33m,\u001b[0m \u001b[0merror\u001b[0m\u001b[1;33m,\u001b[0m \u001b[0m_stacktrace\u001b[0m\u001b[1;33m)\u001b[0m\u001b[1;33m\u001b[0m\u001b[1;33m\u001b[0m\u001b[0m\n\u001b[0m\u001b[0;32m    404\u001b[0m             \u001b[1;32melif\u001b[0m \u001b[0mread\u001b[0m \u001b[1;32mis\u001b[0m \u001b[1;32mnot\u001b[0m \u001b[1;32mNone\u001b[0m\u001b[1;33m:\u001b[0m\u001b[1;33m\u001b[0m\u001b[1;33m\u001b[0m\u001b[0m\n",
      "\u001b[1;32mD:\\Anaconda\\lib\\site-packages\\urllib3\\packages\\six.py\u001b[0m in \u001b[0;36mreraise\u001b[1;34m(tp, value, tb)\u001b[0m\n\u001b[0;32m    734\u001b[0m                 \u001b[1;32mraise\u001b[0m \u001b[0mvalue\u001b[0m\u001b[1;33m.\u001b[0m\u001b[0mwith_traceback\u001b[0m\u001b[1;33m(\u001b[0m\u001b[0mtb\u001b[0m\u001b[1;33m)\u001b[0m\u001b[1;33m\u001b[0m\u001b[1;33m\u001b[0m\u001b[0m\n\u001b[1;32m--> 735\u001b[1;33m             \u001b[1;32mraise\u001b[0m \u001b[0mvalue\u001b[0m\u001b[1;33m\u001b[0m\u001b[1;33m\u001b[0m\u001b[0m\n\u001b[0m\u001b[0;32m    736\u001b[0m         \u001b[1;32mfinally\u001b[0m\u001b[1;33m:\u001b[0m\u001b[1;33m\u001b[0m\u001b[1;33m\u001b[0m\u001b[0m\n",
      "\u001b[1;32mD:\\Anaconda\\lib\\site-packages\\urllib3\\connectionpool.py\u001b[0m in \u001b[0;36murlopen\u001b[1;34m(self, method, url, body, headers, retries, redirect, assert_same_host, timeout, pool_timeout, release_conn, chunked, body_pos, **response_kw)\u001b[0m\n\u001b[0;32m    669\u001b[0m             \u001b[1;31m# Make the request on the httplib connection object.\u001b[0m\u001b[1;33m\u001b[0m\u001b[1;33m\u001b[0m\u001b[1;33m\u001b[0m\u001b[0m\n\u001b[1;32m--> 670\u001b[1;33m             httplib_response = self._make_request(\n\u001b[0m\u001b[0;32m    671\u001b[0m                 \u001b[0mconn\u001b[0m\u001b[1;33m,\u001b[0m\u001b[1;33m\u001b[0m\u001b[1;33m\u001b[0m\u001b[0m\n",
      "\u001b[1;32mD:\\Anaconda\\lib\\site-packages\\urllib3\\connectionpool.py\u001b[0m in \u001b[0;36m_make_request\u001b[1;34m(self, conn, method, url, timeout, chunked, **httplib_request_kw)\u001b[0m\n\u001b[0;32m    427\u001b[0m         \u001b[1;32mexcept\u001b[0m \u001b[1;33m(\u001b[0m\u001b[0mSocketTimeout\u001b[0m\u001b[1;33m,\u001b[0m \u001b[0mBaseSSLError\u001b[0m\u001b[1;33m,\u001b[0m \u001b[0mSocketError\u001b[0m\u001b[1;33m)\u001b[0m \u001b[1;32mas\u001b[0m \u001b[0me\u001b[0m\u001b[1;33m:\u001b[0m\u001b[1;33m\u001b[0m\u001b[1;33m\u001b[0m\u001b[0m\n\u001b[1;32m--> 428\u001b[1;33m             \u001b[0mself\u001b[0m\u001b[1;33m.\u001b[0m\u001b[0m_raise_timeout\u001b[0m\u001b[1;33m(\u001b[0m\u001b[0merr\u001b[0m\u001b[1;33m=\u001b[0m\u001b[0me\u001b[0m\u001b[1;33m,\u001b[0m \u001b[0murl\u001b[0m\u001b[1;33m=\u001b[0m\u001b[0murl\u001b[0m\u001b[1;33m,\u001b[0m \u001b[0mtimeout_value\u001b[0m\u001b[1;33m=\u001b[0m\u001b[0mread_timeout\u001b[0m\u001b[1;33m)\u001b[0m\u001b[1;33m\u001b[0m\u001b[1;33m\u001b[0m\u001b[0m\n\u001b[0m\u001b[0;32m    429\u001b[0m             \u001b[1;32mraise\u001b[0m\u001b[1;33m\u001b[0m\u001b[1;33m\u001b[0m\u001b[0m\n",
      "\u001b[1;32mD:\\Anaconda\\lib\\site-packages\\urllib3\\connectionpool.py\u001b[0m in \u001b[0;36m_raise_timeout\u001b[1;34m(self, err, url, timeout_value)\u001b[0m\n\u001b[0;32m    334\u001b[0m         \u001b[1;32mif\u001b[0m \u001b[0misinstance\u001b[0m\u001b[1;33m(\u001b[0m\u001b[0merr\u001b[0m\u001b[1;33m,\u001b[0m \u001b[0mSocketTimeout\u001b[0m\u001b[1;33m)\u001b[0m\u001b[1;33m:\u001b[0m\u001b[1;33m\u001b[0m\u001b[1;33m\u001b[0m\u001b[0m\n\u001b[1;32m--> 335\u001b[1;33m             raise ReadTimeoutError(\n\u001b[0m\u001b[0;32m    336\u001b[0m                 \u001b[0mself\u001b[0m\u001b[1;33m,\u001b[0m \u001b[0murl\u001b[0m\u001b[1;33m,\u001b[0m \u001b[1;34m\"Read timed out. (read timeout=%s)\"\u001b[0m \u001b[1;33m%\u001b[0m \u001b[0mtimeout_value\u001b[0m\u001b[1;33m\u001b[0m\u001b[1;33m\u001b[0m\u001b[0m\n",
      "\u001b[1;31mReadTimeoutError\u001b[0m: HTTPSConnectionPool(host='httpbin.org', port=443): Read timed out. (read timeout=3)",
      "\nDuring handling of the above exception, another exception occurred:\n",
      "\u001b[1;31mReadTimeout\u001b[0m                               Traceback (most recent call last)",
      "\u001b[1;32m<ipython-input-15-faf3530cd0f7>\u001b[0m in \u001b[0;36m<module>\u001b[1;34m\u001b[0m\n\u001b[0;32m      1\u001b[0m \u001b[1;31m# timeout request if it takes too long to respond\u001b[0m\u001b[1;33m\u001b[0m\u001b[1;33m\u001b[0m\u001b[1;33m\u001b[0m\u001b[0m\n\u001b[1;32m----> 2\u001b[1;33m \u001b[0mres\u001b[0m\u001b[1;33m=\u001b[0m\u001b[0mreq\u001b[0m\u001b[1;33m.\u001b[0m\u001b[0mget\u001b[0m\u001b[1;33m(\u001b[0m\u001b[1;34m\"https://httpbin.org/delay/6\"\u001b[0m\u001b[1;33m,\u001b[0m\u001b[0mtimeout\u001b[0m\u001b[1;33m=\u001b[0m\u001b[1;36m3\u001b[0m\u001b[1;33m)\u001b[0m   \u001b[1;31m# response took 6 secs to come but timeout was for 3 sec so timed out...\u001b[0m\u001b[1;33m\u001b[0m\u001b[1;33m\u001b[0m\u001b[0m\n\u001b[0m\u001b[0;32m      3\u001b[0m \u001b[0mprint\u001b[0m\u001b[1;33m(\u001b[0m\u001b[0mres\u001b[0m\u001b[1;33m)\u001b[0m\u001b[1;33m\u001b[0m\u001b[1;33m\u001b[0m\u001b[0m\n",
      "\u001b[1;32mD:\\Anaconda\\lib\\site-packages\\requests\\api.py\u001b[0m in \u001b[0;36mget\u001b[1;34m(url, params, **kwargs)\u001b[0m\n\u001b[0;32m     74\u001b[0m \u001b[1;33m\u001b[0m\u001b[0m\n\u001b[0;32m     75\u001b[0m     \u001b[0mkwargs\u001b[0m\u001b[1;33m.\u001b[0m\u001b[0msetdefault\u001b[0m\u001b[1;33m(\u001b[0m\u001b[1;34m'allow_redirects'\u001b[0m\u001b[1;33m,\u001b[0m \u001b[1;32mTrue\u001b[0m\u001b[1;33m)\u001b[0m\u001b[1;33m\u001b[0m\u001b[1;33m\u001b[0m\u001b[0m\n\u001b[1;32m---> 76\u001b[1;33m     \u001b[1;32mreturn\u001b[0m \u001b[0mrequest\u001b[0m\u001b[1;33m(\u001b[0m\u001b[1;34m'get'\u001b[0m\u001b[1;33m,\u001b[0m \u001b[0murl\u001b[0m\u001b[1;33m,\u001b[0m \u001b[0mparams\u001b[0m\u001b[1;33m=\u001b[0m\u001b[0mparams\u001b[0m\u001b[1;33m,\u001b[0m \u001b[1;33m**\u001b[0m\u001b[0mkwargs\u001b[0m\u001b[1;33m)\u001b[0m\u001b[1;33m\u001b[0m\u001b[1;33m\u001b[0m\u001b[0m\n\u001b[0m\u001b[0;32m     77\u001b[0m \u001b[1;33m\u001b[0m\u001b[0m\n\u001b[0;32m     78\u001b[0m \u001b[1;33m\u001b[0m\u001b[0m\n",
      "\u001b[1;32mD:\\Anaconda\\lib\\site-packages\\requests\\api.py\u001b[0m in \u001b[0;36mrequest\u001b[1;34m(method, url, **kwargs)\u001b[0m\n\u001b[0;32m     59\u001b[0m     \u001b[1;31m# cases, and look like a memory leak in others.\u001b[0m\u001b[1;33m\u001b[0m\u001b[1;33m\u001b[0m\u001b[1;33m\u001b[0m\u001b[0m\n\u001b[0;32m     60\u001b[0m     \u001b[1;32mwith\u001b[0m \u001b[0msessions\u001b[0m\u001b[1;33m.\u001b[0m\u001b[0mSession\u001b[0m\u001b[1;33m(\u001b[0m\u001b[1;33m)\u001b[0m \u001b[1;32mas\u001b[0m \u001b[0msession\u001b[0m\u001b[1;33m:\u001b[0m\u001b[1;33m\u001b[0m\u001b[1;33m\u001b[0m\u001b[0m\n\u001b[1;32m---> 61\u001b[1;33m         \u001b[1;32mreturn\u001b[0m \u001b[0msession\u001b[0m\u001b[1;33m.\u001b[0m\u001b[0mrequest\u001b[0m\u001b[1;33m(\u001b[0m\u001b[0mmethod\u001b[0m\u001b[1;33m=\u001b[0m\u001b[0mmethod\u001b[0m\u001b[1;33m,\u001b[0m \u001b[0murl\u001b[0m\u001b[1;33m=\u001b[0m\u001b[0murl\u001b[0m\u001b[1;33m,\u001b[0m \u001b[1;33m**\u001b[0m\u001b[0mkwargs\u001b[0m\u001b[1;33m)\u001b[0m\u001b[1;33m\u001b[0m\u001b[1;33m\u001b[0m\u001b[0m\n\u001b[0m\u001b[0;32m     62\u001b[0m \u001b[1;33m\u001b[0m\u001b[0m\n\u001b[0;32m     63\u001b[0m \u001b[1;33m\u001b[0m\u001b[0m\n",
      "\u001b[1;32mD:\\Anaconda\\lib\\site-packages\\requests\\sessions.py\u001b[0m in \u001b[0;36mrequest\u001b[1;34m(self, method, url, params, data, headers, cookies, files, auth, timeout, allow_redirects, proxies, hooks, stream, verify, cert, json)\u001b[0m\n\u001b[0;32m    528\u001b[0m         }\n\u001b[0;32m    529\u001b[0m         \u001b[0msend_kwargs\u001b[0m\u001b[1;33m.\u001b[0m\u001b[0mupdate\u001b[0m\u001b[1;33m(\u001b[0m\u001b[0msettings\u001b[0m\u001b[1;33m)\u001b[0m\u001b[1;33m\u001b[0m\u001b[1;33m\u001b[0m\u001b[0m\n\u001b[1;32m--> 530\u001b[1;33m         \u001b[0mresp\u001b[0m \u001b[1;33m=\u001b[0m \u001b[0mself\u001b[0m\u001b[1;33m.\u001b[0m\u001b[0msend\u001b[0m\u001b[1;33m(\u001b[0m\u001b[0mprep\u001b[0m\u001b[1;33m,\u001b[0m \u001b[1;33m**\u001b[0m\u001b[0msend_kwargs\u001b[0m\u001b[1;33m)\u001b[0m\u001b[1;33m\u001b[0m\u001b[1;33m\u001b[0m\u001b[0m\n\u001b[0m\u001b[0;32m    531\u001b[0m \u001b[1;33m\u001b[0m\u001b[0m\n\u001b[0;32m    532\u001b[0m         \u001b[1;32mreturn\u001b[0m \u001b[0mresp\u001b[0m\u001b[1;33m\u001b[0m\u001b[1;33m\u001b[0m\u001b[0m\n",
      "\u001b[1;32mD:\\Anaconda\\lib\\site-packages\\requests\\sessions.py\u001b[0m in \u001b[0;36msend\u001b[1;34m(self, request, **kwargs)\u001b[0m\n\u001b[0;32m    641\u001b[0m \u001b[1;33m\u001b[0m\u001b[0m\n\u001b[0;32m    642\u001b[0m         \u001b[1;31m# Send the request\u001b[0m\u001b[1;33m\u001b[0m\u001b[1;33m\u001b[0m\u001b[1;33m\u001b[0m\u001b[0m\n\u001b[1;32m--> 643\u001b[1;33m         \u001b[0mr\u001b[0m \u001b[1;33m=\u001b[0m \u001b[0madapter\u001b[0m\u001b[1;33m.\u001b[0m\u001b[0msend\u001b[0m\u001b[1;33m(\u001b[0m\u001b[0mrequest\u001b[0m\u001b[1;33m,\u001b[0m \u001b[1;33m**\u001b[0m\u001b[0mkwargs\u001b[0m\u001b[1;33m)\u001b[0m\u001b[1;33m\u001b[0m\u001b[1;33m\u001b[0m\u001b[0m\n\u001b[0m\u001b[0;32m    644\u001b[0m \u001b[1;33m\u001b[0m\u001b[0m\n\u001b[0;32m    645\u001b[0m         \u001b[1;31m# Total elapsed time of the request (approximately)\u001b[0m\u001b[1;33m\u001b[0m\u001b[1;33m\u001b[0m\u001b[1;33m\u001b[0m\u001b[0m\n",
      "\u001b[1;32mD:\\Anaconda\\lib\\site-packages\\requests\\adapters.py\u001b[0m in \u001b[0;36msend\u001b[1;34m(self, request, stream, timeout, verify, cert, proxies)\u001b[0m\n\u001b[0;32m    527\u001b[0m                 \u001b[1;32mraise\u001b[0m \u001b[0mSSLError\u001b[0m\u001b[1;33m(\u001b[0m\u001b[0me\u001b[0m\u001b[1;33m,\u001b[0m \u001b[0mrequest\u001b[0m\u001b[1;33m=\u001b[0m\u001b[0mrequest\u001b[0m\u001b[1;33m)\u001b[0m\u001b[1;33m\u001b[0m\u001b[1;33m\u001b[0m\u001b[0m\n\u001b[0;32m    528\u001b[0m             \u001b[1;32melif\u001b[0m \u001b[0misinstance\u001b[0m\u001b[1;33m(\u001b[0m\u001b[0me\u001b[0m\u001b[1;33m,\u001b[0m \u001b[0mReadTimeoutError\u001b[0m\u001b[1;33m)\u001b[0m\u001b[1;33m:\u001b[0m\u001b[1;33m\u001b[0m\u001b[1;33m\u001b[0m\u001b[0m\n\u001b[1;32m--> 529\u001b[1;33m                 \u001b[1;32mraise\u001b[0m \u001b[0mReadTimeout\u001b[0m\u001b[1;33m(\u001b[0m\u001b[0me\u001b[0m\u001b[1;33m,\u001b[0m \u001b[0mrequest\u001b[0m\u001b[1;33m=\u001b[0m\u001b[0mrequest\u001b[0m\u001b[1;33m)\u001b[0m\u001b[1;33m\u001b[0m\u001b[1;33m\u001b[0m\u001b[0m\n\u001b[0m\u001b[0;32m    530\u001b[0m             \u001b[1;32melse\u001b[0m\u001b[1;33m:\u001b[0m\u001b[1;33m\u001b[0m\u001b[1;33m\u001b[0m\u001b[0m\n\u001b[0;32m    531\u001b[0m                 \u001b[1;32mraise\u001b[0m\u001b[1;33m\u001b[0m\u001b[1;33m\u001b[0m\u001b[0m\n",
      "\u001b[1;31mReadTimeout\u001b[0m: HTTPSConnectionPool(host='httpbin.org', port=443): Read timed out. (read timeout=3)"
     ]
    }
   ],
   "source": [
    "# timeout request if it takes too long to respond\n",
    "res=req.get(\"https://httpbin.org/delay/6\",timeout=3)   # response took 6 secs to come but timeout was for 3 sec so timed out...\n",
    "print(res)"
   ]
  },
  {
   "cell_type": "code",
   "execution_count": 16,
   "metadata": {},
   "outputs": [
    {
     "name": "stdout",
     "output_type": "stream",
     "text": [
      "application/json; charset=utf-8\n"
     ]
    },
    {
     "data": {
      "text/plain": [
       "[{'_id': {'$oid': '5fa64ae86e08282f745302c3'},\n",
       "  'name': 'Nodejs',\n",
       "  'Author': 'promit Revar',\n",
       "  'isPublished': False,\n",
       "  '__v': 0},\n",
       " {'_id': {'$oid': '5fa64bcdd2ccc620108ef7ba'},\n",
       "  'name': 'Nodejs',\n",
       "  'Author': 'promit Revar',\n",
       "  'isPublished': False,\n",
       "  '__v': 0},\n",
       " {'_id': {'$oid': '5fa64c4be1ef5b1878d8e547'},\n",
       "  'name': 'Nodejs',\n",
       "  'Author': 'promit Revar',\n",
       "  'isPublished': False,\n",
       "  '__v': 0},\n",
       " {'_id': {'$oid': '5fa64dd1e7103f2508f3fb4f'},\n",
       "  'name': 'Nodejs2',\n",
       "  'Author': 'promit- Revar',\n",
       "  'isPublished': True,\n",
       "  '__v': 0}]"
      ]
     },
     "execution_count": 16,
     "metadata": {},
     "output_type": "execute_result"
    }
   ],
   "source": [
    "res=req.get(\"https://promit-revar.github.io/mongo_api.json\")\n",
    "print(res.headers['content-type'])\n",
    "res.json()"
   ]
  },
  {
   "cell_type": "markdown",
   "metadata": {},
   "source": [
    "**Httplib**\n",
    "<br>\n",
    "<a href=\"https://docs.python.org/3/library/http.html\">Documentation</a>"
   ]
  },
  {
   "cell_type": "code",
   "execution_count": 17,
   "metadata": {},
   "outputs": [],
   "source": [
    "import http"
   ]
  },
  {
   "cell_type": "code",
   "execution_count": 18,
   "metadata": {},
   "outputs": [
    {
     "data": {
      "text/plain": [
       "<HTTPStatus.OK: 200>"
      ]
     },
     "execution_count": 18,
     "metadata": {},
     "output_type": "execute_result"
    }
   ],
   "source": [
    "http.HTTPStatus.OK"
   ]
  },
  {
   "cell_type": "code",
   "execution_count": 19,
   "metadata": {},
   "outputs": [
    {
     "data": {
      "text/plain": [
       "200"
      ]
     },
     "execution_count": 19,
     "metadata": {},
     "output_type": "execute_result"
    }
   ],
   "source": [
    "http.HTTPStatus.OK.value"
   ]
  },
  {
   "cell_type": "code",
   "execution_count": 20,
   "metadata": {},
   "outputs": [
    {
     "name": "stdout",
     "output_type": "stream",
     "text": [
      "OK\n",
      "Request fulfilled, document follows\n"
     ]
    }
   ],
   "source": [
    "print(http.HTTPStatus.OK.phrase)\n",
    "print(http.HTTPStatus.OK.description)"
   ]
  },
  {
   "cell_type": "code",
   "execution_count": 21,
   "metadata": {},
   "outputs": [
    {
     "name": "stdout",
     "output_type": "stream",
     "text": [
      "\t\t\t\t\t\tStatus Codes\t\t\t\t\t\t\n",
      "HTTPStatus.CONTINUE                                         100                              Continue\n",
      "HTTPStatus.SWITCHING_PROTOCOLS                              101                              Switching Protocols\n",
      "HTTPStatus.PROCESSING                                       102                              Processing\n",
      "HTTPStatus.OK                                               200                              OK\n",
      "HTTPStatus.CREATED                                          201                              Created\n",
      "HTTPStatus.ACCEPTED                                         202                              Accepted\n",
      "HTTPStatus.NON_AUTHORITATIVE_INFORMATION                    203                              Non-Authoritative Information\n",
      "HTTPStatus.NO_CONTENT                                       204                              No Content\n",
      "HTTPStatus.RESET_CONTENT                                    205                              Reset Content\n",
      "HTTPStatus.PARTIAL_CONTENT                                  206                              Partial Content\n",
      "HTTPStatus.MULTI_STATUS                                     207                              Multi-Status\n",
      "HTTPStatus.ALREADY_REPORTED                                 208                              Already Reported\n",
      "HTTPStatus.IM_USED                                          226                              IM Used\n",
      "HTTPStatus.MULTIPLE_CHOICES                                 300                              Multiple Choices\n",
      "HTTPStatus.MOVED_PERMANENTLY                                301                              Moved Permanently\n",
      "HTTPStatus.FOUND                                            302                              Found\n",
      "HTTPStatus.SEE_OTHER                                        303                              See Other\n",
      "HTTPStatus.NOT_MODIFIED                                     304                              Not Modified\n",
      "HTTPStatus.USE_PROXY                                        305                              Use Proxy\n",
      "HTTPStatus.TEMPORARY_REDIRECT                               307                              Temporary Redirect\n",
      "HTTPStatus.PERMANENT_REDIRECT                               308                              Permanent Redirect\n",
      "HTTPStatus.BAD_REQUEST                                      400                              Bad Request\n",
      "HTTPStatus.UNAUTHORIZED                                     401                              Unauthorized\n",
      "HTTPStatus.PAYMENT_REQUIRED                                 402                              Payment Required\n",
      "HTTPStatus.FORBIDDEN                                        403                              Forbidden\n",
      "HTTPStatus.NOT_FOUND                                        404                              Not Found\n",
      "HTTPStatus.METHOD_NOT_ALLOWED                               405                              Method Not Allowed\n",
      "HTTPStatus.NOT_ACCEPTABLE                                   406                              Not Acceptable\n",
      "HTTPStatus.PROXY_AUTHENTICATION_REQUIRED                    407                              Proxy Authentication Required\n",
      "HTTPStatus.REQUEST_TIMEOUT                                  408                              Request Timeout\n",
      "HTTPStatus.CONFLICT                                         409                              Conflict\n",
      "HTTPStatus.GONE                                             410                              Gone\n",
      "HTTPStatus.LENGTH_REQUIRED                                  411                              Length Required\n",
      "HTTPStatus.PRECONDITION_FAILED                              412                              Precondition Failed\n",
      "HTTPStatus.REQUEST_ENTITY_TOO_LARGE                         413                              Request Entity Too Large\n",
      "HTTPStatus.REQUEST_URI_TOO_LONG                             414                              Request-URI Too Long\n",
      "HTTPStatus.UNSUPPORTED_MEDIA_TYPE                           415                              Unsupported Media Type\n",
      "HTTPStatus.REQUESTED_RANGE_NOT_SATISFIABLE                  416                              Requested Range Not Satisfiable\n",
      "HTTPStatus.EXPECTATION_FAILED                               417                              Expectation Failed\n",
      "HTTPStatus.MISDIRECTED_REQUEST                              421                              Misdirected Request\n",
      "HTTPStatus.UNPROCESSABLE_ENTITY                             422                              Unprocessable Entity\n",
      "HTTPStatus.LOCKED                                           423                              Locked\n",
      "HTTPStatus.FAILED_DEPENDENCY                                424                              Failed Dependency\n",
      "HTTPStatus.UPGRADE_REQUIRED                                 426                              Upgrade Required\n",
      "HTTPStatus.PRECONDITION_REQUIRED                            428                              Precondition Required\n",
      "HTTPStatus.TOO_MANY_REQUESTS                                429                              Too Many Requests\n",
      "HTTPStatus.REQUEST_HEADER_FIELDS_TOO_LARGE                  431                              Request Header Fields Too Large\n",
      "HTTPStatus.UNAVAILABLE_FOR_LEGAL_REASONS                    451                              Unavailable For Legal Reasons\n",
      "HTTPStatus.INTERNAL_SERVER_ERROR                            500                              Internal Server Error\n",
      "HTTPStatus.NOT_IMPLEMENTED                                  501                              Not Implemented\n",
      "HTTPStatus.BAD_GATEWAY                                      502                              Bad Gateway\n",
      "HTTPStatus.SERVICE_UNAVAILABLE                              503                              Service Unavailable\n",
      "HTTPStatus.GATEWAY_TIMEOUT                                  504                              Gateway Timeout\n",
      "HTTPStatus.HTTP_VERSION_NOT_SUPPORTED                       505                              HTTP Version Not Supported\n",
      "HTTPStatus.VARIANT_ALSO_NEGOTIATES                          506                              Variant Also Negotiates\n",
      "HTTPStatus.INSUFFICIENT_STORAGE                             507                              Insufficient Storage\n",
      "HTTPStatus.LOOP_DETECTED                                    508                              Loop Detected\n",
      "HTTPStatus.NOT_EXTENDED                                     510                              Not Extended\n",
      "HTTPStatus.NETWORK_AUTHENTICATION_REQUIRED                  511                              Network Authentication Required\n"
     ]
    }
   ],
   "source": [
    "print(\"\\t\\t\\t\\t\\t\\tStatus Codes\\t\\t\\t\\t\\t\\t\")\n",
    "for i in list(http.HTTPStatus):\n",
    "    x=50-len(str(i))\n",
    "    print(str(i)+(x+10)*\" \"+str(i.value)+(x-20+len(str(i)))*\" \"+str(i.phrase))"
   ]
  },
  {
   "cell_type": "code",
   "execution_count": 22,
   "metadata": {},
   "outputs": [
    {
     "data": {
      "text/plain": [
       "<http.client.HTTPConnection at 0x1c9e52dba00>"
      ]
     },
     "execution_count": 22,
     "metadata": {},
     "output_type": "execute_result"
    }
   ],
   "source": [
    "h1=http.client.HTTPConnection(\"www.python.org\",80)\n",
    "h1"
   ]
  },
  {
   "cell_type": "code",
   "execution_count": 23,
   "metadata": {},
   "outputs": [],
   "source": [
    "h1.connect()\n",
    "h1.request('GET','/')"
   ]
  },
  {
   "cell_type": "code",
   "execution_count": 24,
   "metadata": {},
   "outputs": [
    {
     "data": {
      "text/plain": [
       "b''"
      ]
     },
     "execution_count": 24,
     "metadata": {},
     "output_type": "execute_result"
    }
   ],
   "source": [
    "r1 = h1.getresponse()\n",
    "r1.read()"
   ]
  },
  {
   "cell_type": "code",
   "execution_count": 25,
   "metadata": {},
   "outputs": [],
   "source": [
    "h1.close()"
   ]
  },
  {
   "cell_type": "markdown",
   "metadata": {},
   "source": [
    "# JSON Module\n"
   ]
  },
  {
   "cell_type": "code",
   "execution_count": 26,
   "metadata": {},
   "outputs": [],
   "source": [
    "import json"
   ]
  },
  {
   "cell_type": "code",
   "execution_count": 27,
   "metadata": {},
   "outputs": [
    {
     "data": {
      "text/plain": [
       "{'username': 'Promit',\n",
       " 'Password': 'abcd',\n",
       " 'courses': ['oops', 'DSA', 'Physics', 'chemistry'],\n",
       " 'Status': {'Reg': '19BIT0149', 'Branch': 'Information Technology'}}"
      ]
     },
     "execution_count": 27,
     "metadata": {},
     "output_type": "execute_result"
    }
   ],
   "source": [
    "data='{\"username\":\"Promit\",\"Password\":\"abcd\",\"courses\":[\"oops\",\"DSA\",\"Physics\",\"chemistry\"],\"Status\":{\"Reg\":\"19BIT0149\",\"Branch\":\"Information Technology\"}}'\n",
    "datac=json.loads(data) #converts to dictionery in python\n",
    "datac   # dictionery"
   ]
  },
  {
   "cell_type": "code",
   "execution_count": 28,
   "metadata": {},
   "outputs": [
    {
     "name": "stdout",
     "output_type": "stream",
     "text": [
      "{\n",
      "  \"Status\": {\n",
      "    \"Branch\": \"Information Technology\",\n",
      "    \"Reg\": \"19BIT0149\"\n",
      "  },\n",
      "  \"courses\": [\n",
      "    \"oops\",\n",
      "    \"DSA\",\n",
      "    \"Physics\",\n",
      "    \"chemistry\"\n",
      "  ],\n",
      "  \"username\": \"Promit\"\n",
      "}\n"
     ]
    }
   ],
   "source": [
    "del datac['Password']\n",
    "data=json.dumps(datac,indent=2,sort_keys=True) # from python dict to json string...with indent of 2 per item\n",
    "print(data)"
   ]
  },
  {
   "cell_type": "code",
   "execution_count": 29,
   "metadata": {},
   "outputs": [],
   "source": [
    "# json.dump() is used to write a json file from python object...\n",
    "with open('data.json','w') as f:\n",
    "    json.dump(datac,f,indent=2)\n"
   ]
  },
  {
   "cell_type": "code",
   "execution_count": 30,
   "metadata": {},
   "outputs": [
    {
     "name": "stdout",
     "output_type": "stream",
     "text": [
      "<class 'dict'>\n"
     ]
    }
   ],
   "source": [
    "# to load a file into python object we use json.load() whereas json.loads() is used for str to py obj...\n",
    "with open('data.json') as f:\n",
    "    data=json.load(f)\n",
    "print(type(data))"
   ]
  },
  {
   "cell_type": "code",
   "execution_count": null,
   "metadata": {},
   "outputs": [],
   "source": []
  }
 ],
 "metadata": {
  "kernelspec": {
   "display_name": "Python 3",
   "language": "python",
   "name": "python3"
  },
  "language_info": {
   "codemirror_mode": {
    "name": "ipython",
    "version": 3
   },
   "file_extension": ".py",
   "mimetype": "text/x-python",
   "name": "python",
   "nbconvert_exporter": "python",
   "pygments_lexer": "ipython3",
   "version": "3.8.3"
  }
 },
 "nbformat": 4,
 "nbformat_minor": 4
}
