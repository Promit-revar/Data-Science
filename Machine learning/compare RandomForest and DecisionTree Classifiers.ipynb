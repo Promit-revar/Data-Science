{
 "cells": [
  {
   "cell_type": "code",
   "execution_count": 5,
   "metadata": {},
   "outputs": [],
   "source": [
    "from sklearn.ensemble import RandomForestClassifier\n",
    "from sklearn.tree import DecisionTreeClassifier\n",
    "import pandas as pd\n",
    "from sklearn import datasets as dt\n",
    "from sklearn.model_selection import train_test_split"
   ]
  },
  {
   "cell_type": "code",
   "execution_count": 28,
   "metadata": {},
   "outputs": [
    {
     "data": {
      "text/plain": [
       "{'data': array([[1.423e+01, 1.710e+00, 2.430e+00, ..., 1.040e+00, 3.920e+00,\n",
       "         1.065e+03],\n",
       "        [1.320e+01, 1.780e+00, 2.140e+00, ..., 1.050e+00, 3.400e+00,\n",
       "         1.050e+03],\n",
       "        [1.316e+01, 2.360e+00, 2.670e+00, ..., 1.030e+00, 3.170e+00,\n",
       "         1.185e+03],\n",
       "        ...,\n",
       "        [1.327e+01, 4.280e+00, 2.260e+00, ..., 5.900e-01, 1.560e+00,\n",
       "         8.350e+02],\n",
       "        [1.317e+01, 2.590e+00, 2.370e+00, ..., 6.000e-01, 1.620e+00,\n",
       "         8.400e+02],\n",
       "        [1.413e+01, 4.100e+00, 2.740e+00, ..., 6.100e-01, 1.600e+00,\n",
       "         5.600e+02]]),\n",
       " 'target': array([0, 0, 0, 0, 0, 0, 0, 0, 0, 0, 0, 0, 0, 0, 0, 0, 0, 0, 0, 0, 0, 0,\n",
       "        0, 0, 0, 0, 0, 0, 0, 0, 0, 0, 0, 0, 0, 0, 0, 0, 0, 0, 0, 0, 0, 0,\n",
       "        0, 0, 0, 0, 0, 0, 0, 0, 0, 0, 0, 0, 0, 0, 0, 1, 1, 1, 1, 1, 1, 1,\n",
       "        1, 1, 1, 1, 1, 1, 1, 1, 1, 1, 1, 1, 1, 1, 1, 1, 1, 1, 1, 1, 1, 1,\n",
       "        1, 1, 1, 1, 1, 1, 1, 1, 1, 1, 1, 1, 1, 1, 1, 1, 1, 1, 1, 1, 1, 1,\n",
       "        1, 1, 1, 1, 1, 1, 1, 1, 1, 1, 1, 1, 1, 1, 1, 1, 1, 1, 1, 1, 2, 2,\n",
       "        2, 2, 2, 2, 2, 2, 2, 2, 2, 2, 2, 2, 2, 2, 2, 2, 2, 2, 2, 2, 2, 2,\n",
       "        2, 2, 2, 2, 2, 2, 2, 2, 2, 2, 2, 2, 2, 2, 2, 2, 2, 2, 2, 2, 2, 2,\n",
       "        2, 2]),\n",
       " 'frame': None,\n",
       " 'target_names': array(['class_0', 'class_1', 'class_2'], dtype='<U7'),\n",
       " 'DESCR': '.. _wine_dataset:\\n\\nWine recognition dataset\\n------------------------\\n\\n**Data Set Characteristics:**\\n\\n    :Number of Instances: 178 (50 in each of three classes)\\n    :Number of Attributes: 13 numeric, predictive attributes and the class\\n    :Attribute Information:\\n \\t\\t- Alcohol\\n \\t\\t- Malic acid\\n \\t\\t- Ash\\n\\t\\t- Alcalinity of ash  \\n \\t\\t- Magnesium\\n\\t\\t- Total phenols\\n \\t\\t- Flavanoids\\n \\t\\t- Nonflavanoid phenols\\n \\t\\t- Proanthocyanins\\n\\t\\t- Color intensity\\n \\t\\t- Hue\\n \\t\\t- OD280/OD315 of diluted wines\\n \\t\\t- Proline\\n\\n    - class:\\n            - class_0\\n            - class_1\\n            - class_2\\n\\t\\t\\n    :Summary Statistics:\\n    \\n    ============================= ==== ===== ======= =====\\n                                   Min   Max   Mean     SD\\n    ============================= ==== ===== ======= =====\\n    Alcohol:                      11.0  14.8    13.0   0.8\\n    Malic Acid:                   0.74  5.80    2.34  1.12\\n    Ash:                          1.36  3.23    2.36  0.27\\n    Alcalinity of Ash:            10.6  30.0    19.5   3.3\\n    Magnesium:                    70.0 162.0    99.7  14.3\\n    Total Phenols:                0.98  3.88    2.29  0.63\\n    Flavanoids:                   0.34  5.08    2.03  1.00\\n    Nonflavanoid Phenols:         0.13  0.66    0.36  0.12\\n    Proanthocyanins:              0.41  3.58    1.59  0.57\\n    Colour Intensity:              1.3  13.0     5.1   2.3\\n    Hue:                          0.48  1.71    0.96  0.23\\n    OD280/OD315 of diluted wines: 1.27  4.00    2.61  0.71\\n    Proline:                       278  1680     746   315\\n    ============================= ==== ===== ======= =====\\n\\n    :Missing Attribute Values: None\\n    :Class Distribution: class_0 (59), class_1 (71), class_2 (48)\\n    :Creator: R.A. Fisher\\n    :Donor: Michael Marshall (MARSHALL%PLU@io.arc.nasa.gov)\\n    :Date: July, 1988\\n\\nThis is a copy of UCI ML Wine recognition datasets.\\nhttps://archive.ics.uci.edu/ml/machine-learning-databases/wine/wine.data\\n\\nThe data is the results of a chemical analysis of wines grown in the same\\nregion in Italy by three different cultivators. There are thirteen different\\nmeasurements taken for different constituents found in the three types of\\nwine.\\n\\nOriginal Owners: \\n\\nForina, M. et al, PARVUS - \\nAn Extendible Package for Data Exploration, Classification and Correlation. \\nInstitute of Pharmaceutical and Food Analysis and Technologies,\\nVia Brigata Salerno, 16147 Genoa, Italy.\\n\\nCitation:\\n\\nLichman, M. (2013). UCI Machine Learning Repository\\n[https://archive.ics.uci.edu/ml]. Irvine, CA: University of California,\\nSchool of Information and Computer Science. \\n\\n.. topic:: References\\n\\n  (1) S. Aeberhard, D. Coomans and O. de Vel, \\n  Comparison of Classifiers in High Dimensional Settings, \\n  Tech. Rep. no. 92-02, (1992), Dept. of Computer Science and Dept. of  \\n  Mathematics and Statistics, James Cook University of North Queensland. \\n  (Also submitted to Technometrics). \\n\\n  The data was used with many others for comparing various \\n  classifiers. The classes are separable, though only RDA \\n  has achieved 100% correct classification. \\n  (RDA : 100%, QDA 99.4%, LDA 98.9%, 1NN 96.1% (z-transformed data)) \\n  (All results using the leave-one-out technique) \\n\\n  (2) S. Aeberhard, D. Coomans and O. de Vel, \\n  \"THE CLASSIFICATION PERFORMANCE OF RDA\" \\n  Tech. Rep. no. 92-01, (1992), Dept. of Computer Science and Dept. of \\n  Mathematics and Statistics, James Cook University of North Queensland. \\n  (Also submitted to Journal of Chemometrics).\\n',\n",
       " 'feature_names': ['alcohol',\n",
       "  'malic_acid',\n",
       "  'ash',\n",
       "  'alcalinity_of_ash',\n",
       "  'magnesium',\n",
       "  'total_phenols',\n",
       "  'flavanoids',\n",
       "  'nonflavanoid_phenols',\n",
       "  'proanthocyanins',\n",
       "  'color_intensity',\n",
       "  'hue',\n",
       "  'od280/od315_of_diluted_wines',\n",
       "  'proline']}"
      ]
     },
     "execution_count": 28,
     "metadata": {},
     "output_type": "execute_result"
    }
   ],
   "source": [
    "data=dt.load_wine()\n",
    "data"
   ]
  },
  {
   "cell_type": "code",
   "execution_count": 29,
   "metadata": {},
   "outputs": [
    {
     "data": {
      "text/html": [
       "<div>\n",
       "<style scoped>\n",
       "    .dataframe tbody tr th:only-of-type {\n",
       "        vertical-align: middle;\n",
       "    }\n",
       "\n",
       "    .dataframe tbody tr th {\n",
       "        vertical-align: top;\n",
       "    }\n",
       "\n",
       "    .dataframe thead th {\n",
       "        text-align: right;\n",
       "    }\n",
       "</style>\n",
       "<table border=\"1\" class=\"dataframe\">\n",
       "  <thead>\n",
       "    <tr style=\"text-align: right;\">\n",
       "      <th></th>\n",
       "      <th>alcohol</th>\n",
       "      <th>malic_acid</th>\n",
       "      <th>ash</th>\n",
       "      <th>alcalinity_of_ash</th>\n",
       "      <th>magnesium</th>\n",
       "      <th>total_phenols</th>\n",
       "      <th>flavanoids</th>\n",
       "      <th>nonflavanoid_phenols</th>\n",
       "      <th>proanthocyanins</th>\n",
       "      <th>color_intensity</th>\n",
       "      <th>hue</th>\n",
       "      <th>od280/od315_of_diluted_wines</th>\n",
       "      <th>proline</th>\n",
       "    </tr>\n",
       "  </thead>\n",
       "  <tbody>\n",
       "    <tr>\n",
       "      <th>0</th>\n",
       "      <td>14.23</td>\n",
       "      <td>1.71</td>\n",
       "      <td>2.43</td>\n",
       "      <td>15.6</td>\n",
       "      <td>127.0</td>\n",
       "      <td>2.80</td>\n",
       "      <td>3.06</td>\n",
       "      <td>0.28</td>\n",
       "      <td>2.29</td>\n",
       "      <td>5.64</td>\n",
       "      <td>1.04</td>\n",
       "      <td>3.92</td>\n",
       "      <td>1065.0</td>\n",
       "    </tr>\n",
       "    <tr>\n",
       "      <th>1</th>\n",
       "      <td>13.20</td>\n",
       "      <td>1.78</td>\n",
       "      <td>2.14</td>\n",
       "      <td>11.2</td>\n",
       "      <td>100.0</td>\n",
       "      <td>2.65</td>\n",
       "      <td>2.76</td>\n",
       "      <td>0.26</td>\n",
       "      <td>1.28</td>\n",
       "      <td>4.38</td>\n",
       "      <td>1.05</td>\n",
       "      <td>3.40</td>\n",
       "      <td>1050.0</td>\n",
       "    </tr>\n",
       "    <tr>\n",
       "      <th>2</th>\n",
       "      <td>13.16</td>\n",
       "      <td>2.36</td>\n",
       "      <td>2.67</td>\n",
       "      <td>18.6</td>\n",
       "      <td>101.0</td>\n",
       "      <td>2.80</td>\n",
       "      <td>3.24</td>\n",
       "      <td>0.30</td>\n",
       "      <td>2.81</td>\n",
       "      <td>5.68</td>\n",
       "      <td>1.03</td>\n",
       "      <td>3.17</td>\n",
       "      <td>1185.0</td>\n",
       "    </tr>\n",
       "    <tr>\n",
       "      <th>3</th>\n",
       "      <td>14.37</td>\n",
       "      <td>1.95</td>\n",
       "      <td>2.50</td>\n",
       "      <td>16.8</td>\n",
       "      <td>113.0</td>\n",
       "      <td>3.85</td>\n",
       "      <td>3.49</td>\n",
       "      <td>0.24</td>\n",
       "      <td>2.18</td>\n",
       "      <td>7.80</td>\n",
       "      <td>0.86</td>\n",
       "      <td>3.45</td>\n",
       "      <td>1480.0</td>\n",
       "    </tr>\n",
       "    <tr>\n",
       "      <th>4</th>\n",
       "      <td>13.24</td>\n",
       "      <td>2.59</td>\n",
       "      <td>2.87</td>\n",
       "      <td>21.0</td>\n",
       "      <td>118.0</td>\n",
       "      <td>2.80</td>\n",
       "      <td>2.69</td>\n",
       "      <td>0.39</td>\n",
       "      <td>1.82</td>\n",
       "      <td>4.32</td>\n",
       "      <td>1.04</td>\n",
       "      <td>2.93</td>\n",
       "      <td>735.0</td>\n",
       "    </tr>\n",
       "  </tbody>\n",
       "</table>\n",
       "</div>"
      ],
      "text/plain": [
       "   alcohol  malic_acid   ash  alcalinity_of_ash  magnesium  total_phenols  \\\n",
       "0    14.23        1.71  2.43               15.6      127.0           2.80   \n",
       "1    13.20        1.78  2.14               11.2      100.0           2.65   \n",
       "2    13.16        2.36  2.67               18.6      101.0           2.80   \n",
       "3    14.37        1.95  2.50               16.8      113.0           3.85   \n",
       "4    13.24        2.59  2.87               21.0      118.0           2.80   \n",
       "\n",
       "   flavanoids  nonflavanoid_phenols  proanthocyanins  color_intensity   hue  \\\n",
       "0        3.06                  0.28             2.29             5.64  1.04   \n",
       "1        2.76                  0.26             1.28             4.38  1.05   \n",
       "2        3.24                  0.30             2.81             5.68  1.03   \n",
       "3        3.49                  0.24             2.18             7.80  0.86   \n",
       "4        2.69                  0.39             1.82             4.32  1.04   \n",
       "\n",
       "   od280/od315_of_diluted_wines  proline  \n",
       "0                          3.92   1065.0  \n",
       "1                          3.40   1050.0  \n",
       "2                          3.17   1185.0  \n",
       "3                          3.45   1480.0  \n",
       "4                          2.93    735.0  "
      ]
     },
     "execution_count": 29,
     "metadata": {},
     "output_type": "execute_result"
    }
   ],
   "source": [
    "datap=pd.DataFrame(data.data)\n",
    "datap.columns=data.feature_names\n",
    "datap.head()"
   ]
  },
  {
   "cell_type": "code",
   "execution_count": 30,
   "metadata": {},
   "outputs": [
    {
     "data": {
      "text/plain": [
       "((133, 13), (133,), (45, 13), (45,))"
      ]
     },
     "execution_count": 30,
     "metadata": {},
     "output_type": "execute_result"
    }
   ],
   "source": [
    "X_train,X_test,Y_train,Y_test=train_test_split(data.data,data.target,test_size=0.25,random_state=1)\n",
    "X_train.shape,Y_train.shape,X_test.shape,Y_test.shape"
   ]
  },
  {
   "cell_type": "code",
   "execution_count": 31,
   "metadata": {},
   "outputs": [
    {
     "data": {
      "text/plain": [
       "array([[ 0.90198917,  0.71991626,  0.65266032,  0.1101257 ,  0.60200384,\n",
       "        -0.6783373 , -1.40471749,  1.09581558, -1.30687304,  0.35194497,\n",
       "         0.00715988, -1.04948696, -0.20774963],\n",
       "       [-0.70141002, -0.69509156, -0.6281718 ,  0.87938612,  0.67499063,\n",
       "        -0.40826851,  0.11679186, -0.24204762,  0.0813091 , -1.24785068,\n",
       "         0.43227776,  0.53841059, -1.31734984],\n",
       "       [ 0.83886322,  0.58270338,  0.72585073, -1.3668543 ,  1.25888497,\n",
       "         0.70377943,  1.05157539, -1.66352726,  0.16699936,  0.02528513,\n",
       "         0.00715988,  1.09556762,  0.33876987],\n",
       "       [-0.96653901, -1.05527536, -2.23836076, -0.87452763,  3.81342268,\n",
       "        -0.6465645 , -0.68871309, -1.91437661,  1.60659565, -0.91700289,\n",
       "         1.36753711,  0.69162877, -0.08188454],\n",
       "       [ 1.00299069, -0.44639321,  1.16499317, -0.78221638,  1.18589817,\n",
       "         1.1803714 ,  0.81290725,  0.17603463,  0.20127546,  0.52783873,\n",
       "         0.72986028,  0.49662381,  2.09425677],\n",
       "       [ 0.64948536,  1.00291782, -0.6281718 , -0.04372638, -0.78474521,\n",
       "        -1.01195168, -1.48427354,  1.76474718, -1.16976863,  0.27656193,\n",
       "        -0.63051694, -1.04948696, -0.53897358],\n",
       "       [-1.53467258,  0.22251957,  2.04327806,  0.1101257 ,  0.31005667,\n",
       "        -0.80542849,  0.05712483,  1.93198007, -0.87842176, -0.51914795,\n",
       "         1.15497816, -0.10232   , -0.44954311],\n",
       "       [ 1.77312731, -0.47212063,  0.06713707, -2.35150764,  0.23706988,\n",
       "         1.65696338,  1.65819023, -0.66012987,  2.394946  ,  1.03039234,\n",
       "         1.0274428 ,  0.59412629,  2.66396195],\n",
       "       [-0.77716116,  1.20873714,  0.06713707,  0.41782987, -0.78474521,\n",
       "         0.06832346, -1.04671529,  1.09581558, -0.89555981,  1.09321154,\n",
       "        -1.69331165, -1.38378119, -0.73770794],\n",
       "       [-0.3226543 , -0.57503029, -0.29881497,  0.87938612, -1.07669237,\n",
       "        -1.39322526, -0.21137682,  0.92858268,  0.1155852 , -0.72854529,\n",
       "        -0.33293443, -0.21375141, -0.8436996 ],\n",
       "       [ 1.44487236, -0.80657702, -0.15243416, -0.87452763, -0.27383766,\n",
       "        -0.09054053,  0.45490505, -0.91097922,  0.0127569 , -0.01659434,\n",
       "         0.89990743,  0.34340562,  1.77959402],\n",
       "       [ 0.3338556 ,  0.14533733,  1.86030204,  0.41782987,  1.40485855,\n",
       "         0.86264342,  0.7134622 ,  0.17603463,  0.44120817, -0.30137472,\n",
       "         0.34725419,  0.49662381, -0.02557647],\n",
       "       [-0.95391382, -0.96951731, -1.54305189, -0.19757847, -0.49279804,\n",
       "         0.16364186,  0.06706933,  0.17603463,  0.8867975 , -0.97982209,\n",
       "        -0.417958  ,  0.62198414, -1.42665374],\n",
       "       [ 1.14186779, -0.45496902,  0.83563634, -1.42839514,  0.16408309,\n",
       "         1.57753138,  1.57863418, -1.66352726,  0.23555156,  0.16348737,\n",
       "        -0.33293443,  1.37414614,  1.16682973],\n",
       "       [-1.43367106, -1.31254951,  0.79904114, -0.50528263, -0.34682445,\n",
       "        -0.09054053,  0.23612593, -1.24544501,  1.34952488, -0.83324395,\n",
       "        -0.71554052,  0.7055577 , -0.73770794],\n",
       "       [-1.97655425, -1.44118658,  0.50627951,  0.41782987, -0.78474521,\n",
       "         0.35427865,  0.03723582,  0.42688398, -0.21003777, -0.82068011,\n",
       "         0.60232492, -0.3669696 , -1.02256053],\n",
       "       [ 0.16972812, -0.44639321,  1.4211596 ,  1.80249862,  1.25888497,\n",
       "        -0.09054053, -0.68871309, -0.91097922, -0.00438116,  0.86287447,\n",
       "        -1.48075271, -1.73200433, -1.05237069],\n",
       "       [ 0.63686017, -0.52357546,  0.17692268,  0.26397779,  0.0910963 ,\n",
       "         0.70377943,  1.00185286, -0.91097922,  0.50976038,  0.02528513,\n",
       "         0.34725419,  1.24878581,  0.58718783],\n",
       "       [-0.70141002,  0.11103411, -0.33541017,  0.72553404, -0.63877162,\n",
       "        -0.91663329, -0.13182078,  2.43367877, -0.24431387, -0.97982209,\n",
       "        -0.417958  ,  1.01199407, -1.41671702],\n",
       "       [ 0.76311207, -0.65221253, -0.00605334, -0.16680805,  0.52901705,\n",
       "         0.95796181,  1.21068748, -1.24544501,  0.66400284,  0.77911554,\n",
       "         0.55981313,  0.42697918,  2.55797029],\n",
       "       [ 1.07874183, -0.66078834,  0.87223154, -0.75144597, -0.34682445,\n",
       "         0.30661945,  1.01179736, -1.24544501,  1.24669658,  0.23468246,\n",
       "         1.19748995,  1.10949655,  1.72991043],\n",
       "       [-0.68878482, -0.763698  , -0.26221977,  0.57168195, -0.93071879,\n",
       "         0.76732502,  1.17090945,  0.17603463,  0.35551792, -0.4605167 ,\n",
       "        -1.1406584 ,  0.37126348, -1.29416417],\n",
       "       [-0.14590164, -0.91806248, -0.15243416, -0.50528263,  1.69680572,\n",
       "        -1.18670207, -0.71854661, -1.32906146, -1.06694033, -0.39350955,\n",
       "        -0.84307589, -1.78772004, -0.37336161],\n",
       "       [ 0.01822584, -0.64363673,  0.87223154,  3.18716738,  2.93758118,\n",
       "         1.65696338,  0.91235231, -1.32906146,  0.68114089, -0.70760555,\n",
       "         1.49507247,  1.29057258,  0.80248339],\n",
       "       [ 0.73786169, -0.60933351, -0.18902936, -1.05915013,  1.33187176,\n",
       "         1.41866739,  1.31013253, -0.24204762,  1.33238683,  0.45664364,\n",
       "        -0.03535191,  1.12342547,  0.1731579 ],\n",
       "       [-0.15852683,  0.72849206,  0.79904114,  0.72553404,  0.52901705,\n",
       "        -0.96429248, -1.36493947,  1.93198007, -1.03266422,  0.22630657,\n",
       "        -0.37544621, -0.64554811, -0.57209597],\n",
       "       [ 1.16711817, -0.63506092, -0.88433823, -1.12069097,  0.16408309,\n",
       "         1.33923539,  1.40957759, -1.32906146,  0.98962581,  0.4440798 ,\n",
       "        -0.20539906,  1.05378084,  0.80248339],\n",
       "       [ 1.31862045, -0.63506092, -0.5549814 , -1.12069097, -0.20085087,\n",
       "         0.62434743,  0.35546   , -0.91097922,  0.71541699, -0.14223274,\n",
       "         0.34725419,  1.41593292,  0.96809536],\n",
       "       [ 1.67212578, -0.4292416 ,  1.31137399,  0.1101257 ,  1.55083213,\n",
       "         0.86264342,  1.16096495, -0.32566407,  0.69827894,  0.48595926,\n",
       "         0.47478955,  0.10661388,  1.77959402],\n",
       "       [-0.13327645,  1.87764992,  0.4330891 ,  0.57168195, -0.93071879,\n",
       "        -0.88486049, -1.31521694,  0.84496623, -1.20404473,  1.09321154,\n",
       "        -1.77833523, -0.99377126, -0.3899228 ],\n",
       "       [-0.86553749, -0.86660765, -1.39667108, -1.12069097, -1.00370558,\n",
       "         0.46548344,  0.52451659, -0.66012987,  0.35551792, -0.89606315,\n",
       "         1.15497816,  0.23197422, -1.04243397],\n",
       "       [ 0.63686017, -0.64363673,  1.01861236,  0.87938612, -0.71175841,\n",
       "         0.54491544, -0.86771419,  1.26304848,  1.24669658,  2.8102697 ,\n",
       "        -1.65079986, -1.10520267, -0.406484  ],\n",
       "       [-0.23427797,  0.21394376,  0.4330891 ,  0.72553404,  0.9669378 ,\n",
       "        -1.23436127, -0.60915704, -1.07821211, -0.51852269,  2.41241476,\n",
       "        -2.03340596, -1.53699937, -0.87019752],\n",
       "       [ 1.54587388, -0.56645448,  0.32330349, -1.3668543 ,  0.9669378 ,\n",
       "         1.60930418,  1.40957759, -0.24204762,  0.69827894,  0.71629633,\n",
       "         0.38976597,  0.3851924 ,  2.34267473],\n",
       "       [-1.92605349, -0.01760297,  0.21351788,  0.1101257 , -0.20085087,\n",
       "         1.02150741,  0.81290725, -0.40928052,  0.45834622, -0.74948502,\n",
       "        -0.67302873,  1.1373544 , -0.3899228 ],\n",
       "       [-1.71142525, -0.36921097, -0.29881497, -0.50528263, -0.05487729,\n",
       "         1.2121442 ,  0.28584846, -1.66352726, -0.36428023, -0.74948502,\n",
       "         0.85739565,  0.53841059, -1.31734984],\n",
       "       [-1.23166801, -0.78084961,  0.21351788,  0.72553404, -0.93071879,\n",
       "        -1.28202047, -0.71854661,  1.09581558,  0.1155852 , -0.60290688,\n",
       "         0.38976597,  0.10661388, -0.9695647 ],\n",
       "       [-0.3226543 , -0.52357546, -0.5915766 , -0.2591193 , -0.93071879,\n",
       "        -0.09054053,  0.55435011, -0.91097922,  0.35551792, -0.47726848,\n",
       "         0.85739565,  0.78913125, -0.09513349],\n",
       "       [-1.13066649, -0.88375926,  0.50627951,  0.87938612, -1.07669237,\n",
       "         0.48136984,  0.31568197,  0.51050043, -0.89555981, -0.89606315,\n",
       "        -0.12037548,  0.85877588, -1.18486026],\n",
       "       [ 1.41962198, -0.34348355,  0.14032747, -0.2591193 ,  0.31005667,\n",
       "         0.78321142,  0.94218583, -0.40928052,  1.40093904,  0.48595926,\n",
       "         0.47478955,  0.24590314,  1.05090135],\n",
       "       [ 0.96511512, -0.64363673, -0.40860058, -0.9976093 ,  1.40485855,\n",
       "         0.54491544,  0.92229681, -1.32906146,  0.09844715,  0.33938113,\n",
       "        -0.16288727,  0.87270481,  1.05090135],\n",
       "       [-0.76453597, -1.26967049, -3.6655737 , -2.78229347, -0.78474521,\n",
       "        -0.44004131, -1.39477299, -0.74374632, -1.95811898, -1.29391809,\n",
       "         0.38976597, -1.04948696, -0.73770794],\n",
       "       [ 0.95248993,  1.6632548 , -0.37200538,  0.87938612, -0.78474521,\n",
       "        -1.55208925, -1.49421804,  1.26304848, -0.70704125,  0.66185303,\n",
       "        -0.75805231, -1.14698945, -0.73770794],\n",
       "       [ 1.57112426,  1.34595001,  0.54287471, -1.98226264,  2.13472647,\n",
       "         1.1803714 ,  1.06151989, -1.41267791,  0.8867975 ,  0.02528513,\n",
       "        -0.29042264,  1.33235936,  0.05722952],\n",
       "       [ 1.57112426, -0.61790931, -0.22562456, -1.02837972,  1.40485855,\n",
       "         1.49809938,  1.02174187, -0.91097922,  0.80110725,  0.56134231,\n",
       "        -0.0778637 ,  1.02592299,  0.7527998 ]])"
      ]
     },
     "execution_count": 31,
     "metadata": {},
     "output_type": "execute_result"
    }
   ],
   "source": [
    "from sklearn.preprocessing import StandardScaler\n",
    "scaler=StandardScaler()\n",
    "scaler.fit(X_train)\n",
    "scaler.transform(X_train)\n",
    "scaler.transform(X_test)\n",
    "\n"
   ]
  },
  {
   "cell_type": "code",
   "execution_count": 32,
   "metadata": {},
   "outputs": [
    {
     "data": {
      "text/plain": [
       "RandomForestClassifier()"
      ]
     },
     "execution_count": 32,
     "metadata": {},
     "output_type": "execute_result"
    }
   ],
   "source": [
    "clf=RandomForestClassifier()\n",
    "clf.fit(X_train,Y_train)\n"
   ]
  },
  {
   "cell_type": "code",
   "execution_count": 33,
   "metadata": {},
   "outputs": [],
   "source": [
    "pred=clf.predict(X_test)"
   ]
  },
  {
   "cell_type": "code",
   "execution_count": 34,
   "metadata": {},
   "outputs": [
    {
     "data": {
      "text/plain": [
       "array([[18,  1,  0],\n",
       "       [ 0, 16,  0],\n",
       "       [ 0,  0, 10]], dtype=int64)"
      ]
     },
     "execution_count": 34,
     "metadata": {},
     "output_type": "execute_result"
    }
   ],
   "source": [
    "from sklearn.metrics import accuracy_score,confusion_matrix\n",
    "confusion_matrix(pred,Y_test)"
   ]
  },
  {
   "cell_type": "code",
   "execution_count": 35,
   "metadata": {},
   "outputs": [
    {
     "data": {
      "text/plain": [
       "0.9777777777777777"
      ]
     },
     "execution_count": 35,
     "metadata": {},
     "output_type": "execute_result"
    }
   ],
   "source": [
    "accuracy_score(pred,Y_test)"
   ]
  },
  {
   "cell_type": "code",
   "execution_count": 38,
   "metadata": {},
   "outputs": [
    {
     "data": {
      "text/plain": [
       "DecisionTreeClassifier()"
      ]
     },
     "execution_count": 38,
     "metadata": {},
     "output_type": "execute_result"
    }
   ],
   "source": [
    "clf2=DecisionTreeClassifier()\n",
    "clf2.fit(X_train,Y_train)"
   ]
  },
  {
   "cell_type": "code",
   "execution_count": 39,
   "metadata": {},
   "outputs": [],
   "source": [
    "pred=clf.predict(X_test)"
   ]
  },
  {
   "cell_type": "code",
   "execution_count": 40,
   "metadata": {},
   "outputs": [
    {
     "data": {
      "text/plain": [
       "array([[18,  1,  0],\n",
       "       [ 0, 16,  0],\n",
       "       [ 0,  0, 10]], dtype=int64)"
      ]
     },
     "execution_count": 40,
     "metadata": {},
     "output_type": "execute_result"
    }
   ],
   "source": [
    "confusion_matrix(pred,Y_test)"
   ]
  },
  {
   "cell_type": "code",
   "execution_count": 41,
   "metadata": {},
   "outputs": [
    {
     "data": {
      "text/plain": [
       "0.9777777777777777"
      ]
     },
     "execution_count": 41,
     "metadata": {},
     "output_type": "execute_result"
    }
   ],
   "source": [
    "accuracy_score(pred,Y_test)"
   ]
  },
  {
   "cell_type": "code",
   "execution_count": null,
   "metadata": {},
   "outputs": [],
   "source": []
  }
 ],
 "metadata": {
  "kernelspec": {
   "display_name": "Python 3",
   "language": "python",
   "name": "python3"
  },
  "language_info": {
   "codemirror_mode": {
    "name": "ipython",
    "version": 3
   },
   "file_extension": ".py",
   "mimetype": "text/x-python",
   "name": "python",
   "nbconvert_exporter": "python",
   "pygments_lexer": "ipython3",
   "version": "3.8.3"
  }
 },
 "nbformat": 4,
 "nbformat_minor": 4
}
