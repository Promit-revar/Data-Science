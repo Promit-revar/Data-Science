{
 "cells": [
  {
   "cell_type": "code",
   "execution_count": 49,
   "metadata": {},
   "outputs": [],
   "source": [
    "import numpy as np\n",
    "import pandas as pd\n",
    "from scipy.cluster.vq import kmeans,vq,whiten\n",
    "import seaborn as sns"
   ]
  },
  {
   "cell_type": "code",
   "execution_count": 45,
   "metadata": {},
   "outputs": [
    {
     "data": {
      "text/plain": [
       "matrix([[ 3,  0,  0,  3,  4,  3,  4,  1,  1,  1],\n",
       "        [ 8,  9,  9,  9,  6,  9,  5,  5,  7,  5],\n",
       "        [10, 12, 10, 12, 10, 10, 12, 12, 12, 12]])"
      ]
     },
     "execution_count": 45,
     "metadata": {},
     "output_type": "execute_result"
    }
   ],
   "source": [
    "data=np.matrix([np.random.randint(0,5,10),np.random.randint(5,10,10),np.random.randint(10,15,10)])\n",
    "data"
   ]
  },
  {
   "cell_type": "code",
   "execution_count": 46,
   "metadata": {},
   "outputs": [
    {
     "data": {
      "text/plain": [
       "array([[1.01904933, 0.        , 0.        , 0.80178373, 1.60356745,\n",
       "        0.97049496, 1.12390297, 0.21997067, 0.22237479, 0.21997067],\n",
       "       [2.71746488, 1.76504522, 2.00137315, 2.40535118, 2.40535118,\n",
       "        2.91148488, 1.40487872, 1.09985336, 1.55662356, 1.09985336],\n",
       "       [3.3968311 , 2.35339362, 2.22374795, 3.2071349 , 4.00891863,\n",
       "        3.2349832 , 3.37170892, 2.63964807, 2.66849754, 2.63964807]])"
      ]
     },
     "execution_count": 46,
     "metadata": {},
     "output_type": "execute_result"
    }
   ],
   "source": [
    "data=whiten(data)\n",
    "data"
   ]
  },
  {
   "cell_type": "code",
   "execution_count": 47,
   "metadata": {},
   "outputs": [
    {
     "data": {
      "text/plain": [
       "array([[1.01904933, 0.        , 0.        , 0.80178373, 1.60356745,\n",
       "        0.97049496, 1.12390297, 0.21997067, 0.22237479, 0.21997067],\n",
       "       [3.3968311 , 2.35339362, 2.22374795, 3.2071349 , 4.00891863,\n",
       "        3.2349832 , 3.37170892, 2.63964807, 2.66849754, 2.63964807],\n",
       "       [2.71746488, 1.76504522, 2.00137315, 2.40535118, 2.40535118,\n",
       "        2.91148488, 1.40487872, 1.09985336, 1.55662356, 1.09985336]])"
      ]
     },
     "execution_count": 47,
     "metadata": {},
     "output_type": "execute_result"
    }
   ],
   "source": [
    "cent,_=kmeans(data,3)\n",
    "cent"
   ]
  },
  {
   "cell_type": "code",
   "execution_count": 48,
   "metadata": {},
   "outputs": [
    {
     "data": {
      "text/plain": [
       "array([0, 2, 1])"
      ]
     },
     "execution_count": 48,
     "metadata": {},
     "output_type": "execute_result"
    }
   ],
   "source": [
    "clusters,_=vq(data,cent)\n",
    "clusters\n"
   ]
  },
  {
   "cell_type": "code",
   "execution_count": null,
   "metadata": {},
   "outputs": [],
   "source": []
  }
 ],
 "metadata": {
  "kernelspec": {
   "display_name": "Python 3",
   "language": "python",
   "name": "python3"
  },
  "language_info": {
   "codemirror_mode": {
    "name": "ipython",
    "version": 3
   },
   "file_extension": ".py",
   "mimetype": "text/x-python",
   "name": "python",
   "nbconvert_exporter": "python",
   "pygments_lexer": "ipython3",
   "version": "3.8.3"
  }
 },
 "nbformat": 4,
 "nbformat_minor": 4
}
